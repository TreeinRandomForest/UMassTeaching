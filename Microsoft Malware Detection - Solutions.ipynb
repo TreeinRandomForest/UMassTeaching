{
 "cells": [
  {
   "cell_type": "code",
   "execution_count": 1,
   "metadata": {},
   "outputs": [],
   "source": [
    "%load_ext autoreload\n",
    "%autoreload 2"
   ]
  },
  {
   "cell_type": "code",
   "execution_count": 57,
   "metadata": {},
   "outputs": [],
   "source": [
    "import pandas as pd\n",
    "import numpy as np\n",
    "import sys\n",
    "import matplotlib.pylab as plt\n",
    "import operator\n",
    "import copy\n",
    "import utils\n",
    "import multiprocessing as mp\n",
    "\n",
    "from scipy import sparse\n",
    "from sklearn.model_selection import train_test_split\n",
    "from sklearn.metrics import mutual_info_score\n",
    "from sklearn.metrics import roc_auc_score\n",
    "from sklearn.ensemble import RandomForestClassifier\n",
    "from sklearn.preprocessing import OneHotEncoder\n",
    "\n",
    "pd.set_option('display.width', 2000)"
   ]
  },
  {
   "cell_type": "code",
   "execution_count": 4,
   "metadata": {},
   "outputs": [
    {
     "name": "stdout",
     "output_type": "stream",
     "text": [
      "3.6.8 (default, Jan 31 2019, 09:38:34) \n",
      "[GCC 8.2.1 20181215 (Red Hat 8.2.1-6)]\n"
     ]
    }
   ],
   "source": [
    "print(sys.version)"
   ]
  },
  {
   "cell_type": "markdown",
   "metadata": {},
   "source": [
    "# Plan\n",
    "\n",
    "The dataset is from Microsoft's Malware Prediction Competition on Kaggle (https://www.kaggle.com/c/microsoft-malware-prediction). There are parameters/features for multiple machines and a flag inficating whether malware was detected (1) on the machine or not (0).\n",
    "\n",
    "The goal of this notebook and the associated scripts is to walk you through the process of exploring the data, preprocessing and building features for input into a machine learning model. Once the model is trained, we'll go over the process of tuning hyperparameters and very importantly, of inspecting the model to understand our data better. \n",
    "\n",
    "Lastly, we'll have some cursory treatment of ensembling or combining models to produce better performing models.\n",
    "\n",
    "**Disclaimers**\n",
    "\n",
    "1. There is a lot more to be said for each of the steps above but in our opinion, the best way to learn is to build as many models as possible with careful inspection.\n",
    "\n",
    "2. We do not cover the details of each modeling technique - random forests, logistic regression, support vector machines, neural networks to name a few. There is great documentation already available and we are happy to walk through the details in person. Depending on your interests, you might want to go deep into mathematical results or just apply the algorithms. The abstractions are leaky though - one cannot treat these algorithms as black boxes which takes data in and produce outputs/predictions. Each technique makes certain assumptions and it's important to ensure the input data reflects those.\n",
    "\n",
    "3. We want to put this workshop into a broader context:\n",
    "\n",
    "The hardest part in industrial/applied data science is defining the problem to solve. This sounds very vague but every single company or research field for that matter, suffers from this issue. For machine learning to be relevant, the problems needs to 1) have relevant data available in reasonable quantities, 2) be operationalizable i.e. one should be able to act on the recommendations of the model, 3) have a \"statistical component\" to it. As a counterexample, suppose the problem is to sort arrays. Would you collect data on N (1 million) arrays i.e. input arrays and output sorted arrays and feed it to a machine learning algorithm or would you use a sorting algorithm with performance guarantees that work in every single case?\n",
    "\n",
    "Once a problem is identified, a lot of initial effort is spent in engineering pipelines and frameworks so one can fruitfully enter the iteration loop of model development (the notebook below). The loop consists of picking the quantity to predict, deciding on a metric to evaluate how well the model does, preprocessing the data for a modeling technique and training the model, validating the model on new data and then repeating the process till one achieves acceptable performance.\n",
    "\n",
    "Kaggle competitions only focus on the last bit of building an extremely well performing model. While in practice, one might be happy with a model that has 70% accuracy, in a competition, users will fight to increase it to 70.001%. This has resulted in several tricks and techniques to extract small gains at the cost of very complex models. We'll cover some of those techniques here (ensembling) and it's definitely a useful skill to know but often not needed.\n"
   ]
  },
  {
   "cell_type": "markdown",
   "metadata": {},
   "source": [
    "\n",
    "# Read Data"
   ]
  },
  {
   "cell_type": "markdown",
   "metadata": {},
   "source": [
    "#### Question: Read the data from the provided csv files. For exploration, you can use the \"skiprows\" argument to read in a randomly selected sample of data.\n",
    "\n",
    "Do the following:\n",
    "\n",
    "1. Count the number of rows and columns in the dataframe\n",
    "2. Look at the first few rows of the data and specific columns\n",
    "3. Print out a list of the columns\n",
    "\n",
    "What can you say about:\n",
    "1. the \"MachineIdentifier\" column\n",
    "2. the \"HasDetections\" column, in particular the distribution of the values"
   ]
  },
  {
   "cell_type": "code",
   "execution_count": 5,
   "metadata": {},
   "outputs": [
    {
     "name": "stderr",
     "output_type": "stream",
     "text": [
      "/home/sanjay/.local/lib/python3.6/site-packages/IPython/core/interactiveshell.py:3020: DtypeWarning: Columns (29) have mixed types. Specify dtype option on import or set low_memory=False.\n",
      "  interactivity=interactivity, compiler=compiler, result=result)\n"
     ]
    }
   ],
   "source": [
    "#read data\n",
    "data = pd.read_csv('train_sample.csv')"
   ]
  },
  {
   "cell_type": "code",
   "execution_count": 6,
   "metadata": {},
   "outputs": [
    {
     "data": {
      "text/plain": [
       "(446074, 84)"
      ]
     },
     "execution_count": 6,
     "metadata": {},
     "output_type": "execute_result"
    }
   ],
   "source": [
    "#(nrows, ncols)\n",
    "data.shape"
   ]
  },
  {
   "cell_type": "code",
   "execution_count": 7,
   "metadata": {},
   "outputs": [
    {
     "data": {
      "text/html": [
       "<div>\n",
       "<style scoped>\n",
       "    .dataframe tbody tr th:only-of-type {\n",
       "        vertical-align: middle;\n",
       "    }\n",
       "\n",
       "    .dataframe tbody tr th {\n",
       "        vertical-align: top;\n",
       "    }\n",
       "\n",
       "    .dataframe thead th {\n",
       "        text-align: right;\n",
       "    }\n",
       "</style>\n",
       "<table border=\"1\" class=\"dataframe\">\n",
       "  <thead>\n",
       "    <tr style=\"text-align: right;\">\n",
       "      <th></th>\n",
       "      <th>Unnamed: 0</th>\n",
       "      <th>MachineIdentifier</th>\n",
       "      <th>ProductName</th>\n",
       "      <th>EngineVersion</th>\n",
       "      <th>AppVersion</th>\n",
       "      <th>AvSigVersion</th>\n",
       "      <th>IsBeta</th>\n",
       "      <th>RtpStateBitfield</th>\n",
       "      <th>IsSxsPassiveMode</th>\n",
       "      <th>DefaultBrowsersIdentifier</th>\n",
       "      <th>...</th>\n",
       "      <th>Census_FirmwareVersionIdentifier</th>\n",
       "      <th>Census_IsSecureBootEnabled</th>\n",
       "      <th>Census_IsWIMBootEnabled</th>\n",
       "      <th>Census_IsVirtualDevice</th>\n",
       "      <th>Census_IsTouchEnabled</th>\n",
       "      <th>Census_IsPenCapable</th>\n",
       "      <th>Census_IsAlwaysOnAlwaysConnectedCapable</th>\n",
       "      <th>Wdft_IsGamer</th>\n",
       "      <th>Wdft_RegionIdentifier</th>\n",
       "      <th>HasDetections</th>\n",
       "    </tr>\n",
       "  </thead>\n",
       "  <tbody>\n",
       "    <tr>\n",
       "      <th>0</th>\n",
       "      <td>4899047</td>\n",
       "      <td>8c994f076d6b6f3f9f980c6e38f690a6</td>\n",
       "      <td>win8defender</td>\n",
       "      <td>1.1.15200.1</td>\n",
       "      <td>4.18.1807.18075</td>\n",
       "      <td>1.275.1075.0</td>\n",
       "      <td>0</td>\n",
       "      <td>7.0</td>\n",
       "      <td>0</td>\n",
       "      <td>NaN</td>\n",
       "      <td>...</td>\n",
       "      <td>64575.0</td>\n",
       "      <td>1</td>\n",
       "      <td>0.0</td>\n",
       "      <td>0.0</td>\n",
       "      <td>0</td>\n",
       "      <td>0</td>\n",
       "      <td>0.0</td>\n",
       "      <td>0.0</td>\n",
       "      <td>10.0</td>\n",
       "      <td>1</td>\n",
       "    </tr>\n",
       "    <tr>\n",
       "      <th>1</th>\n",
       "      <td>56085</td>\n",
       "      <td>019f09bd919fae2be3901b726e5b1032</td>\n",
       "      <td>win8defender</td>\n",
       "      <td>1.1.15200.1</td>\n",
       "      <td>4.18.1807.18075</td>\n",
       "      <td>1.275.1244.0</td>\n",
       "      <td>0</td>\n",
       "      <td>7.0</td>\n",
       "      <td>0</td>\n",
       "      <td>NaN</td>\n",
       "      <td>...</td>\n",
       "      <td>20877.0</td>\n",
       "      <td>0</td>\n",
       "      <td>0.0</td>\n",
       "      <td>0.0</td>\n",
       "      <td>0</td>\n",
       "      <td>0</td>\n",
       "      <td>0.0</td>\n",
       "      <td>0.0</td>\n",
       "      <td>3.0</td>\n",
       "      <td>1</td>\n",
       "    </tr>\n",
       "    <tr>\n",
       "      <th>2</th>\n",
       "      <td>27978</td>\n",
       "      <td>00cf5dcc2ebb328433b4a6a375637616</td>\n",
       "      <td>win8defender</td>\n",
       "      <td>1.1.15200.1</td>\n",
       "      <td>4.18.1807.18075</td>\n",
       "      <td>1.275.1552.0</td>\n",
       "      <td>0</td>\n",
       "      <td>7.0</td>\n",
       "      <td>0</td>\n",
       "      <td>NaN</td>\n",
       "      <td>...</td>\n",
       "      <td>33800.0</td>\n",
       "      <td>0</td>\n",
       "      <td>0.0</td>\n",
       "      <td>0.0</td>\n",
       "      <td>0</td>\n",
       "      <td>0</td>\n",
       "      <td>0.0</td>\n",
       "      <td>0.0</td>\n",
       "      <td>15.0</td>\n",
       "      <td>0</td>\n",
       "    </tr>\n",
       "    <tr>\n",
       "      <th>3</th>\n",
       "      <td>4339404</td>\n",
       "      <td>7c8bc66201ec62eafd5b55d8178bda0e</td>\n",
       "      <td>win8defender</td>\n",
       "      <td>1.1.15200.1</td>\n",
       "      <td>4.18.1807.18075</td>\n",
       "      <td>1.275.1669.0</td>\n",
       "      <td>0</td>\n",
       "      <td>7.0</td>\n",
       "      <td>0</td>\n",
       "      <td>NaN</td>\n",
       "      <td>...</td>\n",
       "      <td>46784.0</td>\n",
       "      <td>0</td>\n",
       "      <td>NaN</td>\n",
       "      <td>0.0</td>\n",
       "      <td>0</td>\n",
       "      <td>0</td>\n",
       "      <td>0.0</td>\n",
       "      <td>0.0</td>\n",
       "      <td>6.0</td>\n",
       "      <td>0</td>\n",
       "    </tr>\n",
       "    <tr>\n",
       "      <th>4</th>\n",
       "      <td>5380320</td>\n",
       "      <td>9a6d6baf30596c6d5041d203d1860c8d</td>\n",
       "      <td>win8defender</td>\n",
       "      <td>1.1.15100.1</td>\n",
       "      <td>4.18.1806.18062</td>\n",
       "      <td>1.273.1863.0</td>\n",
       "      <td>0</td>\n",
       "      <td>7.0</td>\n",
       "      <td>0</td>\n",
       "      <td>NaN</td>\n",
       "      <td>...</td>\n",
       "      <td>33118.0</td>\n",
       "      <td>1</td>\n",
       "      <td>0.0</td>\n",
       "      <td>0.0</td>\n",
       "      <td>0</td>\n",
       "      <td>0</td>\n",
       "      <td>0.0</td>\n",
       "      <td>0.0</td>\n",
       "      <td>10.0</td>\n",
       "      <td>0</td>\n",
       "    </tr>\n",
       "    <tr>\n",
       "      <th>5</th>\n",
       "      <td>3327973</td>\n",
       "      <td>5f7ce1bc16515d69e6fdf154181e9486</td>\n",
       "      <td>mse</td>\n",
       "      <td>1.1.15200.1</td>\n",
       "      <td>4.10.209.0</td>\n",
       "      <td>1.275.1318.0</td>\n",
       "      <td>0</td>\n",
       "      <td>7.0</td>\n",
       "      <td>0</td>\n",
       "      <td>NaN</td>\n",
       "      <td>...</td>\n",
       "      <td>9377.0</td>\n",
       "      <td>0</td>\n",
       "      <td>0.0</td>\n",
       "      <td>0.0</td>\n",
       "      <td>0</td>\n",
       "      <td>0</td>\n",
       "      <td>0.0</td>\n",
       "      <td>0.0</td>\n",
       "      <td>13.0</td>\n",
       "      <td>0</td>\n",
       "    </tr>\n",
       "    <tr>\n",
       "      <th>6</th>\n",
       "      <td>8379999</td>\n",
       "      <td>f074ee545bcb3e341f7737dffd572370</td>\n",
       "      <td>win8defender</td>\n",
       "      <td>1.1.15100.1</td>\n",
       "      <td>4.8.10240.17914</td>\n",
       "      <td>1.273.1589.0</td>\n",
       "      <td>0</td>\n",
       "      <td>7.0</td>\n",
       "      <td>0</td>\n",
       "      <td>NaN</td>\n",
       "      <td>...</td>\n",
       "      <td>58938.0</td>\n",
       "      <td>0</td>\n",
       "      <td>0.0</td>\n",
       "      <td>0.0</td>\n",
       "      <td>0</td>\n",
       "      <td>0</td>\n",
       "      <td>0.0</td>\n",
       "      <td>0.0</td>\n",
       "      <td>10.0</td>\n",
       "      <td>1</td>\n",
       "    </tr>\n",
       "    <tr>\n",
       "      <th>7</th>\n",
       "      <td>1769083</td>\n",
       "      <td>32c5a98565dd3485aab8689cb61e0a92</td>\n",
       "      <td>win8defender</td>\n",
       "      <td>1.1.15200.1</td>\n",
       "      <td>4.8.10240.17443</td>\n",
       "      <td>1.275.1129.0</td>\n",
       "      <td>0</td>\n",
       "      <td>7.0</td>\n",
       "      <td>0</td>\n",
       "      <td>NaN</td>\n",
       "      <td>...</td>\n",
       "      <td>3344.0</td>\n",
       "      <td>1</td>\n",
       "      <td>0.0</td>\n",
       "      <td>0.0</td>\n",
       "      <td>0</td>\n",
       "      <td>0</td>\n",
       "      <td>0.0</td>\n",
       "      <td>0.0</td>\n",
       "      <td>1.0</td>\n",
       "      <td>1</td>\n",
       "    </tr>\n",
       "    <tr>\n",
       "      <th>8</th>\n",
       "      <td>8884461</td>\n",
       "      <td>fef0e36fe8c64ac6a0b85bc8b544ec6b</td>\n",
       "      <td>win8defender</td>\n",
       "      <td>1.1.15100.1</td>\n",
       "      <td>4.12.16299.15</td>\n",
       "      <td>1.273.1486.0</td>\n",
       "      <td>0</td>\n",
       "      <td>7.0</td>\n",
       "      <td>0</td>\n",
       "      <td>1536.0</td>\n",
       "      <td>...</td>\n",
       "      <td>52060.0</td>\n",
       "      <td>0</td>\n",
       "      <td>NaN</td>\n",
       "      <td>0.0</td>\n",
       "      <td>0</td>\n",
       "      <td>0</td>\n",
       "      <td>0.0</td>\n",
       "      <td>0.0</td>\n",
       "      <td>11.0</td>\n",
       "      <td>0</td>\n",
       "    </tr>\n",
       "    <tr>\n",
       "      <th>9</th>\n",
       "      <td>8174706</td>\n",
       "      <td>ea9001f64630b0a01d6259107b3d79a7</td>\n",
       "      <td>win8defender</td>\n",
       "      <td>1.1.15200.1</td>\n",
       "      <td>4.18.1806.18062</td>\n",
       "      <td>1.275.108.0</td>\n",
       "      <td>0</td>\n",
       "      <td>7.0</td>\n",
       "      <td>0</td>\n",
       "      <td>NaN</td>\n",
       "      <td>...</td>\n",
       "      <td>3835.0</td>\n",
       "      <td>0</td>\n",
       "      <td>NaN</td>\n",
       "      <td>0.0</td>\n",
       "      <td>0</td>\n",
       "      <td>0</td>\n",
       "      <td>0.0</td>\n",
       "      <td>0.0</td>\n",
       "      <td>10.0</td>\n",
       "      <td>0</td>\n",
       "    </tr>\n",
       "  </tbody>\n",
       "</table>\n",
       "<p>10 rows × 84 columns</p>\n",
       "</div>"
      ],
      "text/plain": [
       "   Unnamed: 0                 MachineIdentifier   ProductName EngineVersion       AppVersion  AvSigVersion  IsBeta  RtpStateBitfield  IsSxsPassiveMode  DefaultBrowsersIdentifier  ...  Census_FirmwareVersionIdentifier  Census_IsSecureBootEnabled  Census_IsWIMBootEnabled  Census_IsVirtualDevice  Census_IsTouchEnabled  Census_IsPenCapable  Census_IsAlwaysOnAlwaysConnectedCapable  Wdft_IsGamer  Wdft_RegionIdentifier HasDetections\n",
       "0     4899047  8c994f076d6b6f3f9f980c6e38f690a6  win8defender   1.1.15200.1  4.18.1807.18075  1.275.1075.0       0               7.0                 0                        NaN  ...                           64575.0                           1                      0.0                     0.0                      0                    0                                      0.0           0.0                   10.0             1\n",
       "1       56085  019f09bd919fae2be3901b726e5b1032  win8defender   1.1.15200.1  4.18.1807.18075  1.275.1244.0       0               7.0                 0                        NaN  ...                           20877.0                           0                      0.0                     0.0                      0                    0                                      0.0           0.0                    3.0             1\n",
       "2       27978  00cf5dcc2ebb328433b4a6a375637616  win8defender   1.1.15200.1  4.18.1807.18075  1.275.1552.0       0               7.0                 0                        NaN  ...                           33800.0                           0                      0.0                     0.0                      0                    0                                      0.0           0.0                   15.0             0\n",
       "3     4339404  7c8bc66201ec62eafd5b55d8178bda0e  win8defender   1.1.15200.1  4.18.1807.18075  1.275.1669.0       0               7.0                 0                        NaN  ...                           46784.0                           0                      NaN                     0.0                      0                    0                                      0.0           0.0                    6.0             0\n",
       "4     5380320  9a6d6baf30596c6d5041d203d1860c8d  win8defender   1.1.15100.1  4.18.1806.18062  1.273.1863.0       0               7.0                 0                        NaN  ...                           33118.0                           1                      0.0                     0.0                      0                    0                                      0.0           0.0                   10.0             0\n",
       "5     3327973  5f7ce1bc16515d69e6fdf154181e9486           mse   1.1.15200.1       4.10.209.0  1.275.1318.0       0               7.0                 0                        NaN  ...                            9377.0                           0                      0.0                     0.0                      0                    0                                      0.0           0.0                   13.0             0\n",
       "6     8379999  f074ee545bcb3e341f7737dffd572370  win8defender   1.1.15100.1  4.8.10240.17914  1.273.1589.0       0               7.0                 0                        NaN  ...                           58938.0                           0                      0.0                     0.0                      0                    0                                      0.0           0.0                   10.0             1\n",
       "7     1769083  32c5a98565dd3485aab8689cb61e0a92  win8defender   1.1.15200.1  4.8.10240.17443  1.275.1129.0       0               7.0                 0                        NaN  ...                            3344.0                           1                      0.0                     0.0                      0                    0                                      0.0           0.0                    1.0             1\n",
       "8     8884461  fef0e36fe8c64ac6a0b85bc8b544ec6b  win8defender   1.1.15100.1    4.12.16299.15  1.273.1486.0       0               7.0                 0                     1536.0  ...                           52060.0                           0                      NaN                     0.0                      0                    0                                      0.0           0.0                   11.0             0\n",
       "9     8174706  ea9001f64630b0a01d6259107b3d79a7  win8defender   1.1.15200.1  4.18.1806.18062   1.275.108.0       0               7.0                 0                        NaN  ...                            3835.0                           0                      NaN                     0.0                      0                    0                                      0.0           0.0                   10.0             0\n",
       "\n",
       "[10 rows x 84 columns]"
      ]
     },
     "execution_count": 7,
     "metadata": {},
     "output_type": "execute_result"
    }
   ],
   "source": [
    "#first 10 rows\n",
    "data.head(10)"
   ]
  },
  {
   "cell_type": "code",
   "execution_count": 9,
   "metadata": {},
   "outputs": [],
   "source": [
    "#removing a column\n",
    "data.drop('Unnamed: 0', axis=1, inplace=True)"
   ]
  },
  {
   "cell_type": "code",
   "execution_count": 10,
   "metadata": {},
   "outputs": [
    {
     "data": {
      "text/plain": [
       "0    8c994f076d6b6f3f9f980c6e38f690a6\n",
       "1    019f09bd919fae2be3901b726e5b1032\n",
       "2    00cf5dcc2ebb328433b4a6a375637616\n",
       "3    7c8bc66201ec62eafd5b55d8178bda0e\n",
       "4    9a6d6baf30596c6d5041d203d1860c8d\n",
       "5    5f7ce1bc16515d69e6fdf154181e9486\n",
       "6    f074ee545bcb3e341f7737dffd572370\n",
       "7    32c5a98565dd3485aab8689cb61e0a92\n",
       "8    fef0e36fe8c64ac6a0b85bc8b544ec6b\n",
       "9    ea9001f64630b0a01d6259107b3d79a7\n",
       "Name: MachineIdentifier, dtype: object"
      ]
     },
     "execution_count": 10,
     "metadata": {},
     "output_type": "execute_result"
    }
   ],
   "source": [
    "#access column's first 10 rows\n",
    "data['MachineIdentifier'].head(10)"
   ]
  },
  {
   "cell_type": "code",
   "execution_count": 128,
   "metadata": {},
   "outputs": [
    {
     "ename": "KeyError",
     "evalue": "'MachineIdentifier'",
     "output_type": "error",
     "traceback": [
      "\u001b[0;31m---------------------------------------------------------------------------\u001b[0m",
      "\u001b[0;31mKeyError\u001b[0m                                  Traceback (most recent call last)",
      "\u001b[0;32m~/.local/lib/python3.6/site-packages/pandas/core/indexes/base.py\u001b[0m in \u001b[0;36mget_loc\u001b[0;34m(self, key, method, tolerance)\u001b[0m\n\u001b[1;32m   2655\u001b[0m             \u001b[0;32mtry\u001b[0m\u001b[0;34m:\u001b[0m\u001b[0;34m\u001b[0m\u001b[0;34m\u001b[0m\u001b[0m\n\u001b[0;32m-> 2656\u001b[0;31m                 \u001b[0;32mreturn\u001b[0m \u001b[0mself\u001b[0m\u001b[0;34m.\u001b[0m\u001b[0m_engine\u001b[0m\u001b[0;34m.\u001b[0m\u001b[0mget_loc\u001b[0m\u001b[0;34m(\u001b[0m\u001b[0mkey\u001b[0m\u001b[0;34m)\u001b[0m\u001b[0;34m\u001b[0m\u001b[0;34m\u001b[0m\u001b[0m\n\u001b[0m\u001b[1;32m   2657\u001b[0m             \u001b[0;32mexcept\u001b[0m \u001b[0mKeyError\u001b[0m\u001b[0;34m:\u001b[0m\u001b[0;34m\u001b[0m\u001b[0;34m\u001b[0m\u001b[0m\n",
      "\u001b[0;32mpandas/_libs/index.pyx\u001b[0m in \u001b[0;36mpandas._libs.index.IndexEngine.get_loc\u001b[0;34m()\u001b[0m\n",
      "\u001b[0;32mpandas/_libs/index.pyx\u001b[0m in \u001b[0;36mpandas._libs.index.IndexEngine.get_loc\u001b[0;34m()\u001b[0m\n",
      "\u001b[0;32mpandas/_libs/hashtable_class_helper.pxi\u001b[0m in \u001b[0;36mpandas._libs.hashtable.PyObjectHashTable.get_item\u001b[0;34m()\u001b[0m\n",
      "\u001b[0;32mpandas/_libs/hashtable_class_helper.pxi\u001b[0m in \u001b[0;36mpandas._libs.hashtable.PyObjectHashTable.get_item\u001b[0;34m()\u001b[0m\n",
      "\u001b[0;31mKeyError\u001b[0m: 'MachineIdentifier'",
      "\nDuring handling of the above exception, another exception occurred:\n",
      "\u001b[0;31mKeyError\u001b[0m                                  Traceback (most recent call last)",
      "\u001b[0;32m<ipython-input-128-4d581c5b1e42>\u001b[0m in \u001b[0;36m<module>\u001b[0;34m\u001b[0m\n\u001b[1;32m      1\u001b[0m \u001b[0;31m#set MachineIdentifier as index\u001b[0m\u001b[0;34m\u001b[0m\u001b[0;34m\u001b[0m\u001b[0;34m\u001b[0m\u001b[0m\n\u001b[0;32m----> 2\u001b[0;31m \u001b[0mprint\u001b[0m\u001b[0;34m(\u001b[0m\u001b[0;34m'Unique Machine Identifier Values: '\u001b[0m\u001b[0;34m,\u001b[0m \u001b[0mlen\u001b[0m\u001b[0;34m(\u001b[0m\u001b[0mdata\u001b[0m\u001b[0;34m[\u001b[0m\u001b[0;34m'MachineIdentifier'\u001b[0m\u001b[0;34m]\u001b[0m\u001b[0;34m.\u001b[0m\u001b[0munique\u001b[0m\u001b[0;34m(\u001b[0m\u001b[0;34m)\u001b[0m\u001b[0;34m)\u001b[0m\u001b[0;34m)\u001b[0m\u001b[0;34m\u001b[0m\u001b[0;34m\u001b[0m\u001b[0m\n\u001b[0m\u001b[1;32m      3\u001b[0m \u001b[0mprint\u001b[0m\u001b[0;34m(\u001b[0m\u001b[0;34m'Number of records '\u001b[0m\u001b[0;34m,\u001b[0m \u001b[0mdata\u001b[0m\u001b[0;34m.\u001b[0m\u001b[0mshape\u001b[0m\u001b[0;34m[\u001b[0m\u001b[0;36m0\u001b[0m\u001b[0;34m]\u001b[0m\u001b[0;34m)\u001b[0m\u001b[0;34m\u001b[0m\u001b[0;34m\u001b[0m\u001b[0m\n\u001b[1;32m      4\u001b[0m \u001b[0;34m\u001b[0m\u001b[0m\n\u001b[1;32m      5\u001b[0m \u001b[0mdata\u001b[0m\u001b[0;34m.\u001b[0m\u001b[0mset_index\u001b[0m\u001b[0;34m(\u001b[0m\u001b[0;34m'MachineIdentifier'\u001b[0m\u001b[0;34m,\u001b[0m \u001b[0minplace\u001b[0m\u001b[0;34m=\u001b[0m\u001b[0;32mTrue\u001b[0m\u001b[0;34m)\u001b[0m\u001b[0;34m\u001b[0m\u001b[0;34m\u001b[0m\u001b[0m\n",
      "\u001b[0;32m~/.local/lib/python3.6/site-packages/pandas/core/frame.py\u001b[0m in \u001b[0;36m__getitem__\u001b[0;34m(self, key)\u001b[0m\n\u001b[1;32m   2925\u001b[0m             \u001b[0;32mif\u001b[0m \u001b[0mself\u001b[0m\u001b[0;34m.\u001b[0m\u001b[0mcolumns\u001b[0m\u001b[0;34m.\u001b[0m\u001b[0mnlevels\u001b[0m \u001b[0;34m>\u001b[0m \u001b[0;36m1\u001b[0m\u001b[0;34m:\u001b[0m\u001b[0;34m\u001b[0m\u001b[0;34m\u001b[0m\u001b[0m\n\u001b[1;32m   2926\u001b[0m                 \u001b[0;32mreturn\u001b[0m \u001b[0mself\u001b[0m\u001b[0;34m.\u001b[0m\u001b[0m_getitem_multilevel\u001b[0m\u001b[0;34m(\u001b[0m\u001b[0mkey\u001b[0m\u001b[0;34m)\u001b[0m\u001b[0;34m\u001b[0m\u001b[0;34m\u001b[0m\u001b[0m\n\u001b[0;32m-> 2927\u001b[0;31m             \u001b[0mindexer\u001b[0m \u001b[0;34m=\u001b[0m \u001b[0mself\u001b[0m\u001b[0;34m.\u001b[0m\u001b[0mcolumns\u001b[0m\u001b[0;34m.\u001b[0m\u001b[0mget_loc\u001b[0m\u001b[0;34m(\u001b[0m\u001b[0mkey\u001b[0m\u001b[0;34m)\u001b[0m\u001b[0;34m\u001b[0m\u001b[0;34m\u001b[0m\u001b[0m\n\u001b[0m\u001b[1;32m   2928\u001b[0m             \u001b[0;32mif\u001b[0m \u001b[0mis_integer\u001b[0m\u001b[0;34m(\u001b[0m\u001b[0mindexer\u001b[0m\u001b[0;34m)\u001b[0m\u001b[0;34m:\u001b[0m\u001b[0;34m\u001b[0m\u001b[0;34m\u001b[0m\u001b[0m\n\u001b[1;32m   2929\u001b[0m                 \u001b[0mindexer\u001b[0m \u001b[0;34m=\u001b[0m \u001b[0;34m[\u001b[0m\u001b[0mindexer\u001b[0m\u001b[0;34m]\u001b[0m\u001b[0;34m\u001b[0m\u001b[0;34m\u001b[0m\u001b[0m\n",
      "\u001b[0;32m~/.local/lib/python3.6/site-packages/pandas/core/indexes/base.py\u001b[0m in \u001b[0;36mget_loc\u001b[0;34m(self, key, method, tolerance)\u001b[0m\n\u001b[1;32m   2656\u001b[0m                 \u001b[0;32mreturn\u001b[0m \u001b[0mself\u001b[0m\u001b[0;34m.\u001b[0m\u001b[0m_engine\u001b[0m\u001b[0;34m.\u001b[0m\u001b[0mget_loc\u001b[0m\u001b[0;34m(\u001b[0m\u001b[0mkey\u001b[0m\u001b[0;34m)\u001b[0m\u001b[0;34m\u001b[0m\u001b[0;34m\u001b[0m\u001b[0m\n\u001b[1;32m   2657\u001b[0m             \u001b[0;32mexcept\u001b[0m \u001b[0mKeyError\u001b[0m\u001b[0;34m:\u001b[0m\u001b[0;34m\u001b[0m\u001b[0;34m\u001b[0m\u001b[0m\n\u001b[0;32m-> 2658\u001b[0;31m                 \u001b[0;32mreturn\u001b[0m \u001b[0mself\u001b[0m\u001b[0;34m.\u001b[0m\u001b[0m_engine\u001b[0m\u001b[0;34m.\u001b[0m\u001b[0mget_loc\u001b[0m\u001b[0;34m(\u001b[0m\u001b[0mself\u001b[0m\u001b[0;34m.\u001b[0m\u001b[0m_maybe_cast_indexer\u001b[0m\u001b[0;34m(\u001b[0m\u001b[0mkey\u001b[0m\u001b[0;34m)\u001b[0m\u001b[0;34m)\u001b[0m\u001b[0;34m\u001b[0m\u001b[0;34m\u001b[0m\u001b[0m\n\u001b[0m\u001b[1;32m   2659\u001b[0m         \u001b[0mindexer\u001b[0m \u001b[0;34m=\u001b[0m \u001b[0mself\u001b[0m\u001b[0;34m.\u001b[0m\u001b[0mget_indexer\u001b[0m\u001b[0;34m(\u001b[0m\u001b[0;34m[\u001b[0m\u001b[0mkey\u001b[0m\u001b[0;34m]\u001b[0m\u001b[0;34m,\u001b[0m \u001b[0mmethod\u001b[0m\u001b[0;34m=\u001b[0m\u001b[0mmethod\u001b[0m\u001b[0;34m,\u001b[0m \u001b[0mtolerance\u001b[0m\u001b[0;34m=\u001b[0m\u001b[0mtolerance\u001b[0m\u001b[0;34m)\u001b[0m\u001b[0;34m\u001b[0m\u001b[0;34m\u001b[0m\u001b[0m\n\u001b[1;32m   2660\u001b[0m         \u001b[0;32mif\u001b[0m \u001b[0mindexer\u001b[0m\u001b[0;34m.\u001b[0m\u001b[0mndim\u001b[0m \u001b[0;34m>\u001b[0m \u001b[0;36m1\u001b[0m \u001b[0;32mor\u001b[0m \u001b[0mindexer\u001b[0m\u001b[0;34m.\u001b[0m\u001b[0msize\u001b[0m \u001b[0;34m>\u001b[0m \u001b[0;36m1\u001b[0m\u001b[0;34m:\u001b[0m\u001b[0;34m\u001b[0m\u001b[0;34m\u001b[0m\u001b[0m\n",
      "\u001b[0;32mpandas/_libs/index.pyx\u001b[0m in \u001b[0;36mpandas._libs.index.IndexEngine.get_loc\u001b[0;34m()\u001b[0m\n",
      "\u001b[0;32mpandas/_libs/index.pyx\u001b[0m in \u001b[0;36mpandas._libs.index.IndexEngine.get_loc\u001b[0;34m()\u001b[0m\n",
      "\u001b[0;32mpandas/_libs/hashtable_class_helper.pxi\u001b[0m in \u001b[0;36mpandas._libs.hashtable.PyObjectHashTable.get_item\u001b[0;34m()\u001b[0m\n",
      "\u001b[0;32mpandas/_libs/hashtable_class_helper.pxi\u001b[0m in \u001b[0;36mpandas._libs.hashtable.PyObjectHashTable.get_item\u001b[0;34m()\u001b[0m\n",
      "\u001b[0;31mKeyError\u001b[0m: 'MachineIdentifier'"
     ]
    }
   ],
   "source": [
    "#set MachineIdentifier as index\n",
    "print('Unique Machine Identifier Values: ', len(data['MachineIdentifier'].unique()))\n",
    "print('Number of records ', data.shape[0])\n",
    "\n",
    "data.set_index('MachineIdentifier', inplace=True)"
   ]
  },
  {
   "cell_type": "code",
   "execution_count": 129,
   "metadata": {},
   "outputs": [
    {
     "data": {
      "text/html": [
       "<div>\n",
       "<style scoped>\n",
       "    .dataframe tbody tr th:only-of-type {\n",
       "        vertical-align: middle;\n",
       "    }\n",
       "\n",
       "    .dataframe tbody tr th {\n",
       "        vertical-align: top;\n",
       "    }\n",
       "\n",
       "    .dataframe thead th {\n",
       "        text-align: right;\n",
       "    }\n",
       "</style>\n",
       "<table border=\"1\" class=\"dataframe\">\n",
       "  <thead>\n",
       "    <tr style=\"text-align: right;\">\n",
       "      <th></th>\n",
       "      <th>ProductName</th>\n",
       "      <th>EngineVersion</th>\n",
       "      <th>AppVersion</th>\n",
       "      <th>AvSigVersion</th>\n",
       "      <th>IsBeta</th>\n",
       "      <th>RtpStateBitfield</th>\n",
       "      <th>IsSxsPassiveMode</th>\n",
       "      <th>DefaultBrowsersIdentifier</th>\n",
       "      <th>AVProductStatesIdentifier</th>\n",
       "      <th>AVProductsInstalled</th>\n",
       "      <th>...</th>\n",
       "      <th>Census_FirmwareVersionIdentifier</th>\n",
       "      <th>Census_IsSecureBootEnabled</th>\n",
       "      <th>Census_IsWIMBootEnabled</th>\n",
       "      <th>Census_IsVirtualDevice</th>\n",
       "      <th>Census_IsTouchEnabled</th>\n",
       "      <th>Census_IsPenCapable</th>\n",
       "      <th>Census_IsAlwaysOnAlwaysConnectedCapable</th>\n",
       "      <th>Wdft_IsGamer</th>\n",
       "      <th>Wdft_RegionIdentifier</th>\n",
       "      <th>HasDetections</th>\n",
       "    </tr>\n",
       "    <tr>\n",
       "      <th>MachineIdentifier</th>\n",
       "      <th></th>\n",
       "      <th></th>\n",
       "      <th></th>\n",
       "      <th></th>\n",
       "      <th></th>\n",
       "      <th></th>\n",
       "      <th></th>\n",
       "      <th></th>\n",
       "      <th></th>\n",
       "      <th></th>\n",
       "      <th></th>\n",
       "      <th></th>\n",
       "      <th></th>\n",
       "      <th></th>\n",
       "      <th></th>\n",
       "      <th></th>\n",
       "      <th></th>\n",
       "      <th></th>\n",
       "      <th></th>\n",
       "      <th></th>\n",
       "      <th></th>\n",
       "    </tr>\n",
       "  </thead>\n",
       "  <tbody>\n",
       "    <tr>\n",
       "      <th>8c994f076d6b6f3f9f980c6e38f690a6</th>\n",
       "      <td>win8defender</td>\n",
       "      <td>1.1.15200.1</td>\n",
       "      <td>4.18.1807.18075</td>\n",
       "      <td>1.275.1075.0</td>\n",
       "      <td>0</td>\n",
       "      <td>7.0</td>\n",
       "      <td>0</td>\n",
       "      <td>NaN</td>\n",
       "      <td>53447.0</td>\n",
       "      <td>1.0</td>\n",
       "      <td>...</td>\n",
       "      <td>64575.0</td>\n",
       "      <td>1</td>\n",
       "      <td>0.0</td>\n",
       "      <td>0.0</td>\n",
       "      <td>0</td>\n",
       "      <td>0</td>\n",
       "      <td>0.0</td>\n",
       "      <td>0.0</td>\n",
       "      <td>10.0</td>\n",
       "      <td>1</td>\n",
       "    </tr>\n",
       "    <tr>\n",
       "      <th>019f09bd919fae2be3901b726e5b1032</th>\n",
       "      <td>win8defender</td>\n",
       "      <td>1.1.15200.1</td>\n",
       "      <td>4.18.1807.18075</td>\n",
       "      <td>1.275.1244.0</td>\n",
       "      <td>0</td>\n",
       "      <td>7.0</td>\n",
       "      <td>0</td>\n",
       "      <td>NaN</td>\n",
       "      <td>53447.0</td>\n",
       "      <td>1.0</td>\n",
       "      <td>...</td>\n",
       "      <td>20877.0</td>\n",
       "      <td>0</td>\n",
       "      <td>0.0</td>\n",
       "      <td>0.0</td>\n",
       "      <td>0</td>\n",
       "      <td>0</td>\n",
       "      <td>0.0</td>\n",
       "      <td>0.0</td>\n",
       "      <td>3.0</td>\n",
       "      <td>1</td>\n",
       "    </tr>\n",
       "    <tr>\n",
       "      <th>00cf5dcc2ebb328433b4a6a375637616</th>\n",
       "      <td>win8defender</td>\n",
       "      <td>1.1.15200.1</td>\n",
       "      <td>4.18.1807.18075</td>\n",
       "      <td>1.275.1552.0</td>\n",
       "      <td>0</td>\n",
       "      <td>7.0</td>\n",
       "      <td>0</td>\n",
       "      <td>NaN</td>\n",
       "      <td>47892.0</td>\n",
       "      <td>2.0</td>\n",
       "      <td>...</td>\n",
       "      <td>33800.0</td>\n",
       "      <td>0</td>\n",
       "      <td>0.0</td>\n",
       "      <td>0.0</td>\n",
       "      <td>0</td>\n",
       "      <td>0</td>\n",
       "      <td>0.0</td>\n",
       "      <td>0.0</td>\n",
       "      <td>15.0</td>\n",
       "      <td>0</td>\n",
       "    </tr>\n",
       "    <tr>\n",
       "      <th>7c8bc66201ec62eafd5b55d8178bda0e</th>\n",
       "      <td>win8defender</td>\n",
       "      <td>1.1.15200.1</td>\n",
       "      <td>4.18.1807.18075</td>\n",
       "      <td>1.275.1669.0</td>\n",
       "      <td>0</td>\n",
       "      <td>7.0</td>\n",
       "      <td>0</td>\n",
       "      <td>NaN</td>\n",
       "      <td>53447.0</td>\n",
       "      <td>1.0</td>\n",
       "      <td>...</td>\n",
       "      <td>46784.0</td>\n",
       "      <td>0</td>\n",
       "      <td>NaN</td>\n",
       "      <td>0.0</td>\n",
       "      <td>0</td>\n",
       "      <td>0</td>\n",
       "      <td>0.0</td>\n",
       "      <td>0.0</td>\n",
       "      <td>6.0</td>\n",
       "      <td>0</td>\n",
       "    </tr>\n",
       "    <tr>\n",
       "      <th>9a6d6baf30596c6d5041d203d1860c8d</th>\n",
       "      <td>win8defender</td>\n",
       "      <td>1.1.15100.1</td>\n",
       "      <td>4.18.1806.18062</td>\n",
       "      <td>1.273.1863.0</td>\n",
       "      <td>0</td>\n",
       "      <td>7.0</td>\n",
       "      <td>0</td>\n",
       "      <td>NaN</td>\n",
       "      <td>43807.0</td>\n",
       "      <td>2.0</td>\n",
       "      <td>...</td>\n",
       "      <td>33118.0</td>\n",
       "      <td>1</td>\n",
       "      <td>0.0</td>\n",
       "      <td>0.0</td>\n",
       "      <td>0</td>\n",
       "      <td>0</td>\n",
       "      <td>0.0</td>\n",
       "      <td>0.0</td>\n",
       "      <td>10.0</td>\n",
       "      <td>0</td>\n",
       "    </tr>\n",
       "  </tbody>\n",
       "</table>\n",
       "<p>5 rows × 82 columns</p>\n",
       "</div>"
      ],
      "text/plain": [
       "                                   ProductName EngineVersion       AppVersion  AvSigVersion  IsBeta  RtpStateBitfield  IsSxsPassiveMode  DefaultBrowsersIdentifier  AVProductStatesIdentifier  AVProductsInstalled  ...  Census_FirmwareVersionIdentifier  Census_IsSecureBootEnabled  Census_IsWIMBootEnabled  Census_IsVirtualDevice  Census_IsTouchEnabled  Census_IsPenCapable  Census_IsAlwaysOnAlwaysConnectedCapable Wdft_IsGamer Wdft_RegionIdentifier HasDetections\n",
       "MachineIdentifier                                                                                                                                                                                                   ...                                                                                                                                                                                                                                                     \n",
       "8c994f076d6b6f3f9f980c6e38f690a6  win8defender   1.1.15200.1  4.18.1807.18075  1.275.1075.0       0               7.0                 0                        NaN                    53447.0                  1.0  ...                           64575.0                           1                      0.0                     0.0                      0                    0                                      0.0          0.0                  10.0             1\n",
       "019f09bd919fae2be3901b726e5b1032  win8defender   1.1.15200.1  4.18.1807.18075  1.275.1244.0       0               7.0                 0                        NaN                    53447.0                  1.0  ...                           20877.0                           0                      0.0                     0.0                      0                    0                                      0.0          0.0                   3.0             1\n",
       "00cf5dcc2ebb328433b4a6a375637616  win8defender   1.1.15200.1  4.18.1807.18075  1.275.1552.0       0               7.0                 0                        NaN                    47892.0                  2.0  ...                           33800.0                           0                      0.0                     0.0                      0                    0                                      0.0          0.0                  15.0             0\n",
       "7c8bc66201ec62eafd5b55d8178bda0e  win8defender   1.1.15200.1  4.18.1807.18075  1.275.1669.0       0               7.0                 0                        NaN                    53447.0                  1.0  ...                           46784.0                           0                      NaN                     0.0                      0                    0                                      0.0          0.0                   6.0             0\n",
       "9a6d6baf30596c6d5041d203d1860c8d  win8defender   1.1.15100.1  4.18.1806.18062  1.273.1863.0       0               7.0                 0                        NaN                    43807.0                  2.0  ...                           33118.0                           1                      0.0                     0.0                      0                    0                                      0.0          0.0                  10.0             0\n",
       "\n",
       "[5 rows x 82 columns]"
      ]
     },
     "execution_count": 129,
     "metadata": {},
     "output_type": "execute_result"
    }
   ],
   "source": [
    "data.head()"
   ]
  },
  {
   "cell_type": "code",
   "execution_count": 130,
   "metadata": {},
   "outputs": [
    {
     "name": "stdout",
     "output_type": "stream",
     "text": [
      "ProductName : 4\n",
      "EngineVersion : 53\n",
      "AppVersion : 91\n",
      "AvSigVersion : 6327\n",
      "IsBeta : 2\n",
      "RtpStateBitfield : 8\n",
      "IsSxsPassiveMode : 2\n",
      "DefaultBrowsersIdentifier : 534\n",
      "AVProductStatesIdentifier : 5123\n",
      "AVProductsInstalled : 8\n",
      "AVProductsEnabled : 6\n",
      "HasTpm : 2\n",
      "CountryIdentifier : 222\n",
      "CityIdentifier : 35186\n",
      "OrganizationIdentifier : 46\n",
      "GeoNameIdentifier : 265\n",
      "LocaleEnglishNameIdentifier : 228\n",
      "Platform : 4\n",
      "Processor : 3\n",
      "OsVer : 16\n",
      "OsBuild : 46\n",
      "OsSuite : 8\n",
      "OsPlatformSubRelease : 9\n",
      "OsBuildLab : 454\n",
      "SkuEdition : 8\n",
      "IsProtected : 3\n",
      "AutoSampleOptIn : 2\n",
      "PuaMode : 2\n",
      "SMode : 3\n",
      "IeVerIdentifier : 177\n",
      "SmartScreen : 13\n",
      "Firewall : 3\n",
      "UacLuaenable : 7\n",
      "Census_MDC2FormFactor : 11\n",
      "Census_DeviceFamily : 2\n",
      "Census_OEMNameIdentifier : 1526\n",
      "Census_OEMModelIdentifier : 38233\n",
      "Census_ProcessorCoreCount : 27\n",
      "Census_ProcessorManufacturerIdentifier : 5\n",
      "Census_ProcessorModelIdentifier : 2243\n",
      "Census_ProcessorClass : 4\n",
      "Census_PrimaryDiskTotalCapacity : 1047\n",
      "Census_PrimaryDiskTypeName : 5\n",
      "Census_SystemVolumeTotalCapacity : 132050\n",
      "Census_HasOpticalDiskDrive : 2\n",
      "Census_TotalPhysicalRAM : 517\n",
      "Census_ChassisTypeName : 33\n",
      "Census_InternalPrimaryDiagonalDisplaySizeInInches : 505\n",
      "Census_InternalPrimaryDisplayResolutionHorizontal : 458\n",
      "Census_InternalPrimaryDisplayResolutionVertical : 490\n",
      "Census_PowerPlatformRoleName : 10\n",
      "Census_InternalBatteryType : 27\n",
      "Census_InternalBatteryNumberOfCharges : 4766\n",
      "Census_OSVersion : 292\n",
      "Census_OSArchitecture : 3\n",
      "Census_OSBranch : 14\n",
      "Census_OSBuildNumber : 53\n",
      "Census_OSBuildRevision : 236\n",
      "Census_OSEdition : 24\n",
      "Census_OSSkuName : 23\n",
      "Census_OSInstallTypeName : 9\n",
      "Census_OSInstallLanguageIdentifier : 40\n",
      "Census_OSUILocaleIdentifier : 97\n",
      "Census_OSWUAutoUpdateOptionsName : 6\n",
      "Census_IsPortableOperatingSystem : 2\n",
      "Census_GenuineStateName : 4\n",
      "Census_ActivationChannel : 6\n",
      "Census_IsFlightingInternal : 3\n",
      "Census_IsFlightsDisabled : 3\n",
      "Census_FlightRing : 7\n",
      "Census_ThresholdOptIn : 3\n",
      "Census_FirmwareManufacturerIdentifier : 287\n",
      "Census_FirmwareVersionIdentifier : 22721\n",
      "Census_IsSecureBootEnabled : 2\n",
      "Census_IsWIMBootEnabled : 2\n",
      "Census_IsVirtualDevice : 3\n",
      "Census_IsTouchEnabled : 2\n",
      "Census_IsPenCapable : 2\n",
      "Census_IsAlwaysOnAlwaysConnectedCapable : 3\n",
      "Wdft_IsGamer : 3\n",
      "Wdft_RegionIdentifier : 16\n",
      "HasDetections : 2\n"
     ]
    }
   ],
   "source": [
    "#number of unique values for each column\n",
    "for col in data.columns:\n",
    "    print(f'{col} : {len(data[col].unique())}')"
   ]
  },
  {
   "cell_type": "markdown",
   "metadata": {},
   "source": [
    "Notes:\n",
    "\n",
    "   * No time-stamps - technically, one would expect a sequence of events before a machine is infected but this is data is a flat snapshot.\n",
    "    \n",
    "   * MachineIdentifier - primary key/index\n",
    "    \n",
    "   * HasDetections - binary target to predict (0 - not infected, 1 - infected) "
   ]
  },
  {
   "cell_type": "code",
   "execution_count": 131,
   "metadata": {},
   "outputs": [
    {
     "data": {
      "text/plain": [
       "1    223359\n",
       "0    222715\n",
       "Name: HasDetections, dtype: int64"
      ]
     },
     "execution_count": 131,
     "metadata": {},
     "output_type": "execute_result"
    }
   ],
   "source": [
    "#Distribution of target\n",
    "data['HasDetections'].value_counts()"
   ]
  },
  {
   "attachments": {
    "image.png": {
     "image/png": "[encoded data removed]"
    }
   },
   "cell_type": "markdown",
   "metadata": {},
   "source": [
    "**Labels have an even distributions (~50-50%)**\n",
    "\n",
    "The column we are predicting is often called the \"label\" or the \"target\". Targets can be of many kinds:\n",
    "\n",
    "1. Real (float) values - such machine learning problems are called **regression** problems. Examples - predict the value of homes based on neighborhood and macroeconomic quantities, predict the angle through which a steering wheel should be turned on a self-driving car based on environment inputs.\n",
    "\n",
    "2. Discrete values - these problems are called **classification** problems. In this case, we have two labels - 0 or 1. A key distinction from regression is that while numerically 1 > 0, in terms of class there's no meaning to the statement class 1 > class 0 and this has to get reflected in the type of model chosen. If there are two classes or categories to be predicted, the problems are often called **binary classfication** problems as opposed to **multi-class classification** problems consisting of > 2 categories. Examples - is a check fake or not based on the image, image labels based on pixels.\n",
    "\n",
    "For binary classification problems, a concern is the balance of the two labels i.e.the % of rows with 0s with 1s. If they are roughly equally distributed, then there's no problem. But what if they are not? Let's look at an extreme example.\n",
    "\n",
    "For many (supervised) anomaly/outlier detection problems (target = 0 is normal, target = 1 is anomalous), most of the dataset consists of 0s with very few 1s. For example - maybe 98% of the rows are normal and 2% are anomalous. Why is this a problem? Suppose we build/train a model that predicts whether a data-point (row) is normal or anomalous. But we decide to cheat - our \"model\" predicts every row is normal (0). What would the accuracy of such a model be?\n",
    "\n",
    "Correct - we got all the target = 0 (98%) predictions right.\n",
    "\n",
    "Incorrect - we got all the target = 1 (2%) predictions wrong.\n",
    "\n",
    "So, our accuracy is 98% which sounds great but we didn't really learn the ability to predict the anomalies!!!\n",
    "\n",
    "There are some common remedies to this *class imbalance* problem:\n",
    "\n",
    "1. Use a different metric:\n",
    "\n",
    "Instead of accuracy, use area under curve (see below) or look at the confusion matrix, or precision/recall curves which are all sensitive to the problem described above.\n",
    "\n",
    "2. Resampling: \n",
    "\n",
    "Take all the anomalous rows and randomly sample as many rows from the normal rows. While this leads to a 50-50% label split, we dramatically reduced the size of our dataset (4% of the original). A workaround for the small dataset size is to do this procedure multiple times and train a model on each instance. The outputs from all the models is then combined in a meta-model which often leads to much better results.\n",
    "\n",
    "Another approach is to keep the normal rows but sample with replacement from the anomalous rows. This will lead to a 50-50% split with each anomalous row repeated several times.\n",
    "\n",
    "As with many aspects of practical machine learning, there's no procedure. What you pick depends on the problem, how various modeling techniques work, as well as sometimes just trial and error with careful checking.\n",
    "\n",
    "3. Resampling by weights:\n",
    "\n",
    "A very elegant approach is to apply a weight of 1 to each normal row but a much higher weight (49 = 98/2) to each anomalous row. What does this mean? Most machine learning algorithms can be recast as optimization problems where:\n",
    "\n",
    "$C = \\Sigma_{i=1}^n C[i]$\n",
    "\n",
    "is some *cost* that is to be minimized. Each $C[i]$ is 0 when the prediction for the $i^{th}$ point agrees with the label and is high when it doesn't.\n",
    "\n",
    "This can be modified to:\n",
    "\n",
    "$C = \\Sigma_{i=1}^n w(i) C[i]$\n",
    "\n",
    "where $w(i)$ is a weight that is 1 for the large class (normal) and high for the small class (anomalous).\n",
    "\n",
    "Suppose we have a simple cost function: if the prediction for the ith row is correct, $C[i] = 0$ and if it's wrong, $C[i] = 1$. Without the weights, whether we get an anomalous row prediction incorrect or a normal row prediction incorrect, our cost increases by 1.\n",
    "\n",
    "But with the weights, if we get a normal row prediction incorrect, the cost increases by 1 but if we get an anomalous row prediction incorrect, it increases by $w(i)$ (49 in this case). This forces the algorithm to try and get the anomalous predictions correct too instead of ignoring them and focusing on the majority class of normal rows.\n",
    "\n",
    "**Note on probabilities by scores**\n",
    "\n",
    "For classification problems, most algorithms predict a number (**score**) between 0 and 1. It is very tempting to treat these as probabilities of belonging to target = 1 but this is often incorrect.\n",
    "\n",
    "One way to use these scores is to use them as they are and pick a threshold (see AUC below) t, such that a score > t signifies a prediction of 1 and a score <= t signifies a prediction of 0.\n",
    "\n",
    "In some applications though, we want to intepret the score as a probability. The act of transforming scores to probabilities is called *probability calibration*.\n",
    "\n",
    "![image.png](attachment:image.png)\n",
    "(from sklearn's documentation)"
   ]
  },
  {
   "cell_type": "markdown",
   "metadata": {},
   "source": [
    "# Measuring model performance"
   ]
  },
  {
   "attachments": {
    "image.png": {
     "image/png": "[encoded data removed]"
    }
   },
   "cell_type": "markdown",
   "metadata": {},
   "source": [
    "The metric we use for this competition is \"Area under ROC curve\" (AUC = area under curve). This is a number between 0 and 1 where\n",
    "\n",
    "AUC = 0.5 -> random guesses for HasDetections\n",
    "\n",
    "AUC = 1.0 -> perfect predictions\n",
    "\n",
    "The core idea is very simple. Suppose we have a binary classification problem with labels = 0 or 1. We build a model that predicts a score between 0 and 1 and based on some threshold, t, we want to make a hard prediction for each row. More precisely, if the score > t, prediction = 1 and if the score <= t, prediction = 0.\n",
    "\n",
    "$\\begin{array}{ c c c } \n",
    "\\text{row id} & \\text{score} & \\text{threshold=0.45}\\\\ \n",
    "1 & 0.2 & 0\\\\\n",
    "2 & 0.8 & 1 \\\\\n",
    "3 & 0.4 & 0\\\\\n",
    "\\vdots & \\vdots & \\vdots \\\\\n",
    "\\end{array}$\n",
    "\n",
    "What t should we pick? Before answering this question, let's define a **confusion matrix**.\n",
    "\n",
    "$\\begin{array}{ c c c } \n",
    " & \\text{actual 1} & \\text{actual 0}\\\\\n",
    "\\text{predicted 1} & TP & FP \\\\\n",
    "\\text{predicted 0} & FN & TN\\\\\n",
    "\\end{array}$\n",
    "\n",
    "where TP = true positive, FP = false positive, FN = false negative, TN = true negative. The names are confusing and don't matter. The crucial idea is there are two actual labels, two predicted labels, giving 4 categories and we have the number of data observations in each category.\n",
    "\n",
    "A handy way to remember what the various acronyms are:\n",
    "1. Positive and Negative always refers to the predicted category. ?P = all examples that were predicted to be positive, ?N = all examples that were predicted to be negative.\n",
    "\n",
    "2. True and False refers to the correctness of the prediction. So TP = all examples predicted to be positive and the True refers to the fact that these were correct predictions, hence the labels were also positive.\n",
    "\n",
    "For each threshold, we would get a table like the one above. We want as many elements on the diagonal (TP and TN) as possible and as few on the off-diagonal (FP and FN) as possible. Generally as one increases the threshold, the number of TP increase but at the cost of also increases FP.\n",
    "\n",
    "More precisely, define two fractions:\n",
    "\n",
    "$\\text{True Positive Rate} = \\frac{TP}{TP+FN}$\n",
    "\n",
    "$\\text{False Positive Rate} = \\frac{FP}{FP + TN}$\n",
    "\n",
    "In an ideal case, true positive rate would be 1 (only TP and no FN) and false positive rate would be 0 (only TN and no FP). But, there's always a tradeoff. As one increases the threshold, the true positive rate increases (good) but the false positive rate also increases (bad).\n",
    "\n",
    "Operationally, imagine you work in a hospital and have a medical test (could be a machine learning model) that predicts the probability that an incoming patient has the flu. You want to pick a threshold and send every patient with a probability > threshold to a special ward. What threshold should you pick?\n",
    "\n",
    "You don't know the actual values in the table above for the new patients. You only know the predicted ones. You want the maximize the % of patients who actually have the flu among the patients identified by the model. But this comes at the cost of leaking in patients who tested positive but don't actually have the flu.\n",
    "\n",
    "Depending on your hospital's tolerance for wasted time (and cost) on patients suspected of having the flu but not actually having it, you might change the threshold. This is the information encoded by the ROC curve.\n",
    "\n",
    "![image.png](attachment:image.png)\n",
    "\n",
    "Ideally, this curve would shoot up to the top-left corner (True Positive Rate = 1 and False Positive Rate = 0) but depending on the data and the model, it'll form an arc. As you increase the threshold, you travel across this curve starting from the top-right corner (True Positive Rate = 1 and False Positive Rate = 1) when the threshold = 0 to the bottom left corner when the threshold = 1.\n",
    "\n",
    "The area under this curve is the AUC. In the ideal case, it would be 1. If you were to make predictions by throwing a coin, it would be 0.5 (the diagonal line)."
   ]
  },
  {
   "cell_type": "markdown",
   "metadata": {},
   "source": [
    "# Validation\n",
    "\n",
    "We cannot just build a model on the train set and submit it. This usually results in overfitting i.e. a model memorizing answers instead of understanding statistical features and their relation to the output.\n",
    "\n",
    "To guard against this, a usual practice is cross-validation.\n",
    "\n",
    "There are a few common approaches:\n",
    "\n",
    "**Simple splits**:\n",
    "\n",
    "Split the data into a \"train\" set and a hold-out \"test\" set - maybe 60% is train and 40% is test. The model will be trained on the 60% and applied to the 40%. Since we know the labels (HasDetections) on both sets, we can evaluate how well we did.\n",
    "\n",
    "**Validation set**:\n",
    "\n",
    "The above approach has a problem. Often machine learning models have so-called hyperparameters i.e. parameters that are not optimized during fitting. Examples: linear regression with regularization have regularization strength, decision trees have tree depth (among others), neural networks have number of hidden layers, number of nodes in each layer, activation functions etc. \n",
    "\n",
    "We want to find the best possible model where \"best\" denotes the model with the highest AUC on the test set.\n",
    "\n",
    "How would one go about this? The straighforward approach is as follows:\n",
    "\n",
    "1. Pick a model class - say, random forests.\n",
    "2. Build the model on the train set and calculate the **test AUC** by applying it to the **test** set.\n",
    "3. Tweak the hyperparameters (say, number of trees) and repeat step 2 till **find maximum test AUC**.\n",
    "\n",
    "While this approach sounds reasonable, it'll also lead to overfitting. In particular, information about the test set \"leaks\" into the training process and the leaker is **us**! By looking at the test AUC, we make the decision to change the hyperparameter in the new model that is trained on the train set. We'll only change the parameters when it results in a better AUC and reject the change when it results in a worse AUC. Without realizing it, we are overfitting to the test dataset.\n",
    "\n",
    "So one will end up with excellent performance on the test set but when new data comes in, the model might suffer a drop in performance.\n",
    "\n",
    "**Golden Rule:** No information about the test set should ever touch the training process. This is called *leakage*.\n",
    "\n",
    "A common work-around this problem is to split the data into *3* pieces - \n",
    "\n",
    "**Train** set - data that the model is trained on\n",
    "\n",
    "**Validation** set - data to which model is applied to tune the hyperparameters\n",
    "\n",
    "**Test** set - once the final model (with the final hyperparameters) is picked, it is applied to the test set to really test performance\n",
    "\n",
    "**k-fold Cross Validation**:\n",
    "\n",
    "A problem with creating the validation set is that the data used for training might be severely diminished. For examples, maybe we'll choose train to be 60%, validation to be 20% and test to be 20% of the full data. Ideally, we would like to train with as much data as possible to get statistically accurate estimation of our model parameters.\n",
    "\n",
    "A work-around this problem is **k-fold cross-validation**.\n",
    "\n",
    "The idea is simple:\n",
    "\n",
    "1. Split the data into k equal pieces.\n",
    "\n",
    "2. Hold one of the pieces out and train on the remaining k-1 pieces.\n",
    "\n",
    "3. Evaluate the performance (AUC) on the 1 piece left out.\n",
    "\n",
    "For each piece that's left out, we'll have one AUC. So we'll eventually end up with k AUC scores. The final AUC is the average of these k AUCs.\n",
    "\n",
    "The advantage of this approach is that we don't need a validation set and we can use more data for training. The major disadvantage is that one now needs k training loops instead of just 1.\n",
    "\n",
    "**WARNING**: The data should be shuffled (and sklearn takes care of that) for all these splitting strategies. It is crucial to have randomly selected data in each set which results in the same probability distributions of the features in each set.\n",
    "\n",
    "Example: we don't want to build a model to control airplane surfaces based on calm wind conditions (train set) and apply it in turbulent situations (test set). Randomization ensures that both train and test have the same mix of calm and turbulent conditions.\n",
    "\n",
    "**WARNING**: Time-series datasets\n",
    "\n",
    "Suppose, one has a time-series dataset i.e. one column is a timestamp. In this case, one cannot randomly sample N% of the data and declare it to be train set. The best approach is to sort by time and pick the first N% to be train and the rest to be test. In particular, each set should be continuous in time with no gaps. This is driven in large part by the fact that time-series data observations are **NOT independent**. Unlike multiple measurements in a static dataset, in time-series, each observation at time t is inextricably linked to the observations at time t-1, t-2, etc. \n",
    "\n",
    "As an example, consider the often attacked problem of predicting a financial time-series, say the S&P 500 index. Suppose, we have data from the year 2000 to 2019 and suppose the train data is from 2000-2010 and test is from 2011-2019. Since the index has hit values in test that were never reached in train, the distributions are fundamentally different in the two datasets. Machine learning techniques assume that the distributions are the same and they are a key assumption in theoretical results. One then has to preprocess the data to align the two distributions. A common approach is to look at percent returns ($V_t$ is the raw S&P 500 time-series):\n",
    "\n",
    "$p_t = \\frac{V_t - V_{t-1}}{V_t}$\n",
    "\n",
    "which to a rough approximation (but not very well), results in normally distributed returns which are more similar in train and test datasets and the task is then to predict these returns. Doing such \"difference\" also creates measurements that are more uncorrelated i.e. $p_t$ and $p_{t-1}$ are more uncorrelated than $V_t$ and $V_{t-1}$."
   ]
  },
  {
   "cell_type": "markdown",
   "metadata": {},
   "source": [
    "#### Question: Split the data into a train and test set. For convenience, pick ~60% of the data to be the train set.\n",
    "\n",
    "1. Persist/save the train, test sets to disk so one doesn't have to re-run this part again.\n",
    "2. Check distribution of HasDetections in both the train and test sets."
   ]
  },
  {
   "cell_type": "code",
   "execution_count": 161,
   "metadata": {},
   "outputs": [
    {
     "name": "stderr",
     "output_type": "stream",
     "text": [
      "/home/sanjay/.local/lib/python3.6/site-packages/sklearn/model_selection/_split.py:2179: FutureWarning: From version 0.21, test_size will always complement train_size unless both are specified.\n",
      "  FutureWarning)\n"
     ]
    }
   ],
   "source": [
    "execute=True #so don't accidentally trigger this cell\n",
    "\n",
    "if execute:\n",
    "    train, test = train_test_split(data, train_size=0.60)\n",
    "\n",
    "    #convert to pandas dataframes\n",
    "    train = pd.DataFrame(train, columns=data.columns)\n",
    "    test = pd.DataFrame(test, columns=data.columns)\n",
    "\n",
    "    #persist dataframes so don't need to re-run splitting each time\n",
    "    train.to_csv('data/cv_train.csv', index=True)\n",
    "    test.to_csv('data/cv_test.csv', index=True)"
   ]
  },
  {
   "cell_type": "code",
   "execution_count": 163,
   "metadata": {},
   "outputs": [
    {
     "name": "stderr",
     "output_type": "stream",
     "text": [
      "/home/sanjay/.local/lib/python3.6/site-packages/IPython/core/interactiveshell.py:3020: DtypeWarning: Columns (28) have mixed types. Specify dtype option on import or set low_memory=False.\n",
      "  interactivity=interactivity, compiler=compiler, result=result)\n"
     ]
    }
   ],
   "source": [
    "train = pd.read_csv('data/cv_train.csv', index_col='MachineIdentifier')\n",
    "test = pd.read_csv('data/cv_test.csv', index_col='MachineIdentifier')"
   ]
  },
  {
   "cell_type": "code",
   "execution_count": 164,
   "metadata": {},
   "outputs": [
    {
     "name": "stdout",
     "output_type": "stream",
     "text": [
      "Train: (267644, 82)\n",
      "Test : (178430, 82)\n"
     ]
    }
   ],
   "source": [
    "print('Train:', train.shape)\n",
    "print('Test :', test.shape)"
   ]
  },
  {
   "cell_type": "code",
   "execution_count": 165,
   "metadata": {},
   "outputs": [
    {
     "data": {
      "text/plain": [
       "1    134135\n",
       "0    133509\n",
       "Name: HasDetections, dtype: int64"
      ]
     },
     "execution_count": 165,
     "metadata": {},
     "output_type": "execute_result"
    }
   ],
   "source": [
    "train['HasDetections'].value_counts()"
   ]
  },
  {
   "cell_type": "code",
   "execution_count": 166,
   "metadata": {},
   "outputs": [
    {
     "data": {
      "text/plain": [
       "1    89224\n",
       "0    89206\n",
       "Name: HasDetections, dtype: int64"
      ]
     },
     "execution_count": 166,
     "metadata": {},
     "output_type": "execute_result"
    }
   ],
   "source": [
    "test['HasDetections'].value_counts()"
   ]
  },
  {
   "cell_type": "markdown",
   "metadata": {},
   "source": [
    "# Exploratory Models"
   ]
  },
  {
   "cell_type": "markdown",
   "metadata": {},
   "source": [
    "Our goal is to predict the column 'HasDetections' with the highest possible accuracy  (used loosely).\n",
    "\n",
    "This is where 'domain knowledge' comes in. Depending on the problem, various factors and their combinations might be most meaningful. For example, while a physicist and a financial trader might both be using random forests, the input data/features will usually be hand-crafted by each one based on his/her understanding of the problem they are solving.\n",
    "\n",
    "Having said that, statistics and machine learning models are not useful just for predicting. They can be used to gain **insight** into the data itself. We'll now start on the first leg of our journey to both predict 'HasDetections' and extract insights about what the markers for an intrusion are."
   ]
  },
  {
   "cell_type": "markdown",
   "metadata": {},
   "source": [
    "### Mutual information\n",
    "\n",
    "We won't go into the details and derivation of mutual information here. For the purpose of this workshop, you can treat mutual information (MI) as a measure of correlation between categorical variables. Given two columns A and B, MI(A,B)=0 -> they are uncorrelated i.e. knowing the value of A says nothing about the value of B and vice-versa. A high MI(A, B) implies that knowing the value of A tells us a lot about the value of B and vice-versa."
   ]
  },
  {
   "cell_type": "markdown",
   "metadata": {},
   "source": [
    "#### Question: Compute the mutual information between the columns \"SMode\" and \"HasDetections\"\n",
    "\n",
    "Create a dictionary that maps a column -> mutual information between this column and the target, \"HasDetections\"\n",
    "\n",
    "Sort the values in decreasing order to identify the factors most likely to predict HasDetections"
   ]
  },
  {
   "cell_type": "code",
   "execution_count": 168,
   "metadata": {},
   "outputs": [
    {
     "data": {
      "text/plain": [
       "0.042050955346790334"
      ]
     },
     "execution_count": 168,
     "metadata": {},
     "output_type": "execute_result"
    }
   ],
   "source": [
    "mutual_info_score(train['SMode'], train['HasDetections'])"
   ]
  },
  {
   "cell_type": "code",
   "execution_count": 169,
   "metadata": {},
   "outputs": [],
   "source": [
    "mi_scores = {} #mutual information scores between columns and target\n",
    "for col in train:\n",
    "    \n",
    "    try:\n",
    "        score = mutual_info_score(train[col].astype(str).fillna('null'), train['HasDetections']) #MI(col, target)\n",
    "        N_unique = len(train[col].unique()) #number of unique elements in col\n",
    "        N_nan = np.sum(train[col].isnull())/float(train.shape[0]) #% of values that are nulls in col\n",
    "    \n",
    "        mi_scores[col] = (score, N_unique, N_nan)\n",
    "        \n",
    "    except:\n",
    "        print(f'Error with col = {col}')"
   ]
  },
  {
   "cell_type": "code",
   "execution_count": 170,
   "metadata": {},
   "outputs": [
    {
     "name": "stdout",
     "output_type": "stream",
     "text": [
      "HasDetections                                      :     0.6931444452657554 :        2 : 0.0\n",
      "Census_SystemVolumeTotalCapacity                   :    0.24541237492055287 :    94175 : 0.005963145073306332\n",
      "Census_OEMModelIdentifier                          :    0.08098996389180467 :    28548 : 0.011156611020609466\n",
      "CityIdentifier                                     :    0.07089525892989931 :    27279 : 0.03627579919594685\n",
      "Census_FirmwareVersionIdentifier                   :   0.051649887370198995 :    18811 : 0.01790811675210354\n",
      "AVProductStatesIdentifier                          :   0.028831217702840736 :     3782 : 0.004080046629104332\n",
      "SmartScreen                                        :   0.028146388077389402 :       12 : 0.3559093422606148\n",
      "AvSigVersion                                       :    0.02294304674145005 :     5496 : 0.0\n",
      "Census_ProcessorModelIdentifier                    :   0.012875464954142124 :     2068 : 0.004487304030727384\n",
      "AVProductsInstalled                                :   0.011049601504588709 :        7 : 0.004080046629104332\n",
      "Census_InternalBatteryNumberOfCharges              :   0.008819758416900504 :     3290 : 0.030103420962173635\n",
      "Census_PrimaryDiskTotalCapacity                    :   0.008192116749538141 :      793 : 0.005963145073306332\n",
      "EngineVersion                                      :   0.008045941775252663 :       48 : 0.0\n",
      "Census_OEMNameIdentifier                           :   0.007526884376628881 :     1287 : 0.010345832523800272\n",
      "Census_TotalPhysicalRAM                            :  0.0063424073938603675 :      368 : 0.008952190222833317\n",
      "Census_InternalPrimaryDiagonalDisplaySizeInInches  :   0.006208015329738681 :      460 : 0.005313027753284213\n",
      "AppVersion                                         :   0.005637154697877021 :       88 : 0.0\n",
      "OsBuildLab                                         :   0.005408392895250724 :      416 : 3.7363064369087293e-06\n",
      "Census_InternalPrimaryDisplayResolutionVertical    :   0.004328327915990779 :      368 : 0.005305555140410396\n",
      "CountryIdentifier                                  :   0.004006608119225166 :      222 : 0.0\n",
      "Census_OSVersion                                   :  0.0036320497226619043 :      281 : 0.0\n",
      "Census_OSBuildRevision                             :  0.0034803121087516355 :      234 : 0.0\n",
      "Census_InternalPrimaryDisplayResolutionHorizontal  :  0.0030889109587383333 :      319 : 0.005305555140410396\n",
      "GeoNameIdentifier                                  :  0.0030844519470919446 :      259 : 2.2417838621452378e-05\n",
      "Processor                                          :  0.0028307596165395976 :        3 : 0.0\n",
      "Census_OSArchitecture                              :  0.0027760143652437157 :        3 : 0.0\n",
      "Census_FirmwareManufacturerIdentifier              :   0.002773520776293046 :      237 : 0.02060946630598855\n",
      "Census_MDC2FormFactor                              :   0.002718721480643445 :       11 : 0.0\n",
      "LocaleEnglishNameIdentifier                        :   0.002639664877553872 :      216 : 0.0\n",
      "Census_ProcessorCoreCount                          :   0.002490759067203084 :       25 : 0.004487304030727384\n",
      "Census_PowerPlatformRoleName                       :  0.0024245958989559534 :       10 : 3.7363064369087293e-06\n",
      "Census_ChassisTypeName                             :  0.0023000545015767304 :       31 : 8.967135448580951e-05\n",
      "IeVerIdentifier                                    :  0.0020876369608011577 :      166 : 0.006426447071483015\n",
      "Census_IsAlwaysOnAlwaysConnectedCapable            :  0.0020202820647427545 :        3 : 0.007868661356129784\n",
      "DefaultBrowsersIdentifier                          :  0.0017458849240691403 :      410 : 0.9507442722422322\n",
      "IsProtected                                        :  0.0017322801402652344 :        3 : 0.00405762879048288\n",
      "RtpStateBitfield                                   :  0.0016044824563634609 :        8 : 0.0036279535502383763\n",
      "AVProductsEnabled                                  :  0.0015320123701630254 :        6 : 0.004080046629104332\n",
      "Census_IsVirtualDevice                             :    0.00148603347787217 :        3 : 0.0017299098802887418\n",
      "Census_OSBranch                                    :  0.0014508572120927495 :       13 : 0.0\n",
      "Census_OSUILocaleIdentifier                        :  0.0013494682555070029 :       83 : 0.0\n",
      "Wdft_IsGamer                                       :  0.0012432317318013947 :        3 : 0.03431797462300668\n",
      "Census_OSInstallLanguageIdentifier                 :  0.0012147546094628788 :       40 : 0.0068038140216107965\n",
      "Census_OSEdition                                   :  0.0012111822382405396 :       22 : 0.0\n",
      "Census_OSSkuName                                   :  0.0011852858134519775 :       20 : 0.0\n",
      "Census_OSInstallTypeName                           :  0.0011266511426016486 :        9 : 0.0\n",
      "Census_ActivationChannel                           :  0.0010861536073086507 :        6 : 0.0\n",
      "Census_OSBuildNumber                               :   0.000987190582327497 :       45 : 0.0\n",
      "OsBuild                                            :  0.0009758712269104419 :       42 : 0.0\n",
      "SMode                                              :  0.0009683820444856559 :        3 : 0.06044222922987252\n",
      "OsPlatformSubRelease                               :  0.0008647363792622749 :        9 : 0.0\n",
      "Census_IsTouchEnabled                              :  0.0008506754476763356 :        2 : 0.0\n",
      "Wdft_RegionIdentifier                              :  0.0008045929323133175 :       16 : 0.03431797462300668\n",
      "IsSxsPassiveMode                                   :  0.0005533293396345756 :        2 : 0.0\n",
      "Census_OSWUAutoUpdateOptionsName                   :  0.0005366775752272098 :        6 : 0.0\n",
      "Census_PrimaryDiskTypeName                         :  0.0004336300049917023 :        5 : 0.0014945225747634919\n",
      "SkuEdition                                         : 0.00033331046794248215 :        8 : 0.0\n",
      "OsSuite                                            :  0.0003257139259487184 :        8 : 0.0\n",
      "OrganizationIdentifier                             :   0.000297232333642972 :       43 : 0.3090971589125854\n",
      "Census_InternalBatteryType                         : 0.00028782888317112375 :       24 : 0.7101336103181839\n",
      "Census_HasOpticalDiskDrive                         : 0.00028178196730098415 :        2 : 0.0\n",
      "Census_GenuineStateName                            : 0.00023616078785938972 :        4 : 0.0\n",
      "Census_IsPenCapable                                :  0.0001609065709128471 :        2 : 0.0\n",
      "Census_FlightRing                                  :  9.302991458457746e-05 :        7 : 0.0\n",
      "Platform                                           :   9.25436512358253e-05 :        4 : 0.0\n",
      "Census_DeviceFamily                                :  8.384114420084948e-05 :        2 : 0.0\n",
      "Census_ProcessorManufacturerIdentifier             :  7.160437003592222e-05 :        5 : 0.004487304030727384\n",
      "Census_ProcessorClass                              :  7.008044990507601e-05 :        4 : 0.9958078641777884\n",
      "PuaMode                                            :   4.82153396300462e-05 :        2 : 0.9997646126944747\n",
      "Census_IsWIMBootEnabled                            :  4.485468757620126e-05 :        2 : 0.6340362571176638\n",
      "Census_ThresholdOptIn                              : 4.3407758191054725e-05 :        3 : 0.6349516521947064\n",
      "OsVer                                              : 3.0752329364741934e-05 :       12 : 0.0\n",
      "Census_IsFlightingInternal                         : 2.9885851906100462e-05 :        3 : 0.8300914647815755\n",
      "UacLuaenable                                       :    2.7041199097156e-05 :        5 : 0.0010723199473928054\n",
      "HasTpm                                             : 1.9174293873821385e-05 :        2 : 0.0\n",
      "Firewall                                           : 1.5127982093989661e-05 :        3 : 0.010017037557352304\n",
      "ProductName                                        :  8.965381973588006e-06 :        4 : 0.0\n",
      "Census_IsFlightsDisabled                           :  8.669963720527718e-06 :        3 : 0.0179753702679679\n",
      "AutoSampleOptIn                                    :  7.358980295707937e-06 :        2 : 0.0\n",
      "Census_IsPortableOperatingSystem                   : 5.3426316493740585e-06 :        2 : 0.0\n",
      "Census_IsSecureBootEnabled                         : 2.7881327476220186e-06 :        2 : 0.0\n",
      "IsBeta                                             :  1.972562403793784e-06 :        2 : 0.0\n"
     ]
    }
   ],
   "source": [
    "#sort in decreasing order by MI(col, HasDetections)\n",
    "for element in sorted(mi_scores.items(), key=operator.itemgetter(1, 0), reverse=True):\n",
    "    print('{:50} : {:22} : {:8} : {}'.format(element[0], element[1][0], element[1][1], element[1][2]))"
   ]
  },
  {
   "cell_type": "markdown",
   "metadata": {},
   "source": [
    "# Simple 1-feature models\n",
    "\n",
    "Another way to get intuition about individual columns is by building models that use a *single* feature to predict the output. This will also serve as an introduction to preprocessing and feature engineering. \n",
    "\n",
    "A lot of the work below looks inelegant from a programming perspective. But, while this approach is not scalable to datasets with a large number columns, it often gives a lot of intuition to the data scientist."
   ]
  },
  {
   "cell_type": "markdown",
   "metadata": {},
   "source": [
    "# Col = MachineIdentifier - index col - unique for each row - not useful for predictions"
   ]
  },
  {
   "cell_type": "markdown",
   "metadata": {},
   "source": [
    "# Col = ProductName (MI = ~6 * 10^-6)"
   ]
  },
  {
   "cell_type": "markdown",
   "metadata": {},
   "source": [
    "#### Question: Print the distribution of values of ProductName (unique values and their respective counts)"
   ]
  },
  {
   "cell_type": "code",
   "execution_count": 171,
   "metadata": {},
   "outputs": [
    {
     "data": {
      "text/plain": [
       "win8defender     264808\n",
       "mse                2832\n",
       "mseprerelease         3\n",
       "scep                  1\n",
       "Name: ProductName, dtype: int64"
      ]
     },
     "execution_count": 171,
     "metadata": {},
     "output_type": "execute_result"
    }
   ],
   "source": [
    "train['ProductName'].value_counts()"
   ]
  },
  {
   "cell_type": "markdown",
   "metadata": {},
   "source": [
    "### 1-hot encoding\n",
    "\n",
    "The data in a single column we'll usually see will be one of 3 types:\n",
    "\n",
    "1. float - the value matters and there's an ordering implied. E.g. 5 apples > 3 apples\n",
    "\n",
    "2. Discrete (int) - the values are discrete but there's an ordering\n",
    "\n",
    "3. Categorical (int/str) - the values are discrete but there's no ordering implied. E.g. OS = 'Windows' or OS = 'Linux' - one can't compare the two values numerically and there's no ordering Linux > Windows or Windows > Linux (well there IS but mathematically there isn't one)\n",
    "\n",
    "As an example consider 'ProductName' with possible values - 'win8defender', 'mse', 'scep' etc.\n",
    "\n",
    "One could do a group-by this column and get the % of 1s vs 0s in the target variable. But eventually, we'll have several such variables in combination with columns of type 1. and 2. above. So we need a better approach.\n",
    "\n",
    "A commonly used approach is the so-called **one-hot encoding**. The idea is very simple and best illustrated by an example. Suppose we have a column 'X' with 3 unique values in 5 rows:\n",
    "\n",
    "'apple'\n",
    "\n",
    "'mango'\n",
    "\n",
    "'banana'\n",
    "\n",
    "'banana'\n",
    "\n",
    "'mango'\n",
    "\n",
    "We want to convert these to numbers so our statistical techniques can perform mathematical operations and learn something useful. In one-hot encoding, we simply create one column for each unique value and use booleans:\n",
    "\n",
    "'apple' -> [1, 0, 0]\n",
    "\n",
    "'mango' -> [0, 1, 0]\n",
    "\n",
    "'banana' -> [0, 0, 1]\n",
    "\n",
    "'banana' -> [0, 0, 1]\n",
    "\n",
    "'mango' -> [0, 1, 0]\n",
    "\n",
    "Two points:\n",
    "\n",
    "1. Why can't we just map 'apple' -> 0, 'mango' -> 1, 'banana' -> 2. Because then we are imposing an implicit ordering - banana > mango > apple which we don't want to impose on our models.\n",
    "\n",
    "2. If there are N unique values in the column, we create N columns. Clearly, there's a much more compact representation as bit strings of len $\\log_2(N)$. Why not use that with exponentially less memory usage? The answer here is that we want to not have any interactions between the columns we create. For e.g. by looking at the apple column and seeing a 1, a model shouldn't have to look at any other columns to deduce that the value is indeed 'apple'. This wouldn't be true with the more compact representation."
   ]
  },
  {
   "cell_type": "code",
   "execution_count": 178,
   "metadata": {},
   "outputs": [
    {
     "data": {
      "text/html": [
       "<div>\n",
       "<style scoped>\n",
       "    .dataframe tbody tr th:only-of-type {\n",
       "        vertical-align: middle;\n",
       "    }\n",
       "\n",
       "    .dataframe tbody tr th {\n",
       "        vertical-align: top;\n",
       "    }\n",
       "\n",
       "    .dataframe thead th {\n",
       "        text-align: right;\n",
       "    }\n",
       "</style>\n",
       "<table border=\"1\" class=\"dataframe\">\n",
       "  <thead>\n",
       "    <tr style=\"text-align: right;\">\n",
       "      <th></th>\n",
       "      <th>ProductName_mse</th>\n",
       "      <th>ProductName_mseprerelease</th>\n",
       "      <th>ProductName_scep</th>\n",
       "      <th>ProductName_win8defender</th>\n",
       "    </tr>\n",
       "    <tr>\n",
       "      <th>MachineIdentifier</th>\n",
       "      <th></th>\n",
       "      <th></th>\n",
       "      <th></th>\n",
       "      <th></th>\n",
       "    </tr>\n",
       "  </thead>\n",
       "  <tbody>\n",
       "    <tr>\n",
       "      <th>219e73b9632ccba9c50f8d105f61ad48</th>\n",
       "      <td>0</td>\n",
       "      <td>0</td>\n",
       "      <td>0</td>\n",
       "      <td>1</td>\n",
       "    </tr>\n",
       "    <tr>\n",
       "      <th>3452ff6e65f8d5995f21a5e9878bf88d</th>\n",
       "      <td>0</td>\n",
       "      <td>0</td>\n",
       "      <td>0</td>\n",
       "      <td>1</td>\n",
       "    </tr>\n",
       "    <tr>\n",
       "      <th>2120eb9abfe6357b5126c97006361788</th>\n",
       "      <td>0</td>\n",
       "      <td>0</td>\n",
       "      <td>0</td>\n",
       "      <td>1</td>\n",
       "    </tr>\n",
       "    <tr>\n",
       "      <th>91a4e17aa0dcf338be0b18ae13c804dc</th>\n",
       "      <td>0</td>\n",
       "      <td>0</td>\n",
       "      <td>0</td>\n",
       "      <td>1</td>\n",
       "    </tr>\n",
       "    <tr>\n",
       "      <th>6f02626f4bc4dd938cea98898c73e51c</th>\n",
       "      <td>0</td>\n",
       "      <td>0</td>\n",
       "      <td>0</td>\n",
       "      <td>1</td>\n",
       "    </tr>\n",
       "    <tr>\n",
       "      <th>d8c9bdd2184af7d30e8ee069221adac8</th>\n",
       "      <td>0</td>\n",
       "      <td>0</td>\n",
       "      <td>0</td>\n",
       "      <td>1</td>\n",
       "    </tr>\n",
       "    <tr>\n",
       "      <th>746a909577916b753edbe7ef5e1e4668</th>\n",
       "      <td>0</td>\n",
       "      <td>0</td>\n",
       "      <td>0</td>\n",
       "      <td>1</td>\n",
       "    </tr>\n",
       "    <tr>\n",
       "      <th>9a1501ca30564d218d373c676c732358</th>\n",
       "      <td>0</td>\n",
       "      <td>0</td>\n",
       "      <td>0</td>\n",
       "      <td>1</td>\n",
       "    </tr>\n",
       "    <tr>\n",
       "      <th>98a0265963318c2d75072dbbc0dd47df</th>\n",
       "      <td>0</td>\n",
       "      <td>0</td>\n",
       "      <td>0</td>\n",
       "      <td>1</td>\n",
       "    </tr>\n",
       "    <tr>\n",
       "      <th>3d77f5db82c436cbe8a0aa835c6a30ea</th>\n",
       "      <td>0</td>\n",
       "      <td>0</td>\n",
       "      <td>0</td>\n",
       "      <td>1</td>\n",
       "    </tr>\n",
       "  </tbody>\n",
       "</table>\n",
       "</div>"
      ],
      "text/plain": [
       "                                  ProductName_mse  ProductName_mseprerelease  ProductName_scep  ProductName_win8defender\n",
       "MachineIdentifier                                                                                                       \n",
       "219e73b9632ccba9c50f8d105f61ad48                0                          0                 0                         1\n",
       "3452ff6e65f8d5995f21a5e9878bf88d                0                          0                 0                         1\n",
       "2120eb9abfe6357b5126c97006361788                0                          0                 0                         1\n",
       "91a4e17aa0dcf338be0b18ae13c804dc                0                          0                 0                         1\n",
       "6f02626f4bc4dd938cea98898c73e51c                0                          0                 0                         1\n",
       "d8c9bdd2184af7d30e8ee069221adac8                0                          0                 0                         1\n",
       "746a909577916b753edbe7ef5e1e4668                0                          0                 0                         1\n",
       "9a1501ca30564d218d373c676c732358                0                          0                 0                         1\n",
       "98a0265963318c2d75072dbbc0dd47df                0                          0                 0                         1\n",
       "3d77f5db82c436cbe8a0aa835c6a30ea                0                          0                 0                         1"
      ]
     },
     "execution_count": 178,
     "metadata": {},
     "output_type": "execute_result"
    }
   ],
   "source": [
    "#use pd.get_dummies to get one-hot encoded values\n",
    "pd.get_dummies(train['ProductName'], prefix='ProductName').head(10) #prefix gets prepended before column name"
   ]
  },
  {
   "cell_type": "code",
   "execution_count": 179,
   "metadata": {},
   "outputs": [
    {
     "data": {
      "text/plain": [
       "matrix([[0., 0., 0., 1.],\n",
       "        [0., 0., 0., 1.],\n",
       "        [0., 0., 0., 1.],\n",
       "        [0., 0., 0., 1.],\n",
       "        [0., 0., 0., 1.],\n",
       "        [0., 0., 0., 1.],\n",
       "        [0., 0., 0., 1.],\n",
       "        [0., 0., 0., 1.],\n",
       "        [0., 0., 0., 1.],\n",
       "        [0., 0., 0., 1.]])"
      ]
     },
     "execution_count": 179,
     "metadata": {},
     "output_type": "execute_result"
    }
   ],
   "source": [
    "#use sklearn's OneHotEncoder to get one-hot encoded values\n",
    "one_hot = OneHotEncoder()\n",
    "\n",
    "one_hot.fit_transform(train[['ProductName']]).todense()[0:10]"
   ]
  },
  {
   "cell_type": "markdown",
   "metadata": {},
   "source": [
    "### Problem with one-hot encoding\n",
    "\n",
    "What if the train set has 3 unique values for a column but the test has a fourth one? This will result in a problem since the shapes of the datasets for train and test will be different and the model expects a certain shape and a certain ordering of columns.\n",
    "\n",
    "One solution to this is to do one-hot encoding on the full dataset before splitting into train and test or to ensure that train and test have the same unique values."
   ]
  },
  {
   "cell_type": "markdown",
   "metadata": {},
   "source": [
    "#### Question: First Random Forest Classifier model\n",
    "\n",
    "1. Build a random forest classifier model to predict \"HasDetections\" from \"ProductName\".\n",
    "2. Ensure nulls are used during the one-hot encoded process too.\n",
    "3. Compute the AUC score both on the train and test sets."
   ]
  },
  {
   "cell_type": "code",
   "execution_count": 251,
   "metadata": {},
   "outputs": [],
   "source": [
    "def check_train_test_1hot(train, test, colname):\n",
    "    '''Check train and test both have the same set of unique values for column colname\n",
    "    '''\n",
    "    train_vals = set(train[colname].unique())\n",
    "    test_vals = set(test[colname].unique())\n",
    "    \n",
    "    union = train_vals.union(test_vals)\n",
    "    \n",
    "    if len(union) != len(train_vals): #test_vals subset of train_vals\n",
    "        #print(train_vals)\n",
    "        #print(test_vals)\n",
    "        return False\n",
    "\n",
    "    return True"
   ]
  },
  {
   "cell_type": "code",
   "execution_count": 182,
   "metadata": {},
   "outputs": [],
   "source": [
    "colname = 'ProductName'\n",
    "\n",
    "assert(check_train_test_1hot(train, test, colname))"
   ]
  },
  {
   "cell_type": "code",
   "execution_count": 199,
   "metadata": {},
   "outputs": [],
   "source": [
    "#one-hot encode full df and then split into train and test\n",
    "df = pd.concat([train[[colname]], test[[colname]]], axis=0)\n",
    "df_onehot = pd.get_dummies(df[colname], dummy_na=True)\n",
    "\n",
    "train_df = df_onehot.loc[train.index]\n",
    "test_df = df_onehot.loc[test.index]"
   ]
  },
  {
   "cell_type": "code",
   "execution_count": 200,
   "metadata": {},
   "outputs": [
    {
     "name": "stdout",
     "output_type": "stream",
     "text": [
      "(267644, 82)\n",
      "(267644, 5)\n",
      "(178430, 82)\n",
      "(178430, 5)\n"
     ]
    }
   ],
   "source": [
    "print(train.shape)\n",
    "print(train_df.shape)\n",
    "print(test.shape)\n",
    "print(test_df.shape)"
   ]
  },
  {
   "cell_type": "code",
   "execution_count": 201,
   "metadata": {},
   "outputs": [
    {
     "data": {
      "text/html": [
       "<div>\n",
       "<style scoped>\n",
       "    .dataframe tbody tr th:only-of-type {\n",
       "        vertical-align: middle;\n",
       "    }\n",
       "\n",
       "    .dataframe tbody tr th {\n",
       "        vertical-align: top;\n",
       "    }\n",
       "\n",
       "    .dataframe thead th {\n",
       "        text-align: right;\n",
       "    }\n",
       "</style>\n",
       "<table border=\"1\" class=\"dataframe\">\n",
       "  <thead>\n",
       "    <tr style=\"text-align: right;\">\n",
       "      <th></th>\n",
       "      <th>mse</th>\n",
       "      <th>mseprerelease</th>\n",
       "      <th>scep</th>\n",
       "      <th>win8defender</th>\n",
       "      <th>nan</th>\n",
       "    </tr>\n",
       "    <tr>\n",
       "      <th>MachineIdentifier</th>\n",
       "      <th></th>\n",
       "      <th></th>\n",
       "      <th></th>\n",
       "      <th></th>\n",
       "      <th></th>\n",
       "    </tr>\n",
       "  </thead>\n",
       "  <tbody>\n",
       "    <tr>\n",
       "      <th>219e73b9632ccba9c50f8d105f61ad48</th>\n",
       "      <td>0</td>\n",
       "      <td>0</td>\n",
       "      <td>0</td>\n",
       "      <td>1</td>\n",
       "      <td>0</td>\n",
       "    </tr>\n",
       "    <tr>\n",
       "      <th>3452ff6e65f8d5995f21a5e9878bf88d</th>\n",
       "      <td>0</td>\n",
       "      <td>0</td>\n",
       "      <td>0</td>\n",
       "      <td>1</td>\n",
       "      <td>0</td>\n",
       "    </tr>\n",
       "    <tr>\n",
       "      <th>2120eb9abfe6357b5126c97006361788</th>\n",
       "      <td>0</td>\n",
       "      <td>0</td>\n",
       "      <td>0</td>\n",
       "      <td>1</td>\n",
       "      <td>0</td>\n",
       "    </tr>\n",
       "    <tr>\n",
       "      <th>91a4e17aa0dcf338be0b18ae13c804dc</th>\n",
       "      <td>0</td>\n",
       "      <td>0</td>\n",
       "      <td>0</td>\n",
       "      <td>1</td>\n",
       "      <td>0</td>\n",
       "    </tr>\n",
       "    <tr>\n",
       "      <th>6f02626f4bc4dd938cea98898c73e51c</th>\n",
       "      <td>0</td>\n",
       "      <td>0</td>\n",
       "      <td>0</td>\n",
       "      <td>1</td>\n",
       "      <td>0</td>\n",
       "    </tr>\n",
       "  </tbody>\n",
       "</table>\n",
       "</div>"
      ],
      "text/plain": [
       "                                  mse  mseprerelease  scep  win8defender  NaN\n",
       "MachineIdentifier                                                            \n",
       "219e73b9632ccba9c50f8d105f61ad48    0              0     0             1    0\n",
       "3452ff6e65f8d5995f21a5e9878bf88d    0              0     0             1    0\n",
       "2120eb9abfe6357b5126c97006361788    0              0     0             1    0\n",
       "91a4e17aa0dcf338be0b18ae13c804dc    0              0     0             1    0\n",
       "6f02626f4bc4dd938cea98898c73e51c    0              0     0             1    0"
      ]
     },
     "execution_count": 201,
     "metadata": {},
     "output_type": "execute_result"
    }
   ],
   "source": [
    "train_df.head()"
   ]
  },
  {
   "cell_type": "code",
   "execution_count": 202,
   "metadata": {},
   "outputs": [
    {
     "data": {
      "text/html": [
       "<div>\n",
       "<style scoped>\n",
       "    .dataframe tbody tr th:only-of-type {\n",
       "        vertical-align: middle;\n",
       "    }\n",
       "\n",
       "    .dataframe tbody tr th {\n",
       "        vertical-align: top;\n",
       "    }\n",
       "\n",
       "    .dataframe thead th {\n",
       "        text-align: right;\n",
       "    }\n",
       "</style>\n",
       "<table border=\"1\" class=\"dataframe\">\n",
       "  <thead>\n",
       "    <tr style=\"text-align: right;\">\n",
       "      <th></th>\n",
       "      <th>mse</th>\n",
       "      <th>mseprerelease</th>\n",
       "      <th>scep</th>\n",
       "      <th>win8defender</th>\n",
       "      <th>nan</th>\n",
       "    </tr>\n",
       "    <tr>\n",
       "      <th>MachineIdentifier</th>\n",
       "      <th></th>\n",
       "      <th></th>\n",
       "      <th></th>\n",
       "      <th></th>\n",
       "      <th></th>\n",
       "    </tr>\n",
       "  </thead>\n",
       "  <tbody>\n",
       "    <tr>\n",
       "      <th>1001ed1fce6d74d01821da5e3e6db3fc</th>\n",
       "      <td>0</td>\n",
       "      <td>0</td>\n",
       "      <td>0</td>\n",
       "      <td>1</td>\n",
       "      <td>0</td>\n",
       "    </tr>\n",
       "    <tr>\n",
       "      <th>b37de41fdde2405a6571bc2e77bbf51f</th>\n",
       "      <td>0</td>\n",
       "      <td>0</td>\n",
       "      <td>0</td>\n",
       "      <td>1</td>\n",
       "      <td>0</td>\n",
       "    </tr>\n",
       "    <tr>\n",
       "      <th>06ee4f38bfc94de9d57809d3762d2f09</th>\n",
       "      <td>0</td>\n",
       "      <td>0</td>\n",
       "      <td>0</td>\n",
       "      <td>1</td>\n",
       "      <td>0</td>\n",
       "    </tr>\n",
       "    <tr>\n",
       "      <th>7d5ea8c9f675a36e6b186948ec515ddd</th>\n",
       "      <td>0</td>\n",
       "      <td>0</td>\n",
       "      <td>0</td>\n",
       "      <td>1</td>\n",
       "      <td>0</td>\n",
       "    </tr>\n",
       "    <tr>\n",
       "      <th>b79c84b3be6576f82a7a40a7784d134c</th>\n",
       "      <td>0</td>\n",
       "      <td>0</td>\n",
       "      <td>0</td>\n",
       "      <td>1</td>\n",
       "      <td>0</td>\n",
       "    </tr>\n",
       "  </tbody>\n",
       "</table>\n",
       "</div>"
      ],
      "text/plain": [
       "                                  mse  mseprerelease  scep  win8defender  NaN\n",
       "MachineIdentifier                                                            \n",
       "1001ed1fce6d74d01821da5e3e6db3fc    0              0     0             1    0\n",
       "b37de41fdde2405a6571bc2e77bbf51f    0              0     0             1    0\n",
       "06ee4f38bfc94de9d57809d3762d2f09    0              0     0             1    0\n",
       "7d5ea8c9f675a36e6b186948ec515ddd    0              0     0             1    0\n",
       "b79c84b3be6576f82a7a40a7784d134c    0              0     0             1    0"
      ]
     },
     "execution_count": 202,
     "metadata": {},
     "output_type": "execute_result"
    }
   ],
   "source": [
    "test_df.head()"
   ]
  },
  {
   "cell_type": "code",
   "execution_count": 203,
   "metadata": {},
   "outputs": [
    {
     "name": "stderr",
     "output_type": "stream",
     "text": [
      "/home/sanjay/.local/lib/python3.6/site-packages/sklearn/ensemble/forest.py:246: FutureWarning: The default value of n_estimators will change from 10 in version 0.20 to 100 in 0.22.\n",
      "  \"10 in version 0.20 to 100 in 0.22.\", FutureWarning)\n"
     ]
    },
    {
     "name": "stdout",
     "output_type": "stream",
     "text": [
      "col = HasDetections : train_score = 0.5003536548056838 : test_score = 0.5007855815608874\n"
     ]
    }
   ],
   "source": [
    "assert('HasDetections' not in train_df)\n",
    "model = RandomForestClassifier()\n",
    "model.fit(train_df, train['HasDetections'])\n",
    "\n",
    "#predict probabilities of belong to class 1\n",
    "train_pred = model.predict_proba(train_df)[:,1] #prob of belonging to class 1\n",
    "test_pred = model.predict_proba(test_df)[:,1]\n",
    "\n",
    "#actual values\n",
    "train_labels = train['HasDetections']\n",
    "test_labels = test['HasDetections']\n",
    "\n",
    "#compute AUC for train and test score\n",
    "train_score = roc_auc_score(train_labels, train_pred)\n",
    "test_score = roc_auc_score(test_labels, test_pred)\n",
    "\n",
    "print(f'col = {col} : train_score = {train_score} : test_score = {test_score}')"
   ]
  },
  {
   "cell_type": "markdown",
   "metadata": {},
   "source": [
    "As one can see, ProductName gives an AUC of 0.5 which is the same as guessing by chance. We expect this since the mutual information betwen ProductName and HasDetections is ~ 10^-6. Another way to see this is by looking at the % of 1s vs 0s for each distinct product type"
   ]
  },
  {
   "cell_type": "markdown",
   "metadata": {},
   "source": [
    "#### Question: Look at the distribution of the target variable within each ProductName category (group bys). Is this distribution significantly different from the distribution across the full dataset?"
   ]
  },
  {
   "cell_type": "code",
   "execution_count": 205,
   "metadata": {},
   "outputs": [
    {
     "data": {
      "text/html": [
       "<div>\n",
       "<style scoped>\n",
       "    .dataframe tbody tr th:only-of-type {\n",
       "        vertical-align: middle;\n",
       "    }\n",
       "\n",
       "    .dataframe tbody tr th {\n",
       "        vertical-align: top;\n",
       "    }\n",
       "\n",
       "    .dataframe thead th {\n",
       "        text-align: right;\n",
       "    }\n",
       "</style>\n",
       "<table border=\"1\" class=\"dataframe\">\n",
       "  <thead>\n",
       "    <tr style=\"text-align: right;\">\n",
       "      <th></th>\n",
       "      <th></th>\n",
       "      <th>EngineVersion</th>\n",
       "      <th>AppVersion</th>\n",
       "      <th>AvSigVersion</th>\n",
       "      <th>IsBeta</th>\n",
       "      <th>RtpStateBitfield</th>\n",
       "      <th>IsSxsPassiveMode</th>\n",
       "      <th>DefaultBrowsersIdentifier</th>\n",
       "      <th>AVProductStatesIdentifier</th>\n",
       "      <th>AVProductsInstalled</th>\n",
       "      <th>AVProductsEnabled</th>\n",
       "      <th>...</th>\n",
       "      <th>Census_FirmwareManufacturerIdentifier</th>\n",
       "      <th>Census_FirmwareVersionIdentifier</th>\n",
       "      <th>Census_IsSecureBootEnabled</th>\n",
       "      <th>Census_IsWIMBootEnabled</th>\n",
       "      <th>Census_IsVirtualDevice</th>\n",
       "      <th>Census_IsTouchEnabled</th>\n",
       "      <th>Census_IsPenCapable</th>\n",
       "      <th>Census_IsAlwaysOnAlwaysConnectedCapable</th>\n",
       "      <th>Wdft_IsGamer</th>\n",
       "      <th>Wdft_RegionIdentifier</th>\n",
       "    </tr>\n",
       "    <tr>\n",
       "      <th>ProductName</th>\n",
       "      <th>HasDetections</th>\n",
       "      <th></th>\n",
       "      <th></th>\n",
       "      <th></th>\n",
       "      <th></th>\n",
       "      <th></th>\n",
       "      <th></th>\n",
       "      <th></th>\n",
       "      <th></th>\n",
       "      <th></th>\n",
       "      <th></th>\n",
       "      <th></th>\n",
       "      <th></th>\n",
       "      <th></th>\n",
       "      <th></th>\n",
       "      <th></th>\n",
       "      <th></th>\n",
       "      <th></th>\n",
       "      <th></th>\n",
       "      <th></th>\n",
       "      <th></th>\n",
       "      <th></th>\n",
       "    </tr>\n",
       "  </thead>\n",
       "  <tbody>\n",
       "    <tr>\n",
       "      <th rowspan=\"2\" valign=\"top\">mse</th>\n",
       "      <th>0</th>\n",
       "      <td>1459</td>\n",
       "      <td>1459</td>\n",
       "      <td>1459</td>\n",
       "      <td>1459</td>\n",
       "      <td>1446</td>\n",
       "      <td>1459</td>\n",
       "      <td>33</td>\n",
       "      <td>1455</td>\n",
       "      <td>1455</td>\n",
       "      <td>1455</td>\n",
       "      <td>...</td>\n",
       "      <td>1439</td>\n",
       "      <td>1439</td>\n",
       "      <td>1459</td>\n",
       "      <td>989</td>\n",
       "      <td>1459</td>\n",
       "      <td>1459</td>\n",
       "      <td>1459</td>\n",
       "      <td>1437</td>\n",
       "      <td>1458</td>\n",
       "      <td>1458</td>\n",
       "    </tr>\n",
       "    <tr>\n",
       "      <th>1</th>\n",
       "      <td>1373</td>\n",
       "      <td>1373</td>\n",
       "      <td>1373</td>\n",
       "      <td>1373</td>\n",
       "      <td>1355</td>\n",
       "      <td>1373</td>\n",
       "      <td>21</td>\n",
       "      <td>1355</td>\n",
       "      <td>1355</td>\n",
       "      <td>1355</td>\n",
       "      <td>...</td>\n",
       "      <td>1359</td>\n",
       "      <td>1359</td>\n",
       "      <td>1373</td>\n",
       "      <td>893</td>\n",
       "      <td>1373</td>\n",
       "      <td>1373</td>\n",
       "      <td>1373</td>\n",
       "      <td>1356</td>\n",
       "      <td>1371</td>\n",
       "      <td>1371</td>\n",
       "    </tr>\n",
       "    <tr>\n",
       "      <th rowspan=\"2\" valign=\"top\">mseprerelease</th>\n",
       "      <th>0</th>\n",
       "      <td>2</td>\n",
       "      <td>2</td>\n",
       "      <td>2</td>\n",
       "      <td>2</td>\n",
       "      <td>2</td>\n",
       "      <td>2</td>\n",
       "      <td>0</td>\n",
       "      <td>2</td>\n",
       "      <td>2</td>\n",
       "      <td>2</td>\n",
       "      <td>...</td>\n",
       "      <td>2</td>\n",
       "      <td>2</td>\n",
       "      <td>2</td>\n",
       "      <td>1</td>\n",
       "      <td>2</td>\n",
       "      <td>2</td>\n",
       "      <td>2</td>\n",
       "      <td>2</td>\n",
       "      <td>2</td>\n",
       "      <td>2</td>\n",
       "    </tr>\n",
       "    <tr>\n",
       "      <th>1</th>\n",
       "      <td>1</td>\n",
       "      <td>1</td>\n",
       "      <td>1</td>\n",
       "      <td>1</td>\n",
       "      <td>1</td>\n",
       "      <td>1</td>\n",
       "      <td>0</td>\n",
       "      <td>1</td>\n",
       "      <td>1</td>\n",
       "      <td>1</td>\n",
       "      <td>...</td>\n",
       "      <td>1</td>\n",
       "      <td>1</td>\n",
       "      <td>1</td>\n",
       "      <td>1</td>\n",
       "      <td>1</td>\n",
       "      <td>1</td>\n",
       "      <td>1</td>\n",
       "      <td>1</td>\n",
       "      <td>1</td>\n",
       "      <td>1</td>\n",
       "    </tr>\n",
       "    <tr>\n",
       "      <th>scep</th>\n",
       "      <th>0</th>\n",
       "      <td>1</td>\n",
       "      <td>1</td>\n",
       "      <td>1</td>\n",
       "      <td>1</td>\n",
       "      <td>1</td>\n",
       "      <td>1</td>\n",
       "      <td>1</td>\n",
       "      <td>1</td>\n",
       "      <td>1</td>\n",
       "      <td>1</td>\n",
       "      <td>...</td>\n",
       "      <td>1</td>\n",
       "      <td>1</td>\n",
       "      <td>1</td>\n",
       "      <td>0</td>\n",
       "      <td>1</td>\n",
       "      <td>1</td>\n",
       "      <td>1</td>\n",
       "      <td>1</td>\n",
       "      <td>1</td>\n",
       "      <td>1</td>\n",
       "    </tr>\n",
       "    <tr>\n",
       "      <th rowspan=\"2\" valign=\"top\">win8defender</th>\n",
       "      <th>0</th>\n",
       "      <td>132047</td>\n",
       "      <td>132047</td>\n",
       "      <td>132047</td>\n",
       "      <td>132047</td>\n",
       "      <td>131545</td>\n",
       "      <td>132047</td>\n",
       "      <td>7135</td>\n",
       "      <td>131356</td>\n",
       "      <td>131356</td>\n",
       "      <td>131356</td>\n",
       "      <td>...</td>\n",
       "      <td>128866</td>\n",
       "      <td>129293</td>\n",
       "      <td>132047</td>\n",
       "      <td>48480</td>\n",
       "      <td>131801</td>\n",
       "      <td>132047</td>\n",
       "      <td>132047</td>\n",
       "      <td>131052</td>\n",
       "      <td>127580</td>\n",
       "      <td>127580</td>\n",
       "    </tr>\n",
       "    <tr>\n",
       "      <th>1</th>\n",
       "      <td>132761</td>\n",
       "      <td>132761</td>\n",
       "      <td>132761</td>\n",
       "      <td>132761</td>\n",
       "      <td>132323</td>\n",
       "      <td>132761</td>\n",
       "      <td>5993</td>\n",
       "      <td>132382</td>\n",
       "      <td>132382</td>\n",
       "      <td>132382</td>\n",
       "      <td>...</td>\n",
       "      <td>130460</td>\n",
       "      <td>130756</td>\n",
       "      <td>132761</td>\n",
       "      <td>47584</td>\n",
       "      <td>132544</td>\n",
       "      <td>132761</td>\n",
       "      <td>132761</td>\n",
       "      <td>131689</td>\n",
       "      <td>128046</td>\n",
       "      <td>128046</td>\n",
       "    </tr>\n",
       "  </tbody>\n",
       "</table>\n",
       "<p>7 rows × 80 columns</p>\n",
       "</div>"
      ],
      "text/plain": [
       "                             EngineVersion  AppVersion  AvSigVersion  IsBeta  RtpStateBitfield  IsSxsPassiveMode  DefaultBrowsersIdentifier  AVProductStatesIdentifier  AVProductsInstalled  AVProductsEnabled  ...  Census_FirmwareManufacturerIdentifier  Census_FirmwareVersionIdentifier  Census_IsSecureBootEnabled  Census_IsWIMBootEnabled  Census_IsVirtualDevice  Census_IsTouchEnabled  Census_IsPenCapable  Census_IsAlwaysOnAlwaysConnectedCapable  Wdft_IsGamer  Wdft_RegionIdentifier\n",
       "ProductName   HasDetections                                                                                                                                                                                     ...                                                                                                                                                                                                                                                                                \n",
       "mse           0                       1459        1459          1459    1459              1446              1459                         33                       1455                 1455               1455  ...                                   1439                              1439                        1459                      989                    1459                   1459                 1459                                     1437          1458                   1458\n",
       "              1                       1373        1373          1373    1373              1355              1373                         21                       1355                 1355               1355  ...                                   1359                              1359                        1373                      893                    1373                   1373                 1373                                     1356          1371                   1371\n",
       "mseprerelease 0                          2           2             2       2                 2                 2                          0                          2                    2                  2  ...                                      2                                 2                           2                        1                       2                      2                    2                                        2             2                      2\n",
       "              1                          1           1             1       1                 1                 1                          0                          1                    1                  1  ...                                      1                                 1                           1                        1                       1                      1                    1                                        1             1                      1\n",
       "scep          0                          1           1             1       1                 1                 1                          1                          1                    1                  1  ...                                      1                                 1                           1                        0                       1                      1                    1                                        1             1                      1\n",
       "win8defender  0                     132047      132047        132047  132047            131545            132047                       7135                     131356               131356             131356  ...                                 128866                            129293                      132047                    48480                  131801                 132047               132047                                   131052        127580                 127580\n",
       "              1                     132761      132761        132761  132761            132323            132761                       5993                     132382               132382             132382  ...                                 130460                            130756                      132761                    47584                  132544                 132761               132761                                   131689        128046                 128046\n",
       "\n",
       "[7 rows x 80 columns]"
      ]
     },
     "execution_count": 205,
     "metadata": {},
     "output_type": "execute_result"
    }
   ],
   "source": [
    "train.groupby(['ProductName', 'HasDetections']).count()"
   ]
  },
  {
   "cell_type": "markdown",
   "metadata": {},
   "source": [
    "For the statistically large classes, the values are ~50-50% which implies that knowing ProductName's value has no bearing on HasDetections."
   ]
  },
  {
   "cell_type": "markdown",
   "metadata": {},
   "source": [
    "# col = EngineVersion (MI = 8 * 10^-3)"
   ]
  },
  {
   "cell_type": "markdown",
   "metadata": {},
   "source": [
    "#### Question: Print the distribution of values of EngineVersion (unique values and their respective counts)"
   ]
  },
  {
   "cell_type": "code",
   "execution_count": 206,
   "metadata": {},
   "outputs": [
    {
     "data": {
      "text/plain": [
       "1.1.15200.1    115685\n",
       "1.1.15100.1    109825\n",
       "1.1.15000.2      7932\n",
       "1.1.14901.4      6453\n",
       "1.1.14600.4      4664\n",
       "1.1.14800.3      4178\n",
       "1.1.15300.6      3564\n",
       "1.1.14104.0      2905\n",
       "1.1.13504.0      2183\n",
       "1.1.15300.5      2092\n",
       "1.1.14500.5      1407\n",
       "1.1.14700.5      1394\n",
       "1.1.14405.2      1096\n",
       "1.1.14306.0       747\n",
       "1.1.14202.0       496\n",
       "1.1.14003.0       409\n",
       "1.1.13903.0       295\n",
       "1.1.13303.0       287\n",
       "1.1.13407.0       271\n",
       "1.1.13804.0       250\n",
       "1.1.13601.0       204\n",
       "1.1.13701.0       161\n",
       "1.1.14305.0       156\n",
       "1.1.12902.0       151\n",
       "1.1.13103.0       140\n",
       "1.1.13202.0       137\n",
       "1.1.13704.0       130\n",
       "1.1.13000.0       113\n",
       "1.1.12805.0        71\n",
       "1.1.15000.1        65\n",
       "1.1.14700.3        46\n",
       "1.1.14700.4        34\n",
       "1.1.14901.3        32\n",
       "1.1.14800.1        27\n",
       "1.1.14500.2        10\n",
       "1.1.14201.0         7\n",
       "1.1.14303.0         6\n",
       "1.1.11701.0         4\n",
       "1.1.14001.0         3\n",
       "1.1.13802.0         2\n",
       "1.1.14002.0         2\n",
       "1.1.14102.0         2\n",
       "1.1.14103.0         2\n",
       "1.1.12505.0         2\n",
       "1.1.11903.0         1\n",
       "1.1.10701.0         1\n",
       "1.1.12400.0         1\n",
       "1.1.13902.0         1\n",
       "Name: EngineVersion, dtype: int64"
      ]
     },
     "execution_count": 206,
     "metadata": {},
     "output_type": "execute_result"
    }
   ],
   "source": [
    "train['EngineVersion'].value_counts()"
   ]
  },
  {
   "cell_type": "markdown",
   "metadata": {},
   "source": [
    "EngineVersion consist of version strings that encode version numbers. What are our options?\n",
    "\n",
    "**One-hot encoding**: this would result in 67 columns (one for each unique value)\n",
    "\n",
    "**Observations**:\n",
    "1. Most of the values are distributed among ~10 values with a long tail of values with <100 occurrences.\n",
    "2. There's probably an implicit time ordering here. The version numbers increase with time. In particular, if there's a regular release cycle, we can actually impute when malware was detected within $\\pm\\Delta \\text{release cycle time}$. Ignore this time for now but think of how we can exploit this fact.\n",
    "\n",
    "Let's explore this column in more detail"
   ]
  },
  {
   "cell_type": "markdown",
   "metadata": {},
   "source": [
    "#### Question: Plot the distribution of value counts"
   ]
  },
  {
   "cell_type": "code",
   "execution_count": 207,
   "metadata": {},
   "outputs": [
    {
     "data": {
      "text/plain": [
       "(array([46.,  0.,  0.,  0.,  0.,  0.,  0.,  0.,  0.,  2.]),\n",
       " array([1.000000e+00, 1.156940e+04, 2.313780e+04, 3.470620e+04,\n",
       "        4.627460e+04, 5.784300e+04, 6.941140e+04, 8.097980e+04,\n",
       "        9.254820e+04, 1.041166e+05, 1.156850e+05]),\n",
       " <a list of 10 Patch objects>)"
      ]
     },
     "execution_count": 207,
     "metadata": {},
     "output_type": "execute_result"
    },
    {
     "data": {
      "image/png": "[encoded data removed]",
      "text/plain": [
       "<Figure size 720x720 with 1 Axes>"
      ]
     },
     "metadata": {
      "needs_background": "light"
     },
     "output_type": "display_data"
    }
   ],
   "source": [
    "#histogram of value counts\n",
    "plt.figure(figsize=(10,10))\n",
    "plt.hist(train['EngineVersion'].value_counts())"
   ]
  },
  {
   "cell_type": "markdown",
   "metadata": {},
   "source": [
    "#### Question: Calculate the % of values that are covered by the top two frequent values"
   ]
  },
  {
   "cell_type": "code",
   "execution_count": 208,
   "metadata": {},
   "outputs": [
    {
     "name": "stdout",
     "output_type": "stream",
     "text": [
      "% of values with top 2 values:  0.8425744645872876\n"
     ]
    }
   ],
   "source": [
    "value_counts = train['EngineVersion'].value_counts()\n",
    "\n",
    "print(\"% of values with top 2 values: \", value_counts[0:2].sum() / float(value_counts.sum())) #% of counts with top 2 values"
   ]
  },
  {
   "cell_type": "markdown",
   "metadata": {},
   "source": [
    "Out of 67 unique values:\n",
    "\n",
    "~84% of the rows have only one of two values\n",
    "54 unique values each have < 20,000 rows\n",
    "\n",
    "One possibility is to combine the tail into one new value\n",
    "\n",
    "Let's plot the value counts as a time-series to look at which version occur most often"
   ]
  },
  {
   "cell_type": "markdown",
   "metadata": {},
   "source": [
    "#### Question: Plot the value counts as a time-series to look at which version occur most often"
   ]
  },
  {
   "cell_type": "code",
   "execution_count": 209,
   "metadata": {},
   "outputs": [
    {
     "data": {
      "text/plain": [
       "[<matplotlib.lines.Line2D at 0x7fa2d8380ef0>]"
      ]
     },
     "execution_count": 209,
     "metadata": {},
     "output_type": "execute_result"
    },
    {
     "data": {
      "image/png": "[encoded data removed]",
      "text/plain": [
       "<Figure size 720x720 with 1 Axes>"
      ]
     },
     "metadata": {
      "needs_background": "light"
     },
     "output_type": "display_data"
    }
   ],
   "source": [
    "plt.figure(figsize=(10,10))\n",
    "plt.xticks(rotation=90)\n",
    "plt.plot(value_counts.sort_index(), 'p-')\n",
    "#plt.yscale('log')\n",
    "#plt.title(\"NOTE LOG SCALE\")"
   ]
  },
  {
   "cell_type": "markdown",
   "metadata": {},
   "source": [
    "All the values are of the form \"1.1.X\". Let's strip out the \"1.1\" for convenience"
   ]
  },
  {
   "cell_type": "markdown",
   "metadata": {},
   "source": [
    "#### Question: Clean the values to remove the leading \"1.1\" and plot as a time-series again"
   ]
  },
  {
   "cell_type": "code",
   "execution_count": 210,
   "metadata": {},
   "outputs": [],
   "source": [
    "value_counts.index = [i.split('1.1.')[1] for i in value_counts.index]"
   ]
  },
  {
   "cell_type": "code",
   "execution_count": 211,
   "metadata": {},
   "outputs": [
    {
     "data": {
      "text/plain": [
       "[<matplotlib.lines.Line2D at 0x7fa2e4015ba8>]"
      ]
     },
     "execution_count": 211,
     "metadata": {},
     "output_type": "execute_result"
    },
    {
     "data": {
      "image/png": "[encoded data removed]",
      "text/plain": [
       "<Figure size 720x720 with 1 Axes>"
      ]
     },
     "metadata": {
      "needs_background": "light"
     },
     "output_type": "display_data"
    }
   ],
   "source": [
    "plt.figure(figsize=(10,10))\n",
    "plt.xticks(rotation=90)\n",
    "plt.plot(value_counts.sort_index(), 'p-')\n",
    "#plt.yscale('log')\n",
    "#plt.title(\"NOTE LOG SCALE\")"
   ]
  },
  {
   "cell_type": "markdown",
   "metadata": {},
   "source": [
    "As before, we want to explore the power of \"EngineVersion\" to predict HasDetections. We'll explore 3 ways (2 have already been used before).\n",
    "\n",
    "**1. Group bys: Groupby the column of interest and the target column and see if there's a departure from the balance of 50-50% in the target within each group.**"
   ]
  },
  {
   "cell_type": "markdown",
   "metadata": {},
   "source": [
    "#### Question: Filter the data to have EngineVersion only in the top two categories and look at the distribution of the target within these two categories. Do you think this would help in predicting HasDetections."
   ]
  },
  {
   "cell_type": "code",
   "execution_count": 213,
   "metadata": {},
   "outputs": [
    {
     "name": "stdout",
     "output_type": "stream",
     "text": [
      "Two dominant classes: \n"
     ]
    },
    {
     "data": {
      "text/html": [
       "<div>\n",
       "<style scoped>\n",
       "    .dataframe tbody tr th:only-of-type {\n",
       "        vertical-align: middle;\n",
       "    }\n",
       "\n",
       "    .dataframe tbody tr th {\n",
       "        vertical-align: top;\n",
       "    }\n",
       "\n",
       "    .dataframe thead th {\n",
       "        text-align: right;\n",
       "    }\n",
       "</style>\n",
       "<table border=\"1\" class=\"dataframe\">\n",
       "  <thead>\n",
       "    <tr style=\"text-align: right;\">\n",
       "      <th></th>\n",
       "      <th></th>\n",
       "      <th>ProductName</th>\n",
       "      <th>AppVersion</th>\n",
       "      <th>AvSigVersion</th>\n",
       "      <th>IsBeta</th>\n",
       "      <th>RtpStateBitfield</th>\n",
       "      <th>IsSxsPassiveMode</th>\n",
       "      <th>DefaultBrowsersIdentifier</th>\n",
       "      <th>AVProductStatesIdentifier</th>\n",
       "      <th>AVProductsInstalled</th>\n",
       "      <th>AVProductsEnabled</th>\n",
       "      <th>...</th>\n",
       "      <th>Census_FirmwareManufacturerIdentifier</th>\n",
       "      <th>Census_FirmwareVersionIdentifier</th>\n",
       "      <th>Census_IsSecureBootEnabled</th>\n",
       "      <th>Census_IsWIMBootEnabled</th>\n",
       "      <th>Census_IsVirtualDevice</th>\n",
       "      <th>Census_IsTouchEnabled</th>\n",
       "      <th>Census_IsPenCapable</th>\n",
       "      <th>Census_IsAlwaysOnAlwaysConnectedCapable</th>\n",
       "      <th>Wdft_IsGamer</th>\n",
       "      <th>Wdft_RegionIdentifier</th>\n",
       "    </tr>\n",
       "    <tr>\n",
       "      <th>EngineVersion</th>\n",
       "      <th>HasDetections</th>\n",
       "      <th></th>\n",
       "      <th></th>\n",
       "      <th></th>\n",
       "      <th></th>\n",
       "      <th></th>\n",
       "      <th></th>\n",
       "      <th></th>\n",
       "      <th></th>\n",
       "      <th></th>\n",
       "      <th></th>\n",
       "      <th></th>\n",
       "      <th></th>\n",
       "      <th></th>\n",
       "      <th></th>\n",
       "      <th></th>\n",
       "      <th></th>\n",
       "      <th></th>\n",
       "      <th></th>\n",
       "      <th></th>\n",
       "      <th></th>\n",
       "      <th></th>\n",
       "    </tr>\n",
       "  </thead>\n",
       "  <tbody>\n",
       "    <tr>\n",
       "      <th rowspan=\"2\" valign=\"top\">1.1.15100.1</th>\n",
       "      <th>0</th>\n",
       "      <td>49153</td>\n",
       "      <td>49153</td>\n",
       "      <td>49153</td>\n",
       "      <td>49153</td>\n",
       "      <td>49033</td>\n",
       "      <td>49153</td>\n",
       "      <td>319</td>\n",
       "      <td>48830</td>\n",
       "      <td>48830</td>\n",
       "      <td>48830</td>\n",
       "      <td>...</td>\n",
       "      <td>47907</td>\n",
       "      <td>48066</td>\n",
       "      <td>49153</td>\n",
       "      <td>18443</td>\n",
       "      <td>49106</td>\n",
       "      <td>49153</td>\n",
       "      <td>49153</td>\n",
       "      <td>48791</td>\n",
       "      <td>48297</td>\n",
       "      <td>48297</td>\n",
       "    </tr>\n",
       "    <tr>\n",
       "      <th>1</th>\n",
       "      <td>60672</td>\n",
       "      <td>60672</td>\n",
       "      <td>60672</td>\n",
       "      <td>60672</td>\n",
       "      <td>60549</td>\n",
       "      <td>60672</td>\n",
       "      <td>515</td>\n",
       "      <td>60478</td>\n",
       "      <td>60478</td>\n",
       "      <td>60478</td>\n",
       "      <td>...</td>\n",
       "      <td>59710</td>\n",
       "      <td>59854</td>\n",
       "      <td>60672</td>\n",
       "      <td>23405</td>\n",
       "      <td>60615</td>\n",
       "      <td>60672</td>\n",
       "      <td>60672</td>\n",
       "      <td>60284</td>\n",
       "      <td>59873</td>\n",
       "      <td>59873</td>\n",
       "    </tr>\n",
       "    <tr>\n",
       "      <th rowspan=\"2\" valign=\"top\">1.1.15200.1</th>\n",
       "      <th>0</th>\n",
       "      <td>58469</td>\n",
       "      <td>58469</td>\n",
       "      <td>58469</td>\n",
       "      <td>58469</td>\n",
       "      <td>58279</td>\n",
       "      <td>58469</td>\n",
       "      <td>904</td>\n",
       "      <td>58178</td>\n",
       "      <td>58178</td>\n",
       "      <td>58178</td>\n",
       "      <td>...</td>\n",
       "      <td>57063</td>\n",
       "      <td>57266</td>\n",
       "      <td>58469</td>\n",
       "      <td>19684</td>\n",
       "      <td>58338</td>\n",
       "      <td>58469</td>\n",
       "      <td>58469</td>\n",
       "      <td>58009</td>\n",
       "      <td>56147</td>\n",
       "      <td>56147</td>\n",
       "    </tr>\n",
       "    <tr>\n",
       "      <th>1</th>\n",
       "      <td>57216</td>\n",
       "      <td>57216</td>\n",
       "      <td>57216</td>\n",
       "      <td>57216</td>\n",
       "      <td>57023</td>\n",
       "      <td>57216</td>\n",
       "      <td>1210</td>\n",
       "      <td>57047</td>\n",
       "      <td>57047</td>\n",
       "      <td>57047</td>\n",
       "      <td>...</td>\n",
       "      <td>56213</td>\n",
       "      <td>56331</td>\n",
       "      <td>57216</td>\n",
       "      <td>18641</td>\n",
       "      <td>57125</td>\n",
       "      <td>57216</td>\n",
       "      <td>57216</td>\n",
       "      <td>56719</td>\n",
       "      <td>54688</td>\n",
       "      <td>54688</td>\n",
       "    </tr>\n",
       "  </tbody>\n",
       "</table>\n",
       "<p>4 rows × 80 columns</p>\n",
       "</div>"
      ],
      "text/plain": [
       "                             ProductName  AppVersion  AvSigVersion  IsBeta  RtpStateBitfield  IsSxsPassiveMode  DefaultBrowsersIdentifier  AVProductStatesIdentifier  AVProductsInstalled  AVProductsEnabled  ...  Census_FirmwareManufacturerIdentifier  Census_FirmwareVersionIdentifier  Census_IsSecureBootEnabled  Census_IsWIMBootEnabled  Census_IsVirtualDevice  Census_IsTouchEnabled  Census_IsPenCapable  Census_IsAlwaysOnAlwaysConnectedCapable  Wdft_IsGamer  Wdft_RegionIdentifier\n",
       "EngineVersion HasDetections                                                                                                                                                                                   ...                                                                                                                                                                                                                                                                                \n",
       "1.1.15100.1   0                    49153       49153         49153   49153             49033             49153                        319                      48830                48830              48830  ...                                  47907                             48066                       49153                    18443                   49106                  49153                49153                                    48791         48297                  48297\n",
       "              1                    60672       60672         60672   60672             60549             60672                        515                      60478                60478              60478  ...                                  59710                             59854                       60672                    23405                   60615                  60672                60672                                    60284         59873                  59873\n",
       "1.1.15200.1   0                    58469       58469         58469   58469             58279             58469                        904                      58178                58178              58178  ...                                  57063                             57266                       58469                    19684                   58338                  58469                58469                                    58009         56147                  56147\n",
       "              1                    57216       57216         57216   57216             57023             57216                       1210                      57047                57047              57047  ...                                  56213                             56331                       57216                    18641                   57125                  57216                57216                                    56719         54688                  54688\n",
       "\n",
       "[4 rows x 80 columns]"
      ]
     },
     "execution_count": 213,
     "metadata": {},
     "output_type": "execute_result"
    }
   ],
   "source": [
    "print(\"Two dominant classes: \")\n",
    "train[train['EngineVersion'].isin(['1.1.15100.1', '1.1.15200.1'])].groupby(['EngineVersion', 'HasDetections']).count()"
   ]
  },
  {
   "cell_type": "markdown",
   "metadata": {},
   "source": [
    "This is good news! Overall in the data, we have #HasDetections=1 / #HasDetections=0 = 0.999 ~ 1 i.e. there are as many 0s as 1s.\n",
    "\n",
    "But within the subset of data with EngineVersion == 1.1.15100.1, we have a ratio of ~1.23\n",
    "and within the subset of data with EngineVersion == 1.1.15200.1, we have a ratio of ~0.96\n",
    "\n",
    "This asymmetry will help us when we build a model. But what about the non-dominant values for EngineVersion. Let's group them all into one category."
   ]
  },
  {
   "cell_type": "markdown",
   "metadata": {},
   "source": [
    "#### Question: Filter the data to have EngineVersion other than the top two categories and look at the distribution of the target across this data (without accounting for EngineVersion since each category is statistically small now)"
   ]
  },
  {
   "cell_type": "code",
   "execution_count": 215,
   "metadata": {},
   "outputs": [
    {
     "data": {
      "text/html": [
       "<div>\n",
       "<style scoped>\n",
       "    .dataframe tbody tr th:only-of-type {\n",
       "        vertical-align: middle;\n",
       "    }\n",
       "\n",
       "    .dataframe tbody tr th {\n",
       "        vertical-align: top;\n",
       "    }\n",
       "\n",
       "    .dataframe thead th {\n",
       "        text-align: right;\n",
       "    }\n",
       "</style>\n",
       "<table border=\"1\" class=\"dataframe\">\n",
       "  <thead>\n",
       "    <tr style=\"text-align: right;\">\n",
       "      <th></th>\n",
       "      <th>ProductName</th>\n",
       "      <th>EngineVersion</th>\n",
       "      <th>AppVersion</th>\n",
       "      <th>AvSigVersion</th>\n",
       "      <th>IsBeta</th>\n",
       "      <th>RtpStateBitfield</th>\n",
       "      <th>IsSxsPassiveMode</th>\n",
       "      <th>DefaultBrowsersIdentifier</th>\n",
       "      <th>AVProductStatesIdentifier</th>\n",
       "      <th>AVProductsInstalled</th>\n",
       "      <th>...</th>\n",
       "      <th>Census_FirmwareManufacturerIdentifier</th>\n",
       "      <th>Census_FirmwareVersionIdentifier</th>\n",
       "      <th>Census_IsSecureBootEnabled</th>\n",
       "      <th>Census_IsWIMBootEnabled</th>\n",
       "      <th>Census_IsVirtualDevice</th>\n",
       "      <th>Census_IsTouchEnabled</th>\n",
       "      <th>Census_IsPenCapable</th>\n",
       "      <th>Census_IsAlwaysOnAlwaysConnectedCapable</th>\n",
       "      <th>Wdft_IsGamer</th>\n",
       "      <th>Wdft_RegionIdentifier</th>\n",
       "    </tr>\n",
       "    <tr>\n",
       "      <th>HasDetections</th>\n",
       "      <th></th>\n",
       "      <th></th>\n",
       "      <th></th>\n",
       "      <th></th>\n",
       "      <th></th>\n",
       "      <th></th>\n",
       "      <th></th>\n",
       "      <th></th>\n",
       "      <th></th>\n",
       "      <th></th>\n",
       "      <th></th>\n",
       "      <th></th>\n",
       "      <th></th>\n",
       "      <th></th>\n",
       "      <th></th>\n",
       "      <th></th>\n",
       "      <th></th>\n",
       "      <th></th>\n",
       "      <th></th>\n",
       "      <th></th>\n",
       "      <th></th>\n",
       "    </tr>\n",
       "  </thead>\n",
       "  <tbody>\n",
       "    <tr>\n",
       "      <th>0</th>\n",
       "      <td>25887</td>\n",
       "      <td>25887</td>\n",
       "      <td>25887</td>\n",
       "      <td>25887</td>\n",
       "      <td>25887</td>\n",
       "      <td>25682</td>\n",
       "      <td>25887</td>\n",
       "      <td>5946</td>\n",
       "      <td>25806</td>\n",
       "      <td>25806</td>\n",
       "      <td>...</td>\n",
       "      <td>25338</td>\n",
       "      <td>25403</td>\n",
       "      <td>25887</td>\n",
       "      <td>11343</td>\n",
       "      <td>25819</td>\n",
       "      <td>25887</td>\n",
       "      <td>25887</td>\n",
       "      <td>25692</td>\n",
       "      <td>24597</td>\n",
       "      <td>24597</td>\n",
       "    </tr>\n",
       "    <tr>\n",
       "      <th>1</th>\n",
       "      <td>16247</td>\n",
       "      <td>16247</td>\n",
       "      <td>16247</td>\n",
       "      <td>16247</td>\n",
       "      <td>16247</td>\n",
       "      <td>16107</td>\n",
       "      <td>16247</td>\n",
       "      <td>4289</td>\n",
       "      <td>16213</td>\n",
       "      <td>16213</td>\n",
       "      <td>...</td>\n",
       "      <td>15897</td>\n",
       "      <td>15931</td>\n",
       "      <td>16247</td>\n",
       "      <td>6432</td>\n",
       "      <td>16178</td>\n",
       "      <td>16247</td>\n",
       "      <td>16247</td>\n",
       "      <td>16043</td>\n",
       "      <td>14857</td>\n",
       "      <td>14857</td>\n",
       "    </tr>\n",
       "  </tbody>\n",
       "</table>\n",
       "<p>2 rows × 81 columns</p>\n",
       "</div>"
      ],
      "text/plain": [
       "               ProductName  EngineVersion  AppVersion  AvSigVersion  IsBeta  RtpStateBitfield  IsSxsPassiveMode  DefaultBrowsersIdentifier  AVProductStatesIdentifier  AVProductsInstalled  ...  Census_FirmwareManufacturerIdentifier  Census_FirmwareVersionIdentifier  Census_IsSecureBootEnabled  Census_IsWIMBootEnabled  Census_IsVirtualDevice  Census_IsTouchEnabled  Census_IsPenCapable  Census_IsAlwaysOnAlwaysConnectedCapable  Wdft_IsGamer  Wdft_RegionIdentifier\n",
       "HasDetections                                                                                                                                                                               ...                                                                                                                                                                                                                                                                                \n",
       "0                    25887          25887       25887         25887   25887             25682             25887                       5946                      25806                25806  ...                                  25338                             25403                       25887                    11343                   25819                  25887                25887                                    25692         24597                  24597\n",
       "1                    16247          16247       16247         16247   16247             16107             16247                       4289                      16213                16213  ...                                  15897                             15931                       16247                     6432                   16178                  16247                16247                                    16043         14857                  14857\n",
       "\n",
       "[2 rows x 81 columns]"
      ]
     },
     "execution_count": 215,
     "metadata": {},
     "output_type": "execute_result"
    }
   ],
   "source": [
    "train[~train['EngineVersion'].isin(['1.1.15100.1', '1.1.15200.1'])].groupby(['HasDetections']).count()"
   ]
  },
  {
   "cell_type": "markdown",
   "metadata": {},
   "source": [
    "Here, we get a ratio \n",
    "\n",
    "#HasDetections=1 / #HasDetections=0 = 0.62 \n",
    "\n",
    "This is excellent news. This class of the tail of EngineVersions has a significant departure from the 1:1 ratio. Let's proceed to the other two steps to understand how strong EngineVersion is.\n",
    "\n",
    "**2. Mutual information**"
   ]
  },
  {
   "cell_type": "markdown",
   "metadata": {},
   "source": [
    "#### Question: Compute the mutual information between the columns \"EngineVersion\" and \"HasDetections\""
   ]
  },
  {
   "cell_type": "code",
   "execution_count": 216,
   "metadata": {},
   "outputs": [
    {
     "data": {
      "text/plain": [
       "0.008045941775252658"
      ]
     },
     "execution_count": 216,
     "metadata": {},
     "output_type": "execute_result"
    }
   ],
   "source": [
    "mutual_info_score(train['HasDetections'], train['EngineVersion'])"
   ]
  },
  {
   "cell_type": "markdown",
   "metadata": {},
   "source": [
    "3. Simple 1-factor model"
   ]
  },
  {
   "cell_type": "markdown",
   "metadata": {},
   "source": [
    "#### Question: First Random Forest Classifier model\n",
    "\n",
    "1. Preprocess the column \"EngineVersion\" so that all the values apart from the top two categories are replaced by \"rest\"\n",
    "2. Build a random forest classifier model to predict \"HasDetections\" from \"EngineVersion\".\n",
    "3. Ensure nulls are used during the one-hot encoded process too.\n",
    "4. Compute the AUC score both on the train and test sets."
   ]
  },
  {
   "cell_type": "code",
   "execution_count": 217,
   "metadata": {},
   "outputs": [],
   "source": [
    "train_df = train[['EngineVersion']].copy()\n",
    "test_df = test[['EngineVersion']].copy()"
   ]
  },
  {
   "cell_type": "code",
   "execution_count": 218,
   "metadata": {},
   "outputs": [],
   "source": [
    "train_df[~train_df['EngineVersion'].isin(['1.1.15100.1', '1.1.15200.1'])] = 'rest'\n",
    "test_df[~test_df['EngineVersion'].isin(['1.1.15100.1', '1.1.15200.1'])] = 'rest'"
   ]
  },
  {
   "cell_type": "code",
   "execution_count": 219,
   "metadata": {},
   "outputs": [],
   "source": [
    "train_df = pd.get_dummies(train_df[['EngineVersion']], dummy_na=True)\n",
    "test_df = pd.get_dummies(test_df[['EngineVersion']], dummy_na=True)"
   ]
  },
  {
   "cell_type": "code",
   "execution_count": 220,
   "metadata": {},
   "outputs": [
    {
     "name": "stderr",
     "output_type": "stream",
     "text": [
      "/home/sanjay/.local/lib/python3.6/site-packages/sklearn/ensemble/forest.py:246: FutureWarning: The default value of n_estimators will change from 10 in version 0.20 to 100 in 0.22.\n",
      "  \"10 in version 0.20 to 100 in 0.22.\", FutureWarning)\n"
     ]
    },
    {
     "name": "stdout",
     "output_type": "stream",
     "text": [
      "train_score = 0.5569102913699139 : test_score = 0.5575774186762847\n"
     ]
    }
   ],
   "source": [
    "model = RandomForestClassifier()\n",
    "model.fit(train_df, train['HasDetections'])\n",
    "\n",
    "train_pred = model.predict_proba(train_df)[:,1] #prob of belonging to class 1\n",
    "test_pred = model.predict_proba(test_df)[:,1]\n",
    "\n",
    "train_labels = train['HasDetections']\n",
    "test_labels = test['HasDetections']\n",
    "\n",
    "train_score = roc_auc_score(train_labels, train_pred)\n",
    "test_score = roc_auc_score(test_labels, test_pred)\n",
    "\n",
    "print(f'train_score = {train_score} : test_score = {test_score}')"
   ]
  },
  {
   "cell_type": "markdown",
   "metadata": {},
   "source": [
    "Ah! much better - we get an AUC = ~0.56 which is better than chance as we expected given the asymmetries in the groupbys.\n",
    "\n",
    "A natural question is wondering whether we should have not grouped everything except the top-2 classes together but had a different arrangement.\n",
    "\n",
    "Let's tackle that question using mutual information.\n",
    "\n",
    "**3. Mutual information**"
   ]
  },
  {
   "cell_type": "markdown",
   "metadata": {},
   "source": [
    "#### Question: Compute the mutual information between HasDetections and EngineVersion AFTER preprocessing i.e. combining all except the top two values into one category called \"rest\""
   ]
  },
  {
   "cell_type": "code",
   "execution_count": 223,
   "metadata": {},
   "outputs": [
    {
     "name": "stdout",
     "output_type": "stream",
     "text": [
      "Mutual information between EngineVersion and HasDetections:  0.00644089343262072\n"
     ]
    }
   ],
   "source": [
    "train_df = train[['EngineVersion']].copy()\n",
    "test_df = test[['EngineVersion']].copy()\n",
    "\n",
    "train_df[~train_df['EngineVersion'].isin(['1.1.15100.1', '1.1.15200.1'])] = 'rest'\n",
    "test_df[~test_df['EngineVersion'].isin(['1.1.15100.1', '1.1.15200.1'])] = 'rest'\n",
    "\n",
    "print(\"Mutual information between EngineVersion and HasDetections: \", mutual_info_score(train_df['EngineVersion'], train['HasDetections']))"
   ]
  },
  {
   "cell_type": "markdown",
   "metadata": {},
   "source": [
    "Let's now rank EngineVersion values by how many times they occur (value_counts) and group all the elements from index i to the last one together and see how mutual information is impacted"
   ]
  },
  {
   "cell_type": "markdown",
   "metadata": {},
   "source": [
    "#### Question: Compute mutual information between HasDetections and EngineVersion after preprocessing EngineVersion where all categories after the nth top value are combined into \"rest\". Plot the results."
   ]
  },
  {
   "cell_type": "code",
   "execution_count": 224,
   "metadata": {},
   "outputs": [],
   "source": [
    "value_counts = train['EngineVersion'].value_counts()\n",
    "\n",
    "mi_values = {}\n",
    "for i in range(2, 60): #combine [i, last] -> one category\n",
    "    train_df = train[['EngineVersion']].copy()\n",
    "\n",
    "    top_values = list(value_counts[0:i].index)\n",
    "\n",
    "    train_df[~train_df['EngineVersion'].isin(top_values)] = 'rest'\n",
    "\n",
    "    mi_values[i] = mutual_info_score(train_df['EngineVersion'], train['HasDetections'])"
   ]
  },
  {
   "cell_type": "code",
   "execution_count": 225,
   "metadata": {},
   "outputs": [
    {
     "data": {
      "text/plain": [
       "[(47, 0.008045941775252663),\n",
       " (48, 0.008045941775252663),\n",
       " (49, 0.008045941775252663),\n",
       " (50, 0.008045941775252663),\n",
       " (51, 0.008045941775252663),\n",
       " (52, 0.008045941775252663),\n",
       " (53, 0.008045941775252663),\n",
       " (54, 0.008045941775252663),\n",
       " (55, 0.008045941775252663),\n",
       " (56, 0.008045941775252663),\n",
       " (57, 0.008045941775252663),\n",
       " (58, 0.008045941775252663),\n",
       " (59, 0.008045941775252663),\n",
       " (46, 0.00804076215470776),\n",
       " (45, 0.008038807139300112),\n",
       " (44, 0.0080375375495705),\n",
       " (43, 0.00803040291361795),\n",
       " (42, 0.008026167351371443),\n",
       " (41, 0.008023118013014207),\n",
       " (40, 0.008020729098206189),\n",
       " (39, 0.008019826936589834),\n",
       " (38, 0.008016466750980281),\n",
       " (37, 0.0079989808762576),\n",
       " (36, 0.00799889518264333),\n",
       " (35, 0.007998561009853009),\n",
       " (34, 0.007997267478930883),\n",
       " (33, 0.00799496463809668),\n",
       " (32, 0.007994842561433225),\n",
       " (31, 0.007992324630124455),\n",
       " (30, 0.007989532960455391),\n",
       " (29, 0.00798693442266648),\n",
       " (28, 0.007978776098184816),\n",
       " (27, 0.007978759289835876),\n",
       " (26, 0.007977069903667314),\n",
       " (25, 0.007977039409691529),\n",
       " (24, 0.00797559172883867),\n",
       " (23, 0.007973178558427722),\n",
       " (22, 0.007970138067239969),\n",
       " (21, 0.007970133509959742),\n",
       " (20, 0.007966574635521488),\n",
       " (19, 0.00796593509832318),\n",
       " (18, 0.007960995051373397),\n",
       " (17, 0.007954650521602269),\n",
       " (16, 0.007954619867766667),\n",
       " (15, 0.007951665295281834),\n",
       " (14, 0.007928744733429423),\n",
       " (13, 0.007925458046892084),\n",
       " (12, 0.007920957565179444),\n",
       " (11, 0.007899063749614629),\n",
       " (10, 0.007894730037691818),\n",
       " (9, 0.007613221257609645),\n",
       " (8, 0.007601003215133528),\n",
       " (7, 0.007584085413418935),\n",
       " (6, 0.007454102770579486),\n",
       " (5, 0.007031749984612666),\n",
       " (4, 0.007000573296761431),\n",
       " (3, 0.006552712287493288),\n",
       " (2, 0.00644089343262072)]"
      ]
     },
     "execution_count": 225,
     "metadata": {},
     "output_type": "execute_result"
    }
   ],
   "source": [
    "sorted(mi_values.items(), key=operator.itemgetter(1), reverse=True)"
   ]
  },
  {
   "cell_type": "markdown",
   "metadata": {},
   "source": [
    "The values saturate to around ~0.0082 once we combine all the values from index 10 onwards (incl. 10)"
   ]
  },
  {
   "cell_type": "code",
   "execution_count": 226,
   "metadata": {},
   "outputs": [
    {
     "data": {
      "text/plain": [
       "[<matplotlib.lines.Line2D at 0x7fa324c58208>]"
      ]
     },
     "execution_count": 226,
     "metadata": {},
     "output_type": "execute_result"
    },
    {
     "data": {
      "image/png": "[encoded data removed]",
      "text/plain": [
       "<Figure size 720x720 with 1 Axes>"
      ]
     },
     "metadata": {
      "needs_background": "light"
     },
     "output_type": "display_data"
    }
   ],
   "source": [
    "plt.figure(figsize=(10,10))\n",
    "plt.plot(mi_values.keys(), mi_values.values(), 'p-')\n",
    "plt.plot(mi_values.keys(), [mutual_info_score(train['EngineVersion'], train['HasDetections'])]*len(mi_values), color='black')"
   ]
  },
  {
   "cell_type": "markdown",
   "metadata": {},
   "source": [
    "What this plots tells us is that mutual information goes up in drastic steps till we merge all the values from the 10th onwards into a single category. At that stage, we gain nothing more by adding more categories. So, let's do that!!"
   ]
  },
  {
   "cell_type": "markdown",
   "metadata": {},
   "source": [
    "#### Pick an appropriate n and combine the other categories into rest. Build a simple model and compute the train and test scores."
   ]
  },
  {
   "cell_type": "code",
   "execution_count": 227,
   "metadata": {},
   "outputs": [],
   "source": [
    "train_df = train[['EngineVersion']].copy()\n",
    "test_df = test[['EngineVersion']].copy()\n",
    "\n",
    "top_values = list(value_counts[0:11].index)\n",
    "\n",
    "train_df[~train_df['EngineVersion'].isin(top_values)] = 'rest'\n",
    "test_df[~test_df['EngineVersion'].isin(top_values)] = 'rest'\n",
    "\n",
    "train_df = pd.get_dummies(train_df[['EngineVersion']], dummy_na=True)\n",
    "test_df = pd.get_dummies(test_df[['EngineVersion']], dummy_na=True)"
   ]
  },
  {
   "cell_type": "code",
   "execution_count": 228,
   "metadata": {},
   "outputs": [
    {
     "name": "stderr",
     "output_type": "stream",
     "text": [
      "/home/sanjay/.local/lib/python3.6/site-packages/sklearn/ensemble/forest.py:246: FutureWarning: The default value of n_estimators will change from 10 in version 0.20 to 100 in 0.22.\n",
      "  \"10 in version 0.20 to 100 in 0.22.\", FutureWarning)\n"
     ]
    },
    {
     "name": "stdout",
     "output_type": "stream",
     "text": [
      "col = HasDetections : train_score = 0.5591157302172233 : test_score = 0.5594983096452312\n"
     ]
    }
   ],
   "source": [
    "model = RandomForestClassifier()\n",
    "model.fit(train_df, train['HasDetections'])\n",
    "\n",
    "train_pred = model.predict_proba(train_df)[:,1] #prob of belonging to class 1\n",
    "test_pred = model.predict_proba(test_df)[:,1]\n",
    "\n",
    "train_labels = train['HasDetections']\n",
    "test_labels = test['HasDetections']\n",
    "\n",
    "train_score = roc_auc_score(train_labels, train_pred)\n",
    "test_score = roc_auc_score(test_labels, test_pred)\n",
    "\n",
    "print(f'col = {col} : train_score = {train_score} : test_score = {test_score}')"
   ]
  },
  {
   "cell_type": "markdown",
   "metadata": {},
   "source": [
    "We get a marginal improvement in our test score from:\n",
    "\n",
    "0.5575774186762847 -> 0.5594983096452312\n",
    "\n",
    "(you might see different numbers since we have randomness in train-test split)\n",
    "\n",
    "(improvement of 0.36%) but from just one feature and from ensuring we don't throw away too much information by combining all except the top 2 values."
   ]
  },
  {
   "cell_type": "markdown",
   "metadata": {},
   "source": [
    "**Note about cross-validation**:\n",
    "\n",
    "I have been implicitly looking at both train and test scores each time we fit a model. The idea is that they should be comparable. If the train score is far better (higher in the case of AUC) than the test score, then we are overfitting i.e. our model is memorizing the train set, doing very well on it but fails when new data comes in.\n",
    "\n",
    "We are not doing *hyperparameter tuning* yet i.e. we initialize our model as:\n",
    "\n",
    "model = RandomForestClassifier()\n",
    "\n",
    "which uses the default values for all arguments. Eventually, we'll want to vary those arguments to maximize *both* train and test scores till they start diverging. The idea is that with default values, both scores might be pretty low. As we tune or vary them, both scores might improve but if train score improves far more than test score, then we know we are overfitting and we need to undo the change.\n",
    "\n",
    "A common question is: what if the test score is **better** than the train score. This is a fluke! Don't rely on your model to do that systematically. One always wants control over the model i.e. by ensuring that performance on train and test is almost the same.\n",
    "\n",
    "Once we do K-fold cross-validation, this will be even easier to see. We'll have K test scores (one for each fold) and we can look at their variance to get a sense of the effect of randomized dataset selection on our model (at the cost of training many more models)."
   ]
  },
  {
   "cell_type": "markdown",
   "metadata": {},
   "source": [
    "# col = AppVersion (MI = 5.6*10^-3)"
   ]
  },
  {
   "cell_type": "markdown",
   "metadata": {},
   "source": [
    "Now we want to repeat a lot of the work that we did with EngineVersion and this is a good chance to consolidate all our work above."
   ]
  },
  {
   "cell_type": "markdown",
   "metadata": {},
   "source": [
    "#### Question: Repeat the above exercise with AppVersion. So,\n",
    "\n",
    "1. Scan n and figure out how many elements to combine into \"rest\".\n",
    "2. Plot the mutual information as a function of n.\n",
    "3. Build a simple model and compute the train and test scores.\n",
    "\n",
    "Hint: You can use the multiprocessing package to parallelize the scanning of n. You can also use a form of binary search to speed up (drastically) the n where MI(EngineVersion,HasDetections) is within x% (x = argument) of the full MI."
   ]
  },
  {
   "cell_type": "code",
   "execution_count": 229,
   "metadata": {},
   "outputs": [
    {
     "data": {
      "text/plain": [
       "4.18.1807.18075     154497\n",
       "4.18.1806.18062      25332\n",
       "4.12.16299.15        10870\n",
       "4.10.209.0            8143\n",
       "4.13.17134.1          7657\n",
       "4.16.17656.18052      6994\n",
       "4.13.17134.228        6710\n",
       "4.9.10586.1106        6227\n",
       "4.8.10240.17443       6135\n",
       "4.14.17639.18041      5675\n",
       "4.12.17007.18022      3526\n",
       "4.9.10586.0           3370\n",
       "4.11.15063.447        2760\n",
       "4.10.14393.0          2357\n",
       "4.11.15063.0          2061\n",
       "4.12.17007.18011      1899\n",
       "4.14.17613.18039      1614\n",
       "4.8.10240.16384       1395\n",
       "4.11.15063.1155       1362\n",
       "4.10.14393.1794       1315\n",
       "4.9.10586.494          707\n",
       "4.10.14393.1198        681\n",
       "4.9.10586.672          614\n",
       "4.13.17134.191         576\n",
       "4.12.17007.17123       446\n",
       "4.18.1809.2            433\n",
       "4.9.10586.589          410\n",
       "4.10.14393.1613        383\n",
       "4.13.17134.112         354\n",
       "4.9.10586.1045         323\n",
       "                     ...  \n",
       "4.4.304.0               18\n",
       "4.8.10240.17184         18\n",
       "4.18.1807.20063         18\n",
       "4.8.10240.17861         12\n",
       "4.8.10240.17918         12\n",
       "4.10.14393.2248         10\n",
       "4.8.10240.17113         10\n",
       "4.10.14393.726           9\n",
       "4.8.10240.17609          7\n",
       "4.5.216.0                5\n",
       "4.10.14393.1532          4\n",
       "4.18.1807.18072          4\n",
       "4.18.1806.20021          4\n",
       "4.17.17672.1000          4\n",
       "4.17.17685.20082         3\n",
       "4.17.17677.1000          3\n",
       "4.15.17661.1001          3\n",
       "4.8.10240.17770          3\n",
       "4.8.10240.17533          2\n",
       "4.10.14393.2457          2\n",
       "4.17.17686.1003          2\n",
       "4.9.10586.456            2\n",
       "4.9.219.0                1\n",
       "4.18.1806.20015          1\n",
       "4.17.17682.1000          1\n",
       "4.8.10240.17943          1\n",
       "4.11.15063.1154          1\n",
       "4.18.1806.20033          1\n",
       "4.9.10586.1177           1\n",
       "4.4.306.0                1\n",
       "Name: AppVersion, Length: 88, dtype: int64"
      ]
     },
     "execution_count": 229,
     "metadata": {},
     "output_type": "execute_result"
    }
   ],
   "source": [
    "train['AppVersion'].value_counts()"
   ]
  },
  {
   "cell_type": "code",
   "execution_count": 230,
   "metadata": {
    "scrolled": false
   },
   "outputs": [
    {
     "data": {
      "text/plain": [
       "[<matplotlib.lines.Line2D at 0x7fa324ad59b0>]"
      ]
     },
     "execution_count": 230,
     "metadata": {},
     "output_type": "execute_result"
    },
    {
     "data": {
      "image/png": "[encoded data removed]",
      "text/plain": [
       "<Figure size 720x720 with 1 Axes>"
      ]
     },
     "metadata": {
      "needs_background": "light"
     },
     "output_type": "display_data"
    },
    {
     "data": {
      "image/png": "[encoded data removed]",
      "text/plain": [
       "<Figure size 720x720 with 1 Axes>"
      ]
     },
     "metadata": {
      "needs_background": "light"
     },
     "output_type": "display_data"
    },
    {
     "data": {
      "image/png": "[encoded data removed]",
      "text/plain": [
       "<Figure size 720x720 with 1 Axes>"
      ]
     },
     "metadata": {
      "needs_background": "light"
     },
     "output_type": "display_data"
    }
   ],
   "source": [
    "#histogram of value counts\n",
    "value_counts = train['AppVersion'].value_counts()\n",
    "\n",
    "plt.figure(figsize=(10,10))\n",
    "plt.hist(value_counts)\n",
    "\n",
    "plt.figure(figsize=(10,10))\n",
    "plt.hist(value_counts[1:])\n",
    "\n",
    "plt.figure(figsize=(10,10))\n",
    "plt.xticks(rotation=90)\n",
    "plt.plot(value_counts.sort_index(), 'p-')\n",
    "#plt.yscale('log')\n",
    "#plt.title(\"NOTE LOG SCALE\")"
   ]
  },
  {
   "cell_type": "code",
   "execution_count": 231,
   "metadata": {},
   "outputs": [],
   "source": [
    "def find_mi_threshold(train, colname, n_low = 1, n_high = None):\n",
    "    '''Since we'll only use this for categorical variables, cast to strings\n",
    "    '''\n",
    "    value_counts = train[colname].value_counts()\n",
    "    value_counts.index = [str(i) for i in value_counts.index]\n",
    "\n",
    "    if n_high is None:\n",
    "        n_high = len(value_counts)\n",
    "    \n",
    "    train_df_orig = train[[colname]].copy() #contains only 1 col\n",
    "    train_df_orig[colname] = train_df_orig[colname].astype(str) #contains only 1 col\n",
    "    \n",
    "    mi_values = {}\n",
    "    for i in range(n_low, n_high+1): #can be made smarter\n",
    "        top_values= list(value_counts[0:i].index)\n",
    "\n",
    "        train_df = train_df_orig.copy() #contains only 1 col\n",
    "        train_df[~train_df[colname].isin(top_values)] = 'rest'\n",
    "\n",
    "        mi_values[i] = mutual_info_score(train_df[colname], train['HasDetections'])\n",
    "        \n",
    "    return mi_values\n"
   ]
  },
  {
   "cell_type": "code",
   "execution_count": 232,
   "metadata": {},
   "outputs": [],
   "source": [
    "def find_mi_threshold_parallel(train, colname, n_low = 1, n_high = None, n_jobs=1):\n",
    "    '''compute mutual information if all values below a threshold and combined\n",
    "       can be made smarter with binary search like algorithm\n",
    "    '''\n",
    "\n",
    "    values = train[colname].astype(str).fillna('null')\n",
    "    \n",
    "    value_counts = values.value_counts()\n",
    "\n",
    "    if n_high is None:\n",
    "        n_high = len(value_counts)\n",
    "    \n",
    "    train_df_orig = pd.DataFrame(values)\n",
    "    \n",
    "    manager = mp.Manager()\n",
    "    mi_values = manager.dict()\n",
    "\n",
    "    def calc_mi(value_counts, train_df_orig, colname, mi_values, i):\n",
    "        top_values= list(value_counts[0:i].index)\n",
    "\n",
    "        train_df = train_df_orig.copy()\n",
    "        train_df[~train_df[colname].isin(top_values)] = 'rest'\n",
    "\n",
    "        mi_values[i] = mutual_info_score(train_df[colname], train['HasDetections'])\n",
    "    \n",
    "    proc_list = []\n",
    "    counter = 0\n",
    "    for i in range(n_low, n_high+1): #can be made smarter\n",
    "        proc = mp.Process(target=calc_mi, args=(value_counts, train_df_orig, colname, mi_values, i))\n",
    "        proc.start()\n",
    "        proc_list.append(proc)\n",
    "        counter += 1\n",
    "        \n",
    "        if counter % n_jobs == 0:\n",
    "            [p.join() for p in proc_list]\n",
    "            proc_list = []\n",
    "            \n",
    "    [p.join() for p in proc_list]\n",
    "        \n",
    "    mi_values = dict(mi_values)\n",
    "    \n",
    "    return mi_values"
   ]
  },
  {
   "cell_type": "code",
   "execution_count": 233,
   "metadata": {},
   "outputs": [],
   "source": [
    "colname = 'AppVersion'"
   ]
  },
  {
   "cell_type": "code",
   "execution_count": 234,
   "metadata": {},
   "outputs": [
    {
     "name": "stdout",
     "output_type": "stream",
     "text": [
      "CPU times: user 3.62 s, sys: 0 ns, total: 3.62 s\n",
      "Wall time: 3.65 s\n"
     ]
    }
   ],
   "source": [
    "%time mi_values = find_mi_threshold(train, colname, n_low=1, n_high=20)"
   ]
  },
  {
   "cell_type": "code",
   "execution_count": 235,
   "metadata": {},
   "outputs": [
    {
     "name": "stdout",
     "output_type": "stream",
     "text": [
      "CPU times: user 62.2 ms, sys: 1.49 s, total: 1.55 s\n",
      "Wall time: 2.34 s\n"
     ]
    }
   ],
   "source": [
    "%time mi_values_parallel = find_mi_threshold_parallel(train, colname, n_low=1, n_high=20, n_jobs=10)"
   ]
  },
  {
   "cell_type": "code",
   "execution_count": 236,
   "metadata": {},
   "outputs": [
    {
     "data": {
      "text/plain": [
       "[(20, 0.0053558851970620085),\n",
       " (19, 0.005354440034860453),\n",
       " (18, 0.005338071972602594),\n",
       " (17, 0.005337837147967338),\n",
       " (16, 0.00511543512858955),\n",
       " (15, 0.005113602199735442),\n",
       " (14, 0.004884094113280044),\n",
       " (13, 0.0048073931077146255),\n",
       " (12, 0.004807389124171307),\n",
       " (11, 0.0047597628215642444),\n",
       " (10, 0.004695495222370758),\n",
       " (9, 0.003793293370802177),\n",
       " (8, 0.003728575133978146),\n",
       " (7, 0.0037240390170964408),\n",
       " (6, 0.0037211839242612885),\n",
       " (5, 0.0030646872632917807),\n",
       " (4, 0.0027106839285903905),\n",
       " (3, 0.002503341479958912),\n",
       " (2, 0.0024921460550770547),\n",
       " (1, 0.002331964847755885)]"
      ]
     },
     "execution_count": 236,
     "metadata": {},
     "output_type": "execute_result"
    }
   ],
   "source": [
    "sorted(mi_values.items(), key=operator.itemgetter(1), reverse=True)"
   ]
  },
  {
   "cell_type": "code",
   "execution_count": 237,
   "metadata": {},
   "outputs": [
    {
     "data": {
      "text/plain": [
       "[(20, 0.0053558851970620085),\n",
       " (19, 0.005354440034860453),\n",
       " (18, 0.005338071972602594),\n",
       " (17, 0.005337837147967338),\n",
       " (16, 0.00511543512858955),\n",
       " (15, 0.005113602199735442),\n",
       " (14, 0.004884094113280044),\n",
       " (13, 0.0048073931077146255),\n",
       " (12, 0.004807389124171307),\n",
       " (11, 0.0047597628215642444),\n",
       " (10, 0.004695495222370758),\n",
       " (9, 0.003793293370802177),\n",
       " (8, 0.003728575133978146),\n",
       " (7, 0.0037240390170964408),\n",
       " (6, 0.0037211839242612885),\n",
       " (5, 0.0030646872632917807),\n",
       " (4, 0.0027106839285903905),\n",
       " (3, 0.002503341479958912),\n",
       " (2, 0.0024921460550770547),\n",
       " (1, 0.002331964847755885)]"
      ]
     },
     "execution_count": 237,
     "metadata": {},
     "output_type": "execute_result"
    }
   ],
   "source": [
    "sorted(mi_values_parallel.items(), key=operator.itemgetter(1), reverse=True)"
   ]
  },
  {
   "cell_type": "code",
   "execution_count": 238,
   "metadata": {},
   "outputs": [
    {
     "data": {
      "text/plain": [
       "[<matplotlib.lines.Line2D at 0x7fa3247656d8>]"
      ]
     },
     "execution_count": 238,
     "metadata": {},
     "output_type": "execute_result"
    },
    {
     "data": {
      "image/png": "[encoded data removed]",
      "text/plain": [
       "<Figure size 720x720 with 1 Axes>"
      ]
     },
     "metadata": {
      "needs_background": "light"
     },
     "output_type": "display_data"
    }
   ],
   "source": [
    "plt.figure(figsize=(10,10))\n",
    "plt.plot(mi_values.keys(), mi_values.values(), 'p')\n",
    "plt.plot(mi_values_parallel.keys(), mi_values_parallel.values(), 'p', color='r', marker='+', markersize=30)\n",
    "plt.plot(mi_values.keys(), [mutual_info_score(train[colname], train['HasDetections'])]*len(mi_values), color='black')"
   ]
  },
  {
   "cell_type": "markdown",
   "metadata": {},
   "source": [
    "As before we see some saturation once we pick the top 16 values for AppVersion and combine the rest."
   ]
  },
  {
   "cell_type": "code",
   "execution_count": 239,
   "metadata": {},
   "outputs": [],
   "source": [
    "assert(colname=='AppVersion')\n",
    "\n",
    "train_df = train[[colname]].copy()\n",
    "test_df = test[[colname]].copy()\n",
    "\n",
    "top_values = list(value_counts[0:17].index)\n",
    "\n",
    "train_df[~train_df[colname].isin(top_values)] = 'rest'\n",
    "test_df[~test_df[colname].isin(top_values)] = 'rest'\n",
    "\n",
    "train_df = pd.get_dummies(train_df[[colname]], dummy_na=True)\n",
    "test_df = pd.get_dummies(test_df[[colname]], dummy_na=True)"
   ]
  },
  {
   "cell_type": "code",
   "execution_count": 240,
   "metadata": {},
   "outputs": [
    {
     "name": "stderr",
     "output_type": "stream",
     "text": [
      "/home/sanjay/.local/lib/python3.6/site-packages/sklearn/ensemble/forest.py:246: FutureWarning: The default value of n_estimators will change from 10 in version 0.20 to 100 in 0.22.\n",
      "  \"10 in version 0.20 to 100 in 0.22.\", FutureWarning)\n"
     ]
    },
    {
     "name": "stdout",
     "output_type": "stream",
     "text": [
      "col = HasDetections : train_score = 0.5452048070012151 : test_score = 0.5461229774465911\n"
     ]
    }
   ],
   "source": [
    "model = RandomForestClassifier()\n",
    "model.fit(train_df, train['HasDetections'])\n",
    "\n",
    "train_pred = model.predict_proba(train_df)[:,1] #prob of belonging to class 1\n",
    "test_pred = model.predict_proba(test_df)[:,1]\n",
    "\n",
    "train_labels = train['HasDetections']\n",
    "test_labels = test['HasDetections']\n",
    "\n",
    "train_score = roc_auc_score(train_labels, train_pred)\n",
    "test_score = roc_auc_score(test_labels, test_pred)\n",
    "\n",
    "print(f'col = {col} : train_score = {train_score} : test_score = {test_score}')"
   ]
  },
  {
   "cell_type": "markdown",
   "metadata": {},
   "source": [
    "At this stage, this might seem trivial. After all, we are doing only slightly better than random (AUC=0.5). But as before, this is just with one feature - AppVersion!\n",
    "\n",
    "## Aside: Models with multiple features\n",
    "\n",
    "Let's take a small detour now that we have explored two columns - EngineVersion (AUC = 0.56) and AppVersion (AUC = 0.54).\n",
    "\n",
    "Ideally, we would like to build a model that uses both values and see how well it does. Let's try that now!"
   ]
  },
  {
   "cell_type": "markdown",
   "metadata": {},
   "source": [
    "#### Question: Write a function that takes the train and test datasets as well as column names to be one-hot encoded with their respective n values. The function should return a one-hot encoded dataframe. This will be used to train a new model that will include interactions between various columns."
   ]
  },
  {
   "cell_type": "code",
   "execution_count": 252,
   "metadata": {},
   "outputs": [],
   "source": [
    "def create_one_hot(train, test, colnames, thresholds):\n",
    "    '''Create one-hot encoded df with colnames\n",
    "    '''\n",
    "    assert(len(colnames)==len(thresholds))\n",
    "    \n",
    "    train_df = train[colnames].astype(str).fillna('null').copy()\n",
    "    test_df = test[colnames].astype(str).fillna('null').copy()\n",
    "\n",
    "    train_list, test_list = [], []\n",
    "    for index, col in enumerate(colnames):\n",
    "        if not check_train_test_1hot(train_df, test_df, col):\n",
    "            print(f'Problem with col = {col}. Combining into \"rest\"')\n",
    "            #continue\n",
    "\n",
    "        value_counts = train_df[col].value_counts()\n",
    "        \n",
    "        top_values = list(value_counts[0:thresholds[index]].index)\n",
    "        \n",
    "        #two possibilities:\n",
    "        #train has elements missing in test -> test has less columns than train\n",
    "        #test has elements missing in train -> get assigned to 'rest' (and these elements are low in value_counts)\n",
    "\n",
    "        train_df[~train_df[col].isin(top_values)] = f'rest_{col}'\n",
    "        test_df[~test_df[col].isin(top_values)] = f'rest_{col}' #if value not in train, combined into rest\n",
    "        \n",
    "        train_list.append( pd.get_dummies(train_df[[col]], dummy_na=False) )\n",
    "        test_list.append( pd.get_dummies(test_df[[col]], dummy_na=False) )\n",
    "\n",
    "    train_df = pd.concat(train_list, axis=1)\n",
    "    test_df = pd.concat(test_list, axis=1)\n",
    "    \n",
    "    return train_df, test_df"
   ]
  },
  {
   "cell_type": "code",
   "execution_count": 253,
   "metadata": {},
   "outputs": [
    {
     "name": "stdout",
     "output_type": "stream",
     "text": [
      "Problem with col = EngineVersion. Combining into \"rest\"\n",
      "Problem with col = AppVersion. Combining into \"rest\"\n"
     ]
    }
   ],
   "source": [
    "train_df, test_df = create_one_hot(train, test, ['EngineVersion', 'AppVersion'], [11, 17])"
   ]
  },
  {
   "cell_type": "code",
   "execution_count": 254,
   "metadata": {},
   "outputs": [
    {
     "name": "stdout",
     "output_type": "stream",
     "text": [
      "(267644, 30)\n",
      "(178430, 30)\n"
     ]
    }
   ],
   "source": [
    "print(train_df.shape)\n",
    "print(test_df.shape)"
   ]
  },
  {
   "cell_type": "code",
   "execution_count": 255,
   "metadata": {},
   "outputs": [
    {
     "name": "stdout",
     "output_type": "stream",
     "text": [
      "EngineVersion_1.1.13504.0\n",
      "EngineVersion_1.1.14104.0\n",
      "EngineVersion_1.1.14500.5\n",
      "EngineVersion_1.1.14600.4\n",
      "EngineVersion_1.1.14800.3\n",
      "EngineVersion_1.1.14901.4\n",
      "EngineVersion_1.1.15000.2\n",
      "EngineVersion_1.1.15100.1\n",
      "EngineVersion_1.1.15200.1\n",
      "EngineVersion_1.1.15300.5\n",
      "EngineVersion_1.1.15300.6\n",
      "EngineVersion_rest_EngineVersion\n",
      "AppVersion_4.10.14393.0\n",
      "AppVersion_4.10.209.0\n",
      "AppVersion_4.11.15063.0\n",
      "AppVersion_4.11.15063.447\n",
      "AppVersion_4.12.16299.15\n",
      "AppVersion_4.12.17007.18011\n",
      "AppVersion_4.12.17007.18022\n",
      "AppVersion_4.13.17134.1\n",
      "AppVersion_4.13.17134.228\n",
      "AppVersion_4.14.17639.18041\n",
      "AppVersion_4.16.17656.18052\n",
      "AppVersion_4.18.1806.18062\n",
      "AppVersion_4.18.1807.18075\n",
      "AppVersion_4.8.10240.17443\n",
      "AppVersion_4.9.10586.0\n",
      "AppVersion_4.9.10586.1106\n",
      "AppVersion_rest_AppVersion\n",
      "AppVersion_rest_EngineVersion\n"
     ]
    }
   ],
   "source": [
    "#for loop just for formatting\n",
    "for col in train_df:\n",
    "    print(col)"
   ]
  },
  {
   "cell_type": "markdown",
   "metadata": {},
   "source": [
    "#### Question: Write a function that takes an untrained model instance, the model-ready train and test datasets and returns a trained model as well as the train and test scores."
   ]
  },
  {
   "cell_type": "code",
   "execution_count": 256,
   "metadata": {},
   "outputs": [],
   "source": [
    "def build_model(model, train_df, test_df, train, test):\n",
    "    '''Given a model instance, train and calculate train/test scores\n",
    "    '''\n",
    "    model.fit(train_df, train['HasDetections'])\n",
    "\n",
    "    train_pred = model.predict_proba(train_df)[:,1] #prob of belonging to class 1\n",
    "    test_pred = model.predict_proba(test_df)[:,1]\n",
    "\n",
    "    train_labels = train['HasDetections']\n",
    "    test_labels = test['HasDetections']\n",
    "\n",
    "    train_score = roc_auc_score(train_labels, train_pred)\n",
    "    test_score = roc_auc_score(test_labels, test_pred)\n",
    "\n",
    "    print(f'train_score = {train_score} : test_score = {test_score}')\n",
    "    \n",
    "    return model, train_score, test_score"
   ]
  },
  {
   "cell_type": "markdown",
   "metadata": {},
   "source": [
    "#### Question: Train a model on both EngineVersion and AppVersion"
   ]
  },
  {
   "cell_type": "code",
   "execution_count": 257,
   "metadata": {},
   "outputs": [
    {
     "name": "stderr",
     "output_type": "stream",
     "text": [
      "/home/sanjay/.local/lib/python3.6/site-packages/sklearn/ensemble/forest.py:246: FutureWarning: The default value of n_estimators will change from 10 in version 0.20 to 100 in 0.22.\n",
      "  \"10 in version 0.20 to 100 in 0.22.\", FutureWarning)\n"
     ]
    },
    {
     "name": "stdout",
     "output_type": "stream",
     "text": [
      "train_score = 0.5780891111101096 : test_score = 0.5763587829034976\n"
     ]
    }
   ],
   "source": [
    "model = RandomForestClassifier()\n",
    "\n",
    "model,_,_ = build_model(model, train_df, test_df, train, test)"
   ]
  },
  {
   "cell_type": "markdown",
   "metadata": {},
   "source": [
    "So combining the two variables into one model gave us a significant boost!\n",
    "\n",
    "EngineVersion - AUC = ~0.560\n",
    "\n",
    "AppVersion - AUC = ~0.545\n",
    "\n",
    "Combine - AUC = ~0.580 (3% improvement over EngineVersion i.e. 0.560)\n",
    "\n",
    "If EngineVersion and AppVersion were perfectly correlated (i.e. in 1-1 correspondence for categorical variables), we would see no improvement by combining them."
   ]
  },
  {
   "cell_type": "markdown",
   "metadata": {},
   "source": [
    "## End of Aside: Models with multiple features"
   ]
  },
  {
   "cell_type": "markdown",
   "metadata": {},
   "source": [
    "# col = SmartScreen"
   ]
  },
  {
   "cell_type": "markdown",
   "metadata": {},
   "source": [
    "We have our machinery setup so as long as columns are categorical, we can just keep applying it"
   ]
  },
  {
   "cell_type": "markdown",
   "metadata": {},
   "source": [
    "#### Question: Use all your previous functions to 1) find the appropriate n for SmartScreen, 2) one-hot encode the dataframe, 3) build a model."
   ]
  },
  {
   "cell_type": "code",
   "execution_count": 258,
   "metadata": {},
   "outputs": [
    {
     "name": "stdout",
     "output_type": "stream",
     "text": [
      "12\n"
     ]
    },
    {
     "data": {
      "text/plain": [
       "RequireAdmin    129548\n",
       "null             95257\n",
       "ExistsNotSet     31456\n",
       "Off               5540\n",
       "Warn              4047\n",
       "Prompt            1010\n",
       "Block              688\n",
       "off                 43\n",
       "On                  22\n",
       "&#x02;              18\n",
       "on                  10\n",
       "&#x01;               5\n",
       "Name: SmartScreen, dtype: int64"
      ]
     },
     "execution_count": 258,
     "metadata": {},
     "output_type": "execute_result"
    }
   ],
   "source": [
    "colname = 'SmartScreen'\n",
    "\n",
    "value_counts = train[colname].fillna('null').value_counts()\n",
    "\n",
    "print(len(value_counts))\n",
    "value_counts"
   ]
  },
  {
   "cell_type": "code",
   "execution_count": 259,
   "metadata": {},
   "outputs": [],
   "source": [
    "#Mutual information scan to find best # of value counts to combine\n",
    "\n",
    "assert(colname=='SmartScreen')\n",
    "\n",
    "mi_values = find_mi_threshold_parallel(train, colname, n_low=2, n_high=19, n_jobs=10)"
   ]
  },
  {
   "cell_type": "code",
   "execution_count": 260,
   "metadata": {},
   "outputs": [
    {
     "data": {
      "text/plain": [
       "[(11, 0.02814638807738941),\n",
       " (12, 0.028146388077389402),\n",
       " (13, 0.028146388077389402),\n",
       " (14, 0.028146388077389402),\n",
       " (15, 0.028146388077389402),\n",
       " (16, 0.028146388077389402),\n",
       " (17, 0.028146388077389402),\n",
       " (18, 0.028146388077389402),\n",
       " (19, 0.028146388077389402),\n",
       " (10, 0.028146059011790955),\n",
       " (9, 0.02813596081970362),\n",
       " (8, 0.028131230726896647),\n",
       " (7, 0.02813122665545323),\n",
       " (6, 0.028124873503598682),\n",
       " (5, 0.02812243875995425),\n",
       " (4, 0.028070078699535962),\n",
       " (3, 0.02798945932437928),\n",
       " (2, 0.02183924832732556)]"
      ]
     },
     "execution_count": 260,
     "metadata": {},
     "output_type": "execute_result"
    }
   ],
   "source": [
    "assert(colname=='SmartScreen')\n",
    "\n",
    "sorted(mi_values.items(), key=operator.itemgetter(1), reverse=True)"
   ]
  },
  {
   "cell_type": "code",
   "execution_count": 261,
   "metadata": {},
   "outputs": [
    {
     "data": {
      "text/plain": [
       "[<matplotlib.lines.Line2D at 0x7fa321807fd0>]"
      ]
     },
     "execution_count": 261,
     "metadata": {},
     "output_type": "execute_result"
    },
    {
     "data": {
      "image/png": "[encoded data removed]",
      "text/plain": [
       "<Figure size 720x720 with 1 Axes>"
      ]
     },
     "metadata": {
      "needs_background": "light"
     },
     "output_type": "display_data"
    }
   ],
   "source": [
    "assert(colname=='SmartScreen')\n",
    "\n",
    "plt.figure(figsize=(10,10))\n",
    "plt.plot(mi_values.keys(), mi_values.values(), 'p')\n",
    "plt.plot(mi_values.keys(), [mutual_info_score(train[colname].astype(str).fillna('null'), train['HasDetections'])]*len(mi_values))"
   ]
  },
  {
   "cell_type": "code",
   "execution_count": 262,
   "metadata": {},
   "outputs": [
    {
     "name": "stdout",
     "output_type": "stream",
     "text": [
      "Problem with col = EngineVersion. Combining into \"rest\"\n",
      "Problem with col = AppVersion. Combining into \"rest\"\n",
      "Problem with col = SmartScreen. Combining into \"rest\"\n"
     ]
    }
   ],
   "source": [
    "train_df, test_df = create_one_hot(train, test, ['EngineVersion', 'AppVersion', 'SmartScreen'], [11, 17, 6])"
   ]
  },
  {
   "cell_type": "code",
   "execution_count": 263,
   "metadata": {},
   "outputs": [
    {
     "name": "stderr",
     "output_type": "stream",
     "text": [
      "/home/sanjay/.local/lib/python3.6/site-packages/sklearn/ensemble/forest.py:246: FutureWarning: The default value of n_estimators will change from 10 in version 0.20 to 100 in 0.22.\n",
      "  \"10 in version 0.20 to 100 in 0.22.\", FutureWarning)\n"
     ]
    },
    {
     "name": "stdout",
     "output_type": "stream",
     "text": [
      "train_score = 0.6345966484046746 : test_score = 0.6319473859939191\n"
     ]
    }
   ],
   "source": [
    "model = RandomForestClassifier(n_jobs=10)\n",
    "model,_,_ = build_model(model, train_df, test_df, train, test)"
   ]
  },
  {
   "cell_type": "markdown",
   "metadata": {},
   "source": [
    "**AUC = 0.635**"
   ]
  },
  {
   "cell_type": "markdown",
   "metadata": {},
   "source": [
    "### Notebooks vs modules\n",
    "\n",
    "This is a highly opinionated comment. Notebooks are great for small examples to be shared but get unwieldy with large amounts of code. One major headache is the presence of global variables that might be initialized with the wrong values. For example, we often use \"colname\" above and have to insert assert statements to ensure we are always working with a single column.\n",
    "\n",
    "In practice, I prefer using a simple text editor like sublime or emacs and ipython on the command line. At this stage in this project, I am putting in all functions in a utils.py file that we'll use from now on.\n",
    "\n",
    "#### Contents of util.py\n",
    "\n",
    "**read_data**: read data\n",
    "return train, test (created)\n",
    "\n",
    "**explore_one_hot**: logic to identify categorical vs float cols (just looks at types for now)\n",
    "return unique, categorical_cols, float_cols\n",
    "\n",
    "**find_threshold(train, colname, n_iter, cutoff)**: binary search to find number of values in colname to bunch together to get mi(colname, target) within cutoff% of full mi\n",
    "return threshold (None if not found) \n",
    "\n",
    "**find_all_thresholds(train, col_list, n_iter, cutoff)**: binary search to find number of values for every col in col_list\n",
    "return threshold_list #same length as col_list\n",
    "\n",
    "**create_one_hot(train, test, colnames, thresholds)**: for each categorical column, bunch low frequency values (using output of find_all_thresholds) together, do 1-hot encoding and create final train and test df\n",
    "return train_df, test_df #only for categorical cols\n",
    "\n",
    "\n",
    "**build_model(model, train_df, test_df, train, test)**: train_df, test_df are a concatenation of categorical 1-hot encoded and float cols.\n",
    "return model, train_score, test_score"
   ]
  },
  {
   "cell_type": "markdown",
   "metadata": {},
   "source": [
    "#### Question: Take a look at the sequence below and the functions used. We can use this machine to do multiple experiments."
   ]
  },
  {
   "cell_type": "code",
   "execution_count": 264,
   "metadata": {},
   "outputs": [],
   "source": [
    "# Example sequence of full flow using functions from utils.py\n",
    "execute=False\n",
    "\n",
    "if execute:\n",
    "    #read data and identify column types\n",
    "    train, test = utils.read_data()\n",
    "    unique, categorical_cols, float_cols = utils.explore_one_hot(train)\n",
    "\n",
    "    #df with float cols\n",
    "    train_df_float = train[float_cols].fillna(0)\n",
    "    test_df_float = test[float_cols].fillna(0)\n",
    "\n",
    "    #get thresholds for categorical columns\n",
    "    thresh_list_20 = utils.find_all_thresholds(train, categorical_cols, 20, 0.20, debug=True)\n",
    "    thresh_list_20_copy = copy.copy(thresh_list_20)\n",
    "    thresh_list_20_copy[0] = 50 #since 0th entry too high\n",
    "\n",
    "    #create 1-hot datasets\n",
    "    train_df_cat, test_df_cat = utils.create_one_hot(train, test, categorical_cols, thresh_list_20_copy)\n",
    "    cols = list(set(train_df_cat.columns).intersection(test_df_cat.columns))\n",
    "\n",
    "    train_df_cat = train_df_cat[cols]\n",
    "    test_df_cat = test_df_cat[cols]\n",
    "\n",
    "    #train model\n",
    "    model = utils.RandomForestClassifier(n_estimators=10, n_jobs=10, max_depth=15)\n",
    "    model, train_score, test_score = utils.build_model(model, train_df_cat, test_df_cat, train, test)"
   ]
  },
  {
   "cell_type": "markdown",
   "metadata": {},
   "source": [
    "## Combining all features\n",
    "\n",
    "Till now we have explored one feature at a time - either by looking at mutual information, building single-factor models or even by looking at groupbys.\n",
    "\n",
    "While this gave us some intuition and helped us clean up the data, it is generally NOT optimal for discovering which features are the most important. While we got decently performing models, our end goal is 1) to build a simple, generalizable, well-performing model, 2) to understand the dynamics of our problem i.e. to understand what the key factors for the presence of malware are.\n",
    "\n",
    "By building models using just one feature, we ignore the **interactions** between features. The features are not independent but affect each other and we want to account for those."
   ]
  },
  {
   "cell_type": "markdown",
   "metadata": {},
   "source": [
    "#### Question: Go through the code below and understand what feature importances are (ask questions!). We find the most important features and then throw away everything else."
   ]
  },
  {
   "cell_type": "code",
   "execution_count": 265,
   "metadata": {},
   "outputs": [
    {
     "name": "stderr",
     "output_type": "stream",
     "text": [
      "/home/sanjay/.local/lib/python3.6/site-packages/IPython/core/interactiveshell.py:3185: DtypeWarning: Columns (28) have mixed types. Specify dtype option on import or set low_memory=False.\n",
      "  if (yield from self.run_code(code, result)):\n"
     ]
    }
   ],
   "source": [
    "train, test = utils.read_data()"
   ]
  },
  {
   "cell_type": "code",
   "execution_count": 266,
   "metadata": {},
   "outputs": [],
   "source": [
    "unique, categorical_cols, float_cols = utils.explore_one_hot(train)"
   ]
  },
  {
   "cell_type": "code",
   "execution_count": 267,
   "metadata": {},
   "outputs": [],
   "source": [
    "train_df_float = train[float_cols].fillna(0)\n",
    "test_df_float = test[float_cols].fillna(0)"
   ]
  },
  {
   "cell_type": "code",
   "execution_count": 268,
   "metadata": {},
   "outputs": [],
   "source": [
    "#conserve memory\n",
    "train.drop(float_cols, axis=1, inplace=True)\n",
    "test.drop(float_cols, axis=1, inplace=True)"
   ]
  },
  {
   "cell_type": "code",
   "execution_count": 269,
   "metadata": {
    "scrolled": true
   },
   "outputs": [
    {
     "name": "stdout",
     "output_type": "stream",
     "text": [
      "mid_point=2748 - shift=1374 - values=[0 0 0]\n",
      "mid_point=4122 - shift=687 - values=[1 1 1]\n",
      "mid_point=3435 - shift=343 - values=[0 0 0]\n",
      "mid_point=3778 - shift=171 - values=[1 1 1]\n",
      "mid_point=3607 - shift=85 - values=[0 0 0]\n",
      "mid_point=3692 - shift=42 - values=[1 1 1]\n",
      "mid_point=3650 - shift=21 - values=[1 1 1]\n",
      "mid_point=3629 - shift=10 - values=[0 0 0]\n",
      "mid_point=3639 - shift=5 - values=[1 1 1]\n",
      "mid_point=3634 - shift=2 - values=[0 0 1]\n",
      "Thresh for col=AvSigVersion is 3635\n",
      "mid_point=208 - shift=104 - values=[1 1 1]\n",
      "mid_point=104 - shift=52 - values=[1 1 1]\n",
      "mid_point=52 - shift=26 - values=[0 0 0]\n",
      "mid_point=78 - shift=13 - values=[0 0 0]\n",
      "mid_point=91 - shift=6 - values=[1 1 1]\n",
      "mid_point=85 - shift=3 - values=[1 1 1]\n",
      "mid_point=82 - shift=1 - values=[1 1 1]\n",
      "mid_point=81 - shift=1 - values=[0 1 1]\n",
      "Thresh for col=OsBuildLab is 81\n",
      "mid_point=140 - shift=70 - values=[1 1 1]\n",
      "mid_point=70 - shift=35 - values=[0 0 0]\n",
      "mid_point=105 - shift=17 - values=[1 1 1]\n",
      "mid_point=88 - shift=8 - values=[1 1 1]\n",
      "mid_point=80 - shift=4 - values=[0 0 0]\n",
      "mid_point=84 - shift=2 - values=[0 0 0]\n",
      "mid_point=86 - shift=1 - values=[0 1 1]\n",
      "Thresh for col=Census_OSVersion is 86\n",
      "mid_point=44 - shift=22 - values=[1 1 1]\n",
      "mid_point=22 - shift=11 - values=[1 1 1]\n",
      "mid_point=11 - shift=5 - values=[1 1 1]\n",
      "mid_point=6 - shift=2 - values=[0 0 0]\n",
      "mid_point=8 - shift=1 - values=[0 0 0]\n",
      "mid_point=9 - shift=1 - values=[0 0 1]\n",
      "Thresh for col=AppVersion is 10\n",
      "mid_point=24 - shift=12 - values=[1 1 1]\n",
      "mid_point=12 - shift=6 - values=[1 1 1]\n",
      "mid_point=6 - shift=3 - values=[1 1 1]\n",
      "mid_point=3 - shift=1 - values=[1 1 1]\n",
      "mid_point=2 - shift=1 - values=[0 1 1]\n",
      "Thresh for col=EngineVersion is 2\n",
      "mid_point=15 - shift=7 - values=[1 1 1]\n",
      "mid_point=8 - shift=3 - values=[0 0 0]\n",
      "mid_point=11 - shift=1 - values=[1 1 1]\n",
      "mid_point=10 - shift=1 - values=[0 1 1]\n",
      "Thresh for col=Census_ChassisTypeName is 10\n",
      "mid_point=12 - shift=6 - values=[0 1 1]\n",
      "Thresh for col=Census_InternalBatteryType is 12\n",
      "mid_point=11 - shift=5 - values=[1 1 1]\n",
      "mid_point=6 - shift=2 - values=[1 1 1]\n",
      "mid_point=4 - shift=1 - values=[1 1 1]\n",
      "mid_point=3 - shift=1 - values=[1 1 1]\n",
      "mid_point=2 - shift=1 - values=[0 1 1]\n",
      "Thresh for col=Census_OSEdition is 2\n",
      "mid_point=10 - shift=5 - values=[1 1 1]\n",
      "mid_point=5 - shift=2 - values=[1 1 1]\n",
      "mid_point=3 - shift=1 - values=[1 1 1]\n",
      "mid_point=2 - shift=1 - values=[0 1 1]\n",
      "Thresh for col=Census_OSSkuName is 2\n",
      "mid_point=6 - shift=3 - values=[1 1 1]\n",
      "mid_point=3 - shift=1 - values=[0 1 1]\n",
      "Thresh for col=Census_OSBranch is 3\n",
      "mid_point=6 - shift=3 - values=[1 1 1]\n",
      "mid_point=3 - shift=1 - values=[0 1 1]\n",
      "Thresh for col=SmartScreen is 3\n",
      "mid_point=6 - shift=3 - values=[0 0 0]\n",
      "mid_point=9 - shift=1 - values=[0 0 1]\n",
      "Thresh for col=OsVer is 10\n",
      "mid_point=5 - shift=2 - values=[0 0 1]\n",
      "Thresh for col=Census_MDC2FormFactor is 6\n",
      "mid_point=5 - shift=2 - values=[1 1 1]\n",
      "mid_point=3 - shift=1 - values=[0 1 1]\n",
      "Thresh for col=Census_PowerPlatformRoleName is 3\n",
      "mid_point=4 - shift=2 - values=[1 1 1]\n",
      "mid_point=2 - shift=1 - values=[0 1 1]\n",
      "Thresh for col=Census_OSInstallTypeName is 2\n",
      "mid_point=4 - shift=2 - values=[1 1 1]\n",
      "mid_point=2 - shift=1 - values=[0 1 1]\n",
      "Thresh for col=OsPlatformSubRelease is 2\n",
      "mid_point=4 - shift=2 - values=[0 0 0]\n",
      "mid_point=6 - shift=1 - values=[0 1 1]\n",
      "Thresh for col=SkuEdition is 6\n",
      "mid_point=3 - shift=1 - values=[1 1 1]\n",
      "mid_point=2 - shift=1 - values=[0 1 1]\n",
      "Thresh for col=Census_FlightRing is 2\n",
      "mid_point=3 - shift=1 - values=[1 1 1]\n",
      "mid_point=2 - shift=1 - values=[0 1 1]\n",
      "Thresh for col=Census_OSWUAutoUpdateOptionsName is 2\n",
      "mid_point=3 - shift=1 - values=[0 1 1]\n",
      "Thresh for col=Census_ActivationChannel is 3\n",
      "mid_point=2 - shift=1 - values=[0 1 1]\n",
      "Thresh for col=Census_PrimaryDiskTypeName is 2\n",
      "mid_point=2 - shift=1 - values=[0 1 1]\n",
      "Thresh for col=ProductName is 2\n",
      "mid_point=2 - shift=1 - values=[0 0 1]\n",
      "Thresh for col=Platform is 3\n",
      "mid_point=2 - shift=1 - values=[0 0 1]\n",
      "Thresh for col=Census_ProcessorClass is 3\n",
      "mid_point=2 - shift=1 - values=[0 0 1]\n",
      "Thresh for col=Census_GenuineStateName is 3\n",
      "mid_point=1 - shift=0 - values=[0 1 1]\n",
      "Thresh for col=Processor is 1\n",
      "mid_point=1 - shift=0 - values=[0 1 1]\n",
      "Thresh for col=Census_OSArchitecture is 1\n",
      "mid_point=1 - shift=0 - values=[0 1 1]\n",
      "Thresh for col=Census_DeviceFamily is 1\n",
      "mid_point=1 - shift=0 - values=[0 1 1]\n",
      "Thresh for col=PuaMode is 1\n"
     ]
    }
   ],
   "source": [
    "thresh_list_1 = utils.find_all_thresholds(train, categorical_cols, 20, 0.20, debug=True)\n",
    "thresh_list_1_copy = copy.copy(thresh_list_1)"
   ]
  },
  {
   "cell_type": "code",
   "execution_count": 270,
   "metadata": {},
   "outputs": [
    {
     "name": "stdout",
     "output_type": "stream",
     "text": [
      "AvSigVersion 3635\n",
      "OsBuildLab 81\n",
      "Census_OSVersion 86\n",
      "AppVersion 10\n",
      "EngineVersion 2\n",
      "Census_ChassisTypeName 10\n",
      "Census_InternalBatteryType 12\n",
      "Census_OSEdition 2\n",
      "Census_OSSkuName 2\n",
      "Census_OSBranch 3\n",
      "SmartScreen 3\n",
      "OsVer 10\n",
      "Census_MDC2FormFactor 6\n",
      "Census_PowerPlatformRoleName 3\n",
      "Census_OSInstallTypeName 2\n",
      "OsPlatformSubRelease 2\n",
      "SkuEdition 6\n",
      "Census_FlightRing 2\n",
      "Census_OSWUAutoUpdateOptionsName 2\n",
      "Census_ActivationChannel 3\n",
      "Census_PrimaryDiskTypeName 2\n",
      "ProductName 2\n",
      "Platform 3\n",
      "Census_ProcessorClass 3\n",
      "Census_GenuineStateName 3\n",
      "Processor 1\n",
      "Census_OSArchitecture 1\n",
      "Census_DeviceFamily 1\n",
      "PuaMode 1\n"
     ]
    }
   ],
   "source": [
    "for i in range(len(thresh_list_1)):\n",
    "    print(categorical_cols[i], thresh_list_1[i])"
   ]
  },
  {
   "cell_type": "code",
   "execution_count": 272,
   "metadata": {},
   "outputs": [
    {
     "name": "stdout",
     "output_type": "stream",
     "text": [
      "Problem with col = OsBuildLab. Combining into \"rest\"\n",
      "Problem with col = Census_OSVersion. Combining into \"rest\"\n",
      "Problem with col = AppVersion. Combining into \"rest\"\n",
      "Problem with col = EngineVersion. Combining into \"rest\"\n",
      "Problem with col = Census_ChassisTypeName. Combining into \"rest\"\n",
      "Problem with col = Census_InternalBatteryType. Combining into \"rest\"\n",
      "Problem with col = Census_OSEdition. Combining into \"rest\"\n"
     ]
    }
   ],
   "source": [
    "train_df_cat, test_df_cat = utils.create_one_hot(train, test, categorical_cols[1:], thresh_list_1[1:])\n",
    "cols = list(set(train_df_cat.columns).intersection(test_df_cat.columns))\n",
    "\n",
    "train_df_cat = train_df_cat[cols]\n",
    "test_df_cat = test_df_cat[cols]"
   ]
  },
  {
   "cell_type": "code",
   "execution_count": 273,
   "metadata": {},
   "outputs": [],
   "source": [
    "train_df_cat = sparse.csr_matrix(train_df_cat)\n",
    "test_df_cat = sparse.csr_matrix(test_df_cat)"
   ]
  },
  {
   "cell_type": "code",
   "execution_count": 274,
   "metadata": {},
   "outputs": [
    {
     "name": "stdout",
     "output_type": "stream",
     "text": [
      "train_score = 0.6136289241529869 : test_score = 0.5942384324142509\n"
     ]
    }
   ],
   "source": [
    "#all categorical features\n",
    "model_cat = utils.RandomForestClassifier(n_estimators=15, n_jobs=10, max_depth=15)\n",
    "model_cat, _, _ = utils.build_model(model_cat, train_df_cat, test_df_cat, train, test)"
   ]
  },
  {
   "cell_type": "code",
   "execution_count": 276,
   "metadata": {},
   "outputs": [
    {
     "name": "stdout",
     "output_type": "stream",
     "text": [
      "train_score = 0.7368158817198867 : test_score = 0.6376610685738329\n"
     ]
    }
   ],
   "source": [
    "#all float features\n",
    "model_float = utils.RandomForestClassifier(n_estimators=10, n_jobs=10, max_depth=15)\n",
    "model_float, _, _ = utils.build_model(model_float, train_df_float, test_df_float, train, test)"
   ]
  },
  {
   "cell_type": "code",
   "execution_count": 277,
   "metadata": {},
   "outputs": [
    {
     "name": "stdout",
     "output_type": "stream",
     "text": [
      "(267644, 52)\n",
      "(267644, 274)\n"
     ]
    }
   ],
   "source": [
    "print(train_df_float.shape)\n",
    "print(train_df_cat.shape)"
   ]
  },
  {
   "cell_type": "code",
   "execution_count": 278,
   "metadata": {},
   "outputs": [],
   "source": [
    "feat_imp_cat = sorted(zip(cols, model_cat.feature_importances_), key=operator.itemgetter(1), reverse=True)"
   ]
  },
  {
   "cell_type": "code",
   "execution_count": 279,
   "metadata": {},
   "outputs": [],
   "source": [
    "feat_imp_float = sorted(zip(train_df_float.columns, model_float.feature_importances_), key=operator.itemgetter(1), reverse=True)"
   ]
  },
  {
   "cell_type": "code",
   "execution_count": 280,
   "metadata": {},
   "outputs": [
    {
     "data": {
      "text/plain": [
       "Text(0.5, 1.0, 'feature importances for categorical features')"
      ]
     },
     "execution_count": 280,
     "metadata": {},
     "output_type": "execute_result"
    },
    {
     "data": {
      "image/png": "[encoded data removed]",
      "text/plain": [
       "<Figure size 720x720 with 1 Axes>"
      ]
     },
     "metadata": {
      "needs_background": "light"
     },
     "output_type": "display_data"
    }
   ],
   "source": [
    "plt.figure(figsize=(10,10))\n",
    "plt.plot([feat_imp_cat[i][1] for i in range(len(feat_imp_cat))], 'p-')\n",
    "plt.xlabel('index')\n",
    "plt.ylabel('feature importance')\n",
    "plt.title('feature importances for categorical features')"
   ]
  },
  {
   "cell_type": "code",
   "execution_count": 281,
   "metadata": {},
   "outputs": [
    {
     "data": {
      "text/plain": [
       "Text(0.5, 1.0, 'feature importances for float features')"
      ]
     },
     "execution_count": 281,
     "metadata": {},
     "output_type": "execute_result"
    },
    {
     "data": {
      "image/png": "[encoded data removed]",
      "text/plain": [
       "<Figure size 720x720 with 1 Axes>"
      ]
     },
     "metadata": {
      "needs_background": "light"
     },
     "output_type": "display_data"
    }
   ],
   "source": [
    "plt.figure(figsize=(10,10))\n",
    "plt.plot([feat_imp_float[i][1] for i in range(len(feat_imp_float))], 'p-')\n",
    "plt.xlabel('index')\n",
    "plt.ylabel('feature importance')\n",
    "plt.title('feature importances for float features')"
   ]
  },
  {
   "cell_type": "code",
   "execution_count": 282,
   "metadata": {},
   "outputs": [],
   "source": [
    "float_selected_features = [i[0] for i in feat_imp_float[0:8]]"
   ]
  },
  {
   "cell_type": "code",
   "execution_count": 283,
   "metadata": {},
   "outputs": [
    {
     "data": {
      "text/plain": [
       "['AVProductStatesIdentifier',\n",
       " 'AVProductsInstalled',\n",
       " 'Census_SystemVolumeTotalCapacity',\n",
       " 'Census_ProcessorModelIdentifier',\n",
       " 'CityIdentifier',\n",
       " 'Census_InternalPrimaryDiagonalDisplaySizeInInches',\n",
       " 'Census_FirmwareVersionIdentifier',\n",
       " 'Census_OEMModelIdentifier']"
      ]
     },
     "execution_count": 283,
     "metadata": {},
     "output_type": "execute_result"
    }
   ],
   "source": [
    "float_selected_features"
   ]
  },
  {
   "cell_type": "code",
   "execution_count": 284,
   "metadata": {},
   "outputs": [],
   "source": [
    "cat_selected_features = [i[0] for i in feat_imp_cat[0:50]]"
   ]
  },
  {
   "cell_type": "code",
   "execution_count": 285,
   "metadata": {},
   "outputs": [
    {
     "data": {
      "text/plain": [
       "array(['AppVersion', 'Census', 'EngineVersion', 'OsBuildLab',\n",
       "       'OsPlatformSubRelease', 'OsVer', 'ProductName', 'SmartScreen'],\n",
       "      dtype='<U20')"
      ]
     },
     "execution_count": 285,
     "metadata": {},
     "output_type": "execute_result"
    }
   ],
   "source": [
    "np.unique([i.split('_')[0] for i in cat_selected_features])"
   ]
  },
  {
   "cell_type": "code",
   "execution_count": 286,
   "metadata": {},
   "outputs": [
    {
     "name": "stdout",
     "output_type": "stream",
     "text": [
      "Problem with col = OsBuildLab. Combining into \"rest\"\n",
      "Problem with col = Census_OSVersion. Combining into \"rest\"\n",
      "Problem with col = AppVersion. Combining into \"rest\"\n",
      "Problem with col = EngineVersion. Combining into \"rest\"\n",
      "Problem with col = Census_ChassisTypeName. Combining into \"rest\"\n",
      "Problem with col = Census_InternalBatteryType. Combining into \"rest\"\n",
      "Problem with col = Census_OSEdition. Combining into \"rest\"\n"
     ]
    }
   ],
   "source": [
    "train_df_cat, test_df_cat = utils.create_one_hot(train, test, categorical_cols[1:], thresh_list_1[1:])\n",
    "cols = list(set(train_df_cat.columns).intersection(test_df_cat.columns))\n",
    "\n",
    "train_df_cat = train_df_cat[cat_selected_features]\n",
    "test_df_cat = test_df_cat[cat_selected_features]"
   ]
  },
  {
   "cell_type": "code",
   "execution_count": 287,
   "metadata": {},
   "outputs": [],
   "source": [
    "train_df = pd.concat([train_df_cat, train_df_float[float_selected_features]], axis=1)\n",
    "test_df = pd.concat([test_df_cat, test_df_float[float_selected_features]], axis=1)"
   ]
  },
  {
   "cell_type": "code",
   "execution_count": 288,
   "metadata": {},
   "outputs": [
    {
     "name": "stdout",
     "output_type": "stream",
     "text": [
      "train_score = 0.7178324918812333 : test_score = 0.6376952086927935\n"
     ]
    }
   ],
   "source": [
    "model_comb = utils.RandomForestClassifier(n_estimators=10, n_jobs=10, max_depth=15)\n",
    "model_comb,_,_ = utils.build_model(model_comb, train_df, test_df, train, test)"
   ]
  },
  {
   "cell_type": "code",
   "execution_count": 289,
   "metadata": {},
   "outputs": [
    {
     "name": "stdout",
     "output_type": "stream",
     "text": [
      "Problem with col = AvSigVersion. Combining into \"rest\"\n"
     ]
    }
   ],
   "source": [
    "#Add AvSigVersion back\n",
    "train_avsig, test_avsig = utils.create_one_hot(train, test, ['AvSigVersion'], [200])"
   ]
  },
  {
   "cell_type": "code",
   "execution_count": 290,
   "metadata": {},
   "outputs": [],
   "source": [
    "train_df = pd.concat([train_df, train_avsig], axis=1)\n",
    "test_df = pd.concat([test_df, test_avsig], axis=1)"
   ]
  },
  {
   "cell_type": "code",
   "execution_count": 291,
   "metadata": {},
   "outputs": [
    {
     "name": "stdout",
     "output_type": "stream",
     "text": [
      "train_score = 0.6763055746015707 : test_score = 0.6361229185269562\n"
     ]
    }
   ],
   "source": [
    "model_comb = utils.RandomForestClassifier(n_estimators=10, n_jobs=10, max_depth=15)\n",
    "model_comb,_,_ = utils.build_model(model_comb, train_df, test_df, train, test)"
   ]
  },
  {
   "cell_type": "markdown",
   "metadata": {},
   "source": [
    "# Alternate Feature Engineering\n",
    "\n",
    "So far we have worked with categorical variables where there's no notion of order or ranking. We dealt with this issue by 1-hot encoding all categorical features and grouping the rarer values together. The risk with such an approach is that we are throwing exactly the values that matter. We looked at mutual information to alleviate this issue but let's now take a different approach.\n",
    "\n",
    "Instead of 1-hot encoding categorical features, we'll get the % of times each value occurs and then replace the value by this %."
   ]
  },
  {
   "cell_type": "code",
   "execution_count": 292,
   "metadata": {},
   "outputs": [],
   "source": [
    "train_df_cat_replace, test_df_cat_replace = utils.replace_by_values(train, test, categorical_cols)"
   ]
  },
  {
   "cell_type": "code",
   "execution_count": 293,
   "metadata": {},
   "outputs": [],
   "source": [
    "train_df = pd.concat([train_df_float, train_df_cat_replace], axis=1)\n",
    "test_df = pd.concat([test_df_float, test_df_cat_replace], axis=1)"
   ]
  },
  {
   "cell_type": "code",
   "execution_count": 295,
   "metadata": {},
   "outputs": [
    {
     "name": "stdout",
     "output_type": "stream",
     "text": [
      "train_score = 0.704973411940623 : test_score = 0.684137511060523\n"
     ]
    }
   ],
   "source": [
    "model = utils.RandomForestClassifier(n_estimators=100, max_depth=10, n_jobs=10)\n",
    "model, train_score, test_score = utils.build_model(model, train_df, test_df, train, test) #fix signature"
   ]
  },
  {
   "cell_type": "markdown",
   "metadata": {},
   "source": [
    "This is interesting! Not doing 1-hot encoding and treating this feature as an integer gives much better performance as doing the 1-hot encoding with none of the major preprocessing work. This is natural in model building. A lot of time is spent exploring and experimenting which supplies the intuition for next steps. Someone looking at the final model might find it trivial or straightforward but what gets hidden are the multiple blind alleys."
   ]
  },
  {
   "cell_type": "markdown",
   "metadata": {},
   "source": [
    "## Calibrating with Kaggle\n",
    "\n",
    "This is an important point if you are competing on Kaggle. Kaggle gave us both the train (labels known to us) and test (labels unknown to us but known to Kaggle) datasets. When we make predictions on the test set and submit the answers, Kaggle computes the AUC only on 63% of the test data and displays it on a leaderboard. We don't know which 63% they use! At the end of the competition, Kaggle computes the AUC on the remaining 37% and that's the score that is used to rank competitors.\n",
    "\n",
    "This is done to preven overfitting to the leaderboard i.e. to ensure that the solutions will actually be useful on future new datasets.\n",
    "\n",
    "For a competitor, this means a couple of things:\n",
    "\n",
    "1. Occasionally (at least once), build a model, compute your validation score (on the test set you set aside during training), compute predictions on the actual test set, make the submission to Kaggle and ensure the leaderboard score you get there is similar to your validation score. If not, either there's a bug on your end (biased sampling) or Kaggle has chosen a special 63%.\n",
    "\n",
    "2. Once you have faith in your cross-validation process, seek to improve the score by feature engineering and better models rather than constantly submitting to Kaggle and using improved scores to decide what steps to follow. This will result in overfitting to the leaderboard which can often lead to worse performance on the remaining 37%."
   ]
  },
  {
   "cell_type": "markdown",
   "metadata": {},
   "source": [
    "### Understanding the errors\n",
    "\n",
    "While we have a reasonable model with an AUC of 0.67 on the test set, we want to understand all the errors made by the model. This is a **crucial** step that is often missed but leads to a better understanding of the model."
   ]
  },
  {
   "cell_type": "markdown",
   "metadata": {},
   "source": [
    "#### Question: Run the code below. What do the various histograms imply?"
   ]
  },
  {
   "cell_type": "code",
   "execution_count": 296,
   "metadata": {},
   "outputs": [],
   "source": [
    "#predict probabilities of belonging to class 1\n",
    "train_pred = model.predict_proba(train_df)[:,1]\n",
    "test_pred = model.predict_proba(test_df)[:,1]"
   ]
  },
  {
   "cell_type": "code",
   "execution_count": 297,
   "metadata": {},
   "outputs": [
    {
     "data": {
      "text/plain": [
       "<matplotlib.legend.Legend at 0x7fa2b75dc080>"
      ]
     },
     "execution_count": 297,
     "metadata": {},
     "output_type": "execute_result"
    },
    {
     "data": {
      "image/png": "[encoded data removed]",
      "text/plain": [
       "<Figure size 720x720 with 3 Axes>"
      ]
     },
     "metadata": {
      "needs_background": "light"
     },
     "output_type": "display_data"
    }
   ],
   "source": [
    "#plot probability distribution in train for classes 0 and 1\n",
    "fig = plt.figure(figsize=(10,10))\n",
    "ax = fig.add_subplot(311)\n",
    "n,b,p = plt.hist(train_pred[train['HasDetections']==0], color='b', label='0', bins=20);\n",
    "plt.hist(train_pred[train['HasDetections']==1], color='y', label='1', bins=b);\n",
    "plt.legend()\n",
    "\n",
    "ax = fig.add_subplot(312)\n",
    "plt.hist(train_pred[train['HasDetections']==1], color='y', label='1', bins=b);\n",
    "plt.hist(train_pred[train['HasDetections']==0], color='b', label='0', bins=b);\n",
    "plt.legend()\n",
    "\n",
    "\n",
    "ax = fig.add_subplot(313)\n",
    "plt.hist(train_pred[train['HasDetections']==0], label='0', bins=b, fc=(0,0,1,0.4));\n",
    "plt.hist(train_pred[train['HasDetections']==1], label='1', bins=b, fc=(1,0,0,0.4));\n",
    "plt.legend()"
   ]
  },
  {
   "cell_type": "code",
   "execution_count": 298,
   "metadata": {},
   "outputs": [
    {
     "data": {
      "text/plain": [
       "<matplotlib.legend.Legend at 0x7fa2ae97cef0>"
      ]
     },
     "execution_count": 298,
     "metadata": {},
     "output_type": "execute_result"
    },
    {
     "data": {
      "image/png": "[encoded data removed]",
      "text/plain": [
       "<Figure size 720x720 with 3 Axes>"
      ]
     },
     "metadata": {
      "needs_background": "light"
     },
     "output_type": "display_data"
    }
   ],
   "source": [
    "#plot probability distribution in test for classes 0 and 1\n",
    "fig = plt.figure(figsize=(10,10))\n",
    "ax = fig.add_subplot(311)\n",
    "n,b,p = plt.hist(test_pred[test['HasDetections']==0], color='b', label='0', bins=20);\n",
    "plt.hist(test_pred[test['HasDetections']==1], color='y', label='1', bins=b);\n",
    "plt.legend()\n",
    "\n",
    "ax = fig.add_subplot(312)\n",
    "plt.hist(test_pred[test['HasDetections']==1], color='y', label='1', bins=b);\n",
    "plt.hist(test_pred[test['HasDetections']==0], color='b', label='0', bins=b);\n",
    "plt.legend()\n",
    "\n",
    "\n",
    "ax = fig.add_subplot(313)\n",
    "plt.hist(test_pred[test['HasDetections']==0], label='0', bins=b, fc=(0,0,1,0.4));\n",
    "plt.hist(test_pred[test['HasDetections']==1], label='1', bins=b, fc=(1,0,0,0.4));\n",
    "plt.legend()"
   ]
  },
  {
   "cell_type": "markdown",
   "metadata": {},
   "source": [
    "As one can see, the distribution of scores for both classes (in either train or test) are pretty wide. In partiular, while at the tails, one class dominates, for most examples, the scores are similar in the bulk of the distribution. A better model would separate these two distributions more i.e. class 1 would have systematically higher scores than class 0 and then we could pick a threshold to separate them."
   ]
  },
  {
   "cell_type": "markdown",
   "metadata": {},
   "source": [
    "Let's start by studying the lower tail of the yellow histogram (label = 1 with low probabilities) and the higher tail ofthe blue histogram (label = 0 with high probabilities)"
   ]
  },
  {
   "cell_type": "code",
   "execution_count": 299,
   "metadata": {},
   "outputs": [],
   "source": [
    "test_label0_incorrect = test_df[(test['HasDetections']==1) & (test_pred<0.4)]\n",
    "test_label0_correct = test_df[(test['HasDetections']==1) & (test_pred>0.65)]\n",
    "\n",
    "test_label1_incorrect = test_df[(test['HasDetections']==0) & (test_pred>0.6)]\n",
    "test_label1_correct = test_df[(test['HasDetections']==0) & (test_pred<0.4)]"
   ]
  },
  {
   "cell_type": "code",
   "execution_count": 300,
   "metadata": {},
   "outputs": [
    {
     "data": {
      "text/plain": [
       "<matplotlib.legend.Legend at 0x7fa2b3089390>"
      ]
     },
     "execution_count": 300,
     "metadata": {},
     "output_type": "execute_result"
    },
    {
     "data": {
      "image/png": "[encoded data removed]",
      "text/plain": [
       "<Figure size 720x720 with 1 Axes>"
      ]
     },
     "metadata": {
      "needs_background": "light"
     },
     "output_type": "display_data"
    }
   ],
   "source": [
    "colname = 'AvSigVersion'\n",
    "\n",
    "fig = plt.figure(figsize=(10,10))\n",
    "plt.hist(test_label0_correct[colname], label='0 c');\n",
    "plt.hist(test_label0_incorrect[colname], label='0 ic');\n",
    "plt.legend()"
   ]
  },
  {
   "cell_type": "markdown",
   "metadata": {},
   "source": [
    "#### NOTE: We won't dive into the details here since this is often an ad-hoc process but understanding the errors often leads to much better ideas for feature engineering and modeling."
   ]
  },
  {
   "cell_type": "markdown",
   "metadata": {},
   "source": [
    "## Aside: Different modeling techniques\n",
    "\n",
    "Let's take a second detour. We have only tried one modeling technique - Random Forests - till now. While they are flexible, we should either try random forests with different parameters or even other techniques.\n",
    "\n",
    "### Exploring Random Forests\n",
    "\n",
    "(This is a cursory introduction - for more details, see slides)\n",
    "\n",
    "Random forests are groups (hence the forest) of decision trees. A decision tree is essentially a sequence of if-else statements that will give us relatively pure (either HasDetections = 1 mostly or HasDetections = 0 mostly) at the end of each branch sequence.\n",
    "\n",
    "Instead of writing the if-else blocks by hand, we learn them in a decision tree. For each if-else block, we need two quantities - what variable to make a decision on and what the threshold should be to decide between the if and else block. \n",
    "\n",
    "A decision tree solves this conundrum in the simplest possible way - greedily. In other words, it loops through every feature/column/variable, and for each one, tries every possible threshold amongs the value the data actually takes and looks at the purity of the sample after the decision. The purity is simply a measure of how many 1s vs 0s the target has before and after the cut. For example, if before the cut, the data has 50% 1s and 50% 0s (like our dataset) and after making a cut, the if-statement gives all 1s and else-statement gives all 0s, then we are done. We have a perfect model. In practice, the algorithm chooses the variable and cut which gives the highest increase in purity.\n",
    "\n",
    "Purity can be measured several ways but one common measure is Gini which for our case would be:\n",
    "\n",
    "$p(1-p)$\n",
    "\n",
    "where p = probability (%) of rows that are labeled HasDetections=1.\n",
    "\n",
    "Another measure of purity is entropy, defined as:\n",
    "\n",
    "$S = -\\Sigma_{i \\in \\text{categories}} p_i \\log(p_i)$\n",
    "\n",
    "These metrics would be averaged over the if-block and the else-block.\n",
    "\n",
    "For regression, variance in each block is a very good metric.\n",
    "\n",
    "What then is a random forest? A random forest is a joint decision made by n (chosen by you) decision trees. We want these trees to be as independent as possible. This is done in two ways:\n",
    "\n",
    "1. Each tree only looks at a randomly selected subset of the data (rows).\n",
    "\n",
    "2. Each node in a given tree only decides which features to use out of a randomly selected subset of features."
   ]
  },
  {
   "cell_type": "code",
   "execution_count": 301,
   "metadata": {},
   "outputs": [],
   "source": [
    "#Try a RandomForestClassifier\n"
   ]
  },
  {
   "attachments": {
    "image.png": {
     "image/png": "[encoded data removed]"
    }
   },
   "cell_type": "markdown",
   "metadata": {},
   "source": [
    "Another technique often used for classification is **Logistic Regression**. The basic idea is simple:\n",
    "\n",
    "Given N features $x_1, x_2, \\ldots x_n$, compute a linear combination:\n",
    "\n",
    "$a = a_1 x_1 + \\ldots + a_n x_n + b$ \n",
    "\n",
    "and compute a probability of belonging to class 1:\n",
    "\n",
    "$p = \\sigma(a) = \\frac{1}{1 + e^{-a}} \\in [0,1]$\n",
    "\n",
    "where $\\sigma$ is the classic **sigmoid** function.\n",
    "\n",
    "![image.png](attachment:image.png)\n",
    "\n",
    "The $a_i, b$ parameters are found by minimizing cross-entropy loss:\n",
    "\n",
    "$\\mathcal{L} = -\\Sigma_{i=1}^{N} y_i \\log(p_i) + (1-y_i) \\log(1-p_i)$\n",
    "\n",
    "where $y_i$ is the label (either 0 or 1) and $p_i$ is the predicted probability.\n",
    "\n",
    "Logistic regression is a linear method i.e. the linear combination ensures that the methods looks for a plane (a linear surface) in the n-dimensional feature space to separate class 0 from class 1. In the special case, when there are two input features, x and y, the linear combination:\n",
    "\n",
    "$a_1 x + a_2 y + b = 0$ \n",
    "\n",
    "(such that $\\sigma(a_1 x + a_2 y + b) =0.5$)\n",
    "\n",
    "defines the surface called the **decision boundary** which separates the two classes and it's a straight line in the x-y plane.\n",
    "\n",
    "We don't expect logistic regression to do very well on the input data with the alternate featurization (using value counts). This is because by featurizing this way, we are imposing additional constraints on the linear model that are not true. As an example, consider a categorical column D that takes two unique values A (60%), B (30%) and C (10%). We are replacing all instances of A by 60%, all of B by 30% and all of C by 10%. So logistic regression will compute $a$ as follows:\n",
    "\n",
    "D = A: $a_A = b + a_1*0.6$\n",
    "\n",
    "D = B: $a_B = b + a_1*0.3$\n",
    "\n",
    "D = C: $a_C = b + a_1*0.1$\n",
    "\n",
    "If $a_1 > 0$, then we have:\n",
    "\n",
    "$a_A > a_B > a_C \\rightarrow (p_A > p_B > p_C$)\n",
    "\n",
    "If $a_1 < 0$, then we have:\n",
    "\n",
    "$a_A < a_B < a_C \\rightarrow (p_A < p_B < p_C$)\n",
    "\n",
    "Either way the fact that we imposed an order on the features for A, B and C, results in logistic regression always obeying the same order for the probabilities. In general though, there are 3! = 6 permutations or possible orderings of these three factors but instead of learning through data, we are forcefully imposing one of two and logistic regression can at most pick one of two permutations by picking the sign of the weight $a_1$.\n",
    "\n",
    "A solution is to go back to using the 1-hot encoded data here which we leave as an exercise."
   ]
  },
  {
   "cell_type": "code",
   "execution_count": 116,
   "metadata": {},
   "outputs": [],
   "source": [
    "#Try a Logistic Regression model"
   ]
  },
  {
   "cell_type": "code",
   "execution_count": null,
   "metadata": {},
   "outputs": [],
   "source": []
  },
  {
   "cell_type": "markdown",
   "metadata": {},
   "source": [
    "### k-Nearest Neighbors\n",
    "\n",
    "The idea here is very simple. For each data row, find the k nearest input values (according to some distance metric you choose), and average their labels."
   ]
  },
  {
   "cell_type": "code",
   "execution_count": 117,
   "metadata": {},
   "outputs": [],
   "source": [
    "#Try a k-Nearest Neighbor model"
   ]
  },
  {
   "cell_type": "markdown",
   "metadata": {},
   "source": [
    "So we have two models - using completely different techniques and each gives roughly similar AUCs.\n",
    "\n",
    "What if we just average their predictions?"
   ]
  },
  {
   "cell_type": "code",
   "execution_count": 118,
   "metadata": {},
   "outputs": [
    {
     "ename": "NameError",
     "evalue": "name 'model1' is not defined",
     "output_type": "error",
     "traceback": [
      "\u001b[0;31m---------------------------------------------------------------------------\u001b[0m",
      "\u001b[0;31mNameError\u001b[0m                                 Traceback (most recent call last)",
      "\u001b[0;32m<ipython-input-118-c0fd80ad3e2e>\u001b[0m in \u001b[0;36m<module>\u001b[0;34m\u001b[0m\n\u001b[0;32m----> 1\u001b[0;31m \u001b[0mmodel1_train_pred\u001b[0m \u001b[0;34m=\u001b[0m \u001b[0mmodel1\u001b[0m\u001b[0;34m.\u001b[0m\u001b[0mpredict_proba\u001b[0m\u001b[0;34m(\u001b[0m\u001b[0mtrain_df\u001b[0m\u001b[0;34m)\u001b[0m\u001b[0;34m[\u001b[0m\u001b[0;34m:\u001b[0m\u001b[0;34m,\u001b[0m \u001b[0;36m1\u001b[0m\u001b[0;34m]\u001b[0m\u001b[0;34m\u001b[0m\u001b[0;34m\u001b[0m\u001b[0m\n\u001b[0m\u001b[1;32m      2\u001b[0m \u001b[0mmodel1_test_pred\u001b[0m \u001b[0;34m=\u001b[0m \u001b[0mmodel1\u001b[0m\u001b[0;34m.\u001b[0m\u001b[0mpredict_proba\u001b[0m\u001b[0;34m(\u001b[0m\u001b[0mtest_df\u001b[0m\u001b[0;34m)\u001b[0m\u001b[0;34m[\u001b[0m\u001b[0;34m:\u001b[0m\u001b[0;34m,\u001b[0m \u001b[0;36m1\u001b[0m\u001b[0;34m]\u001b[0m\u001b[0;34m\u001b[0m\u001b[0;34m\u001b[0m\u001b[0m\n\u001b[1;32m      3\u001b[0m \u001b[0;34m\u001b[0m\u001b[0m\n\u001b[1;32m      4\u001b[0m \u001b[0mmodel2_train_pred\u001b[0m \u001b[0;34m=\u001b[0m \u001b[0mmodel2\u001b[0m\u001b[0;34m.\u001b[0m\u001b[0mpredict_proba\u001b[0m\u001b[0;34m(\u001b[0m\u001b[0mtrain_df\u001b[0m\u001b[0;34m)\u001b[0m\u001b[0;34m[\u001b[0m\u001b[0;34m:\u001b[0m\u001b[0;34m,\u001b[0m \u001b[0;36m1\u001b[0m\u001b[0;34m]\u001b[0m\u001b[0;34m\u001b[0m\u001b[0;34m\u001b[0m\u001b[0m\n\u001b[1;32m      5\u001b[0m \u001b[0mmodel2_test_pred\u001b[0m \u001b[0;34m=\u001b[0m \u001b[0mmodel2\u001b[0m\u001b[0;34m.\u001b[0m\u001b[0mpredict_proba\u001b[0m\u001b[0;34m(\u001b[0m\u001b[0mtest_df\u001b[0m\u001b[0;34m)\u001b[0m\u001b[0;34m[\u001b[0m\u001b[0;34m:\u001b[0m\u001b[0;34m,\u001b[0m \u001b[0;36m1\u001b[0m\u001b[0;34m]\u001b[0m\u001b[0;34m\u001b[0m\u001b[0;34m\u001b[0m\u001b[0m\n",
      "\u001b[0;31mNameError\u001b[0m: name 'model1' is not defined"
     ]
    }
   ],
   "source": [
    "model1_train_pred = model1.predict_proba(train_df)[:, 1]\n",
    "model1_test_pred = model1.predict_proba(test_df)[:, 1]\n",
    "\n",
    "model2_train_pred = model2.predict_proba(train_df)[:, 1]\n",
    "model2_test_pred = model2.predict_proba(test_df)[:, 1]\n",
    "\n",
    "mean_train_pred = (model1_train_pred + model2_train_pred) / 2.\n",
    "mean_test_pred = (model1_test_pred + model2_test_pred) / 2."
   ]
  },
  {
   "cell_type": "code",
   "execution_count": null,
   "metadata": {},
   "outputs": [],
   "source": [
    "train_labels = train['HasDetections']\n",
    "test_labels = test['HasDetections']\n",
    "\n",
    "train_score = roc_auc_score(train_labels, mean_train_pred)\n",
    "test_score = roc_auc_score(test_labels, mean_test_pred)\n",
    "\n",
    "print(f'train_score = {train_score} : test_score = {test_score}')"
   ]
  },
  {
   "cell_type": "markdown",
   "metadata": {},
   "source": [
    "### Neural Networks\n",
    "\n",
    "We won't go into the details of a neural network here but here's a snippet showing how to use PyTorch to define a neural network."
   ]
  },
  {
   "cell_type": "code",
   "execution_count": 302,
   "metadata": {},
   "outputs": [],
   "source": [
    "import torch.nn as nn\n",
    "import torch\n",
    "\n",
    "device = torch.device(\"cuda:0\" if torch.cuda.is_available() else \"cpu\")\n",
    "\n",
    "class Net(nn.Module):\n",
    "    def __init__(self, N_input=79, N_output=1, N_hidden_layers=1, N_hidden_nodes=100):\n",
    "        super(Net, self).__init__()\n",
    "        \n",
    "        self.linear1 = nn.Linear(N_input, N_hidden_nodes)\n",
    "        \n",
    "        self.hidden = nn.ModuleList([])\n",
    "        for i in range(N_hidden_layers-1):\n",
    "            self.hidden.append(nn.Linear(N_hidden_nodes, N_hidden_nodes))\n",
    "        \n",
    "        self.linear2 = nn.Linear(N_hidden_nodes, N_output)\n",
    "        \n",
    "        self.activation = nn.ReLU()\n",
    "        \n",
    "        self.output_activation = nn.Sigmoid()\n",
    "        \n",
    "    def forward(self, x):\n",
    "        out = self.activation(self.linear1(x))\n",
    "        for layer in self.hidden:\n",
    "            out = self.activation(layer(out))\n",
    "        out = self.output_activation(self.linear2(out))\n",
    "        \n",
    "        return out"
   ]
  },
  {
   "cell_type": "markdown",
   "metadata": {},
   "source": [
    "### Ensembling: Some general notes\n",
    "\n",
    "We have built single models in the treatment above. In practice, training multiple models and combining them often leads to significantly better performance. While this sounds mysterious, we did exactly this in random forests. Instead of training one decision tree, we trainined several (10, 100 etc.) and combined the predictions made by each tree (by averaging).\n",
    "\n",
    "The combination of the predictions of multiple models is called **ensembling**.\n",
    "\n",
    "A few notes:\n",
    "1. Ensembling can give significant boosts in the performance metric and is almost always used in the top Kaggle entries.\n",
    "2. This extra performance comes at the cost of a) increased complexity during training - imagine 30 different models voting to create a single prediction, b) heightened dangers of overfitting - the general philosophy of training each model on a different dataset comes under stress when one is training 10s or 100s of models.\n",
    "3. Ensembling works best when the underlying models make \"different\" predictions i.e. they work well in different parts of the input space.\n",
    "\n",
    "#### Averaging:\n",
    "\n",
    "This is also often called **bagging** and involves just the following steps:\n",
    "\n",
    "1. Train N different models. These can use different techniques (Random Forests, k-nearest neighbor, support vector machines, neural networks) or even one technique with randomly initialized parameters (specially with neural networks).\n",
    "\n",
    "2. Average the predictions of all the models.\n",
    "\n",
    "There are subtleties when the probabilities aren't calibrated and often the scores are used to rank the predictions and average the ranks.\n",
    "\n",
    "#### Stacking and Blending:\n",
    "\n",
    "Note: if you get to this point, please let either of us know and we'll give you an intro to these two ensembling techniques.\n",
    "\n"
   ]
  },
  {
   "cell_type": "markdown",
   "metadata": {},
   "source": [
    "### Topics Not Covered (Yet)\n",
    "\n",
    "1. Details of probability calibration\n",
    "2. Hyperparameter tuning/scanning\n",
    "3. Unsupervised techniques to understand data better\n",
    "4. Exploration of errors (in detail)\n",
    "5. Ensembling - Stacking and Blending"
   ]
  }
 ],
 "metadata": {
  "kernelspec": {
   "display_name": "Python 3",
   "language": "python",
   "name": "python3"
  },
  "language_info": {
   "codemirror_mode": {
    "name": "ipython",
    "version": 3
   },
   "file_extension": ".py",
   "mimetype": "text/x-python",
   "name": "python",
   "nbconvert_exporter": "python",
   "pygments_lexer": "ipython3",
   "version": "3.6.8"
  }
 },
 "nbformat": 4,
 "nbformat_minor": 2
}
